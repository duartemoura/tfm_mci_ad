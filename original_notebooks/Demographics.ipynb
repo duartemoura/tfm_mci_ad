{
 "cells": [
  {
   "cell_type": "code",
   "execution_count": null,
   "metadata": {},
   "outputs": [],
   "source": [
    "\"\"\"Notebook for the extraction of demographic and clinical variables from ADNI. We use ADNI merge dataset"
   ]
  },
  {
   "cell_type": "code",
   "execution_count": 1,
   "metadata": {},
   "outputs": [],
   "source": [
    "import pandas as pd\n",
    "import numpy as np\n",
    "import matplotlib.pyplot as plt\n",
    "import os\n",
    "import xml.etree.cElementTree as et"
   ]
  },
  {
   "cell_type": "code",
   "execution_count": null,
   "metadata": {},
   "outputs": [],
   "source": [
    "#Get list of MCI"
   ]
  },
  {
   "cell_type": "code",
   "execution_count": 2,
   "metadata": {},
   "outputs": [],
   "source": [
    "subjectlist=os.listdir(\"/local_mount/space/celer/1/users/notebooks/moises/pdata/newdata/mcisplit/whole\")"
   ]
  },
  {
   "cell_type": "code",
   "execution_count": null,
   "metadata": {},
   "outputs": [],
   "source": [
    "#Get all PET dates from metadata in original ADNI folder"
   ]
  },
  {
   "cell_type": "code",
   "execution_count": 4,
   "metadata": {},
   "outputs": [],
   "source": [
    "dates=[]\n",
    "for i in subjectlist:\n",
    "    key=i[11:-4]\n",
    "    #print(key)\n",
    "    for element in os.listdir(\"/local_mount/space/celer/1/users/david/Datasets/new_ADNI/ADNI/\"):\n",
    "        if key in element:\n",
    "            #print(\"Got the key!\",element)\n",
    "            tree=et.parse(os.path.join(\"/local_mount/space/celer/1/users/david/Datasets/new_ADNI/ADNI/\",element))\n",
    "            raiz=tree.getroot()\n",
    "            for group in raiz.iter(\"dateAcquired\"):\n",
    "                a=group.text\n",
    "                #print(i,a)\n",
    "                dates.append(a)\n",
    "            break\n",
    "    "
   ]
  },
  {
   "cell_type": "code",
   "execution_count": null,
   "metadata": {},
   "outputs": [],
   "source": [
    "#Create object using ID and date, then we will check for presence in Merge and filter by this to get only data from\n",
    "#the patients in our dataset"
   ]
  },
  {
   "cell_type": "code",
   "execution_count": 5,
   "metadata": {},
   "outputs": [
    {
     "data": {
      "text/plain": [
       "'109_S_11142007'"
      ]
     },
     "execution_count": 5,
     "metadata": {},
     "output_type": "execute_result"
    }
   ],
   "source": [
    "subjectlist[0][:10]+dates[0][:4]"
   ]
  },
  {
   "cell_type": "code",
   "execution_count": 6,
   "metadata": {},
   "outputs": [],
   "source": [
    "presence={}\n",
    "for i,j in enumerate(subjectlist):\n",
    "    niu=j[:10]+dates[i][:4]\n",
    "    presence.update({niu:1})\n",
    "    "
   ]
  },
  {
   "cell_type": "code",
   "execution_count": 7,
   "metadata": {},
   "outputs": [],
   "source": [
    "pr=pd.DataFrame.from_dict(presence, orient='index',columns=['pres'])"
   ]
  },
  {
   "cell_type": "code",
   "execution_count": 8,
   "metadata": {},
   "outputs": [
    {
     "data": {
      "text/html": [
       "<div>\n",
       "<style scoped>\n",
       "    .dataframe tbody tr th:only-of-type {\n",
       "        vertical-align: middle;\n",
       "    }\n",
       "\n",
       "    .dataframe tbody tr th {\n",
       "        vertical-align: top;\n",
       "    }\n",
       "\n",
       "    .dataframe thead th {\n",
       "        text-align: right;\n",
       "    }\n",
       "</style>\n",
       "<table border=\"1\" class=\"dataframe\">\n",
       "  <thead>\n",
       "    <tr style=\"text-align: right;\">\n",
       "      <th></th>\n",
       "      <th>pres</th>\n",
       "    </tr>\n",
       "  </thead>\n",
       "  <tbody>\n",
       "    <tr>\n",
       "      <th>109_S_11142007</th>\n",
       "      <td>1</td>\n",
       "    </tr>\n",
       "    <tr>\n",
       "      <th>033_S_09062006</th>\n",
       "      <td>1</td>\n",
       "    </tr>\n",
       "    <tr>\n",
       "      <th>012_S_10332006</th>\n",
       "      <td>1</td>\n",
       "    </tr>\n",
       "    <tr>\n",
       "      <th>035_S_09972007</th>\n",
       "      <td>1</td>\n",
       "    </tr>\n",
       "    <tr>\n",
       "      <th>109_S_62212019</th>\n",
       "      <td>1</td>\n",
       "    </tr>\n",
       "    <tr>\n",
       "      <th>...</th>\n",
       "      <td>...</td>\n",
       "    </tr>\n",
       "    <tr>\n",
       "      <th>137_S_06692006</th>\n",
       "      <td>1</td>\n",
       "    </tr>\n",
       "    <tr>\n",
       "      <th>037_S_61252018</th>\n",
       "      <td>1</td>\n",
       "    </tr>\n",
       "    <tr>\n",
       "      <th>073_S_09092006</th>\n",
       "      <td>1</td>\n",
       "    </tr>\n",
       "    <tr>\n",
       "      <th>041_S_14202007</th>\n",
       "      <td>1</td>\n",
       "    </tr>\n",
       "    <tr>\n",
       "      <th>131_S_04092007</th>\n",
       "      <td>1</td>\n",
       "    </tr>\n",
       "  </tbody>\n",
       "</table>\n",
       "<p>373 rows × 1 columns</p>\n",
       "</div>"
      ],
      "text/plain": [
       "                pres\n",
       "109_S_11142007     1\n",
       "033_S_09062006     1\n",
       "012_S_10332006     1\n",
       "035_S_09972007     1\n",
       "109_S_62212019     1\n",
       "...              ...\n",
       "137_S_06692006     1\n",
       "037_S_61252018     1\n",
       "073_S_09092006     1\n",
       "041_S_14202007     1\n",
       "131_S_04092007     1\n",
       "\n",
       "[373 rows x 1 columns]"
      ]
     },
     "execution_count": 8,
     "metadata": {},
     "output_type": "execute_result"
    }
   ],
   "source": [
    "pr"
   ]
  },
  {
   "cell_type": "code",
   "execution_count": 9,
   "metadata": {},
   "outputs": [
    {
     "name": "stdout",
     "output_type": "stream",
     "text": [
      "/local_mount/space/celer/1/users/notebooks/moises\n"
     ]
    }
   ],
   "source": [
    "cd /local_mount/space/celer/1/users/notebooks/moises"
   ]
  },
  {
   "cell_type": "code",
   "execution_count": 10,
   "metadata": {},
   "outputs": [
    {
     "name": "stderr",
     "output_type": "stream",
     "text": [
      "/autofs/space/celer_001/users/software/miniconda3/envs/DL/lib/python3.8/site-packages/IPython/core/interactiveshell.py:3146: DtypeWarning: Columns (19,20,21,104,105,106) have mixed types.Specify dtype option on import or set low_memory=False.\n",
      "  has_raised = await self.run_ast_nodes(code_ast.body, cell_name,\n"
     ]
    }
   ],
   "source": [
    "merge=pd.read_csv('ADNIMERGE.csv')"
   ]
  },
  {
   "cell_type": "code",
   "execution_count": 11,
   "metadata": {},
   "outputs": [],
   "source": [
    "a=list(merge['PTID'])\n",
    "b=list(merge['EXAMDATE'])\n",
    "newthing={}\n",
    "for i,j in enumerate(a):\n",
    "    c=j+b[i][:4]\n",
    "    newthing.update({i:c})  "
   ]
  },
  {
   "cell_type": "code",
   "execution_count": 13,
   "metadata": {},
   "outputs": [],
   "source": [
    "nw=pd.DataFrame.from_dict(newthing,orient='index', columns=['newid'])"
   ]
  },
  {
   "cell_type": "code",
   "execution_count": 14,
   "metadata": {},
   "outputs": [],
   "source": [
    "mergy=pd.concat((merge,nw),axis=1)"
   ]
  },
  {
   "cell_type": "code",
   "execution_count": 16,
   "metadata": {},
   "outputs": [],
   "source": [
    "mergy=mergy.set_index('newid')"
   ]
  },
  {
   "cell_type": "code",
   "execution_count": null,
   "metadata": {},
   "outputs": [],
   "source": [
    "#This line gets the first entry in the year in case there are two"
   ]
  },
  {
   "cell_type": "code",
   "execution_count": 17,
   "metadata": {},
   "outputs": [],
   "source": [
    "mergy = mergy[~mergy.index.duplicated(keep='first')]"
   ]
  },
  {
   "cell_type": "code",
   "execution_count": 18,
   "metadata": {},
   "outputs": [],
   "source": [
    "demo=pd.concat((mergy,pr),axis=1)"
   ]
  },
  {
   "cell_type": "code",
   "execution_count": null,
   "metadata": {},
   "outputs": [],
   "source": [
    "#And here we drop the values from patients not in our dataset"
   ]
  },
  {
   "cell_type": "code",
   "execution_count": 20,
   "metadata": {},
   "outputs": [],
   "source": [
    "demo=demo.dropna(subset=['pres'])"
   ]
  },
  {
   "cell_type": "code",
   "execution_count": 23,
   "metadata": {},
   "outputs": [
    {
     "data": {
      "text/html": [
       "<div>\n",
       "<style scoped>\n",
       "    .dataframe tbody tr th:only-of-type {\n",
       "        vertical-align: middle;\n",
       "    }\n",
       "\n",
       "    .dataframe tbody tr th {\n",
       "        vertical-align: top;\n",
       "    }\n",
       "\n",
       "    .dataframe thead th {\n",
       "        text-align: right;\n",
       "    }\n",
       "</style>\n",
       "<table border=\"1\" class=\"dataframe\">\n",
       "  <thead>\n",
       "    <tr style=\"text-align: right;\">\n",
       "      <th></th>\n",
       "      <th>RID</th>\n",
       "      <th>SITE</th>\n",
       "      <th>AGE</th>\n",
       "      <th>PTEDUCAT</th>\n",
       "      <th>APOE4</th>\n",
       "      <th>FDG</th>\n",
       "      <th>PIB</th>\n",
       "      <th>AV45</th>\n",
       "      <th>FBB</th>\n",
       "      <th>CDRSB</th>\n",
       "      <th>...</th>\n",
       "      <th>EcogSPTotal_bl</th>\n",
       "      <th>FDG_bl</th>\n",
       "      <th>PIB_bl</th>\n",
       "      <th>AV45_bl</th>\n",
       "      <th>FBB_bl</th>\n",
       "      <th>Years_bl</th>\n",
       "      <th>Month_bl</th>\n",
       "      <th>Month</th>\n",
       "      <th>M</th>\n",
       "      <th>pres</th>\n",
       "    </tr>\n",
       "  </thead>\n",
       "  <tbody>\n",
       "    <tr>\n",
       "      <th>count</th>\n",
       "      <td>364.000000</td>\n",
       "      <td>364.000000</td>\n",
       "      <td>362.000000</td>\n",
       "      <td>364.000000</td>\n",
       "      <td>327.000000</td>\n",
       "      <td>309.000000</td>\n",
       "      <td>13.000000</td>\n",
       "      <td>89.000000</td>\n",
       "      <td>95.000000</td>\n",
       "      <td>344.000000</td>\n",
       "      <td>...</td>\n",
       "      <td>159.000000</td>\n",
       "      <td>299.000000</td>\n",
       "      <td>12.000000</td>\n",
       "      <td>62.000000</td>\n",
       "      <td>96.000000</td>\n",
       "      <td>364.000000</td>\n",
       "      <td>364.000000</td>\n",
       "      <td>364.000000</td>\n",
       "      <td>364.000000</td>\n",
       "      <td>373.0</td>\n",
       "    </tr>\n",
       "    <tr>\n",
       "      <th>mean</th>\n",
       "      <td>3422.585165</td>\n",
       "      <td>88.664835</td>\n",
       "      <td>73.480110</td>\n",
       "      <td>15.961538</td>\n",
       "      <td>0.587156</td>\n",
       "      <td>1.236601</td>\n",
       "      <td>1.684231</td>\n",
       "      <td>1.265378</td>\n",
       "      <td>1.178867</td>\n",
       "      <td>1.734012</td>\n",
       "      <td>...</td>\n",
       "      <td>1.877628</td>\n",
       "      <td>1.241241</td>\n",
       "      <td>1.640833</td>\n",
       "      <td>1.259440</td>\n",
       "      <td>1.177442</td>\n",
       "      <td>0.793397</td>\n",
       "      <td>9.501263</td>\n",
       "      <td>9.494505</td>\n",
       "      <td>9.280220</td>\n",
       "      <td>1.0</td>\n",
       "    </tr>\n",
       "    <tr>\n",
       "      <th>std</th>\n",
       "      <td>2907.639265</td>\n",
       "      <td>131.699519</td>\n",
       "      <td>7.464942</td>\n",
       "      <td>2.715866</td>\n",
       "      <td>0.672113</td>\n",
       "      <td>0.081093</td>\n",
       "      <td>0.363787</td>\n",
       "      <td>0.269906</td>\n",
       "      <td>0.243236</td>\n",
       "      <td>1.386537</td>\n",
       "      <td>...</td>\n",
       "      <td>0.667444</td>\n",
       "      <td>0.074052</td>\n",
       "      <td>0.343020</td>\n",
       "      <td>0.278199</td>\n",
       "      <td>0.242356</td>\n",
       "      <td>1.839151</td>\n",
       "      <td>22.024612</td>\n",
       "      <td>22.040970</td>\n",
       "      <td>21.645237</td>\n",
       "      <td>0.0</td>\n",
       "    </tr>\n",
       "    <tr>\n",
       "      <th>min</th>\n",
       "      <td>33.000000</td>\n",
       "      <td>2.000000</td>\n",
       "      <td>55.100000</td>\n",
       "      <td>8.000000</td>\n",
       "      <td>0.000000</td>\n",
       "      <td>0.933673</td>\n",
       "      <td>1.195000</td>\n",
       "      <td>0.810000</td>\n",
       "      <td>0.870200</td>\n",
       "      <td>0.000000</td>\n",
       "      <td>...</td>\n",
       "      <td>1.000000</td>\n",
       "      <td>0.933673</td>\n",
       "      <td>1.195000</td>\n",
       "      <td>0.810000</td>\n",
       "      <td>0.870200</td>\n",
       "      <td>0.000000</td>\n",
       "      <td>0.000000</td>\n",
       "      <td>0.000000</td>\n",
       "      <td>0.000000</td>\n",
       "      <td>1.0</td>\n",
       "    </tr>\n",
       "    <tr>\n",
       "      <th>25%</th>\n",
       "      <td>727.500000</td>\n",
       "      <td>19.000000</td>\n",
       "      <td>69.000000</td>\n",
       "      <td>14.000000</td>\n",
       "      <td>0.000000</td>\n",
       "      <td>1.191070</td>\n",
       "      <td>1.362500</td>\n",
       "      <td>1.016000</td>\n",
       "      <td>0.991400</td>\n",
       "      <td>1.000000</td>\n",
       "      <td>...</td>\n",
       "      <td>1.293385</td>\n",
       "      <td>1.194900</td>\n",
       "      <td>1.361875</td>\n",
       "      <td>1.017525</td>\n",
       "      <td>0.991400</td>\n",
       "      <td>0.000000</td>\n",
       "      <td>0.000000</td>\n",
       "      <td>0.000000</td>\n",
       "      <td>0.000000</td>\n",
       "      <td>1.0</td>\n",
       "    </tr>\n",
       "    <tr>\n",
       "      <th>50%</th>\n",
       "      <td>1354.500000</td>\n",
       "      <td>41.000000</td>\n",
       "      <td>73.900000</td>\n",
       "      <td>16.000000</td>\n",
       "      <td>0.000000</td>\n",
       "      <td>1.250350</td>\n",
       "      <td>1.567500</td>\n",
       "      <td>1.316100</td>\n",
       "      <td>1.057300</td>\n",
       "      <td>1.500000</td>\n",
       "      <td>...</td>\n",
       "      <td>1.710530</td>\n",
       "      <td>1.251110</td>\n",
       "      <td>1.528750</td>\n",
       "      <td>1.209200</td>\n",
       "      <td>1.055650</td>\n",
       "      <td>0.000000</td>\n",
       "      <td>0.000000</td>\n",
       "      <td>0.000000</td>\n",
       "      <td>0.000000</td>\n",
       "      <td>1.0</td>\n",
       "    </tr>\n",
       "    <tr>\n",
       "      <th>75%</th>\n",
       "      <td>6619.750000</td>\n",
       "      <td>127.250000</td>\n",
       "      <td>78.900000</td>\n",
       "      <td>18.000000</td>\n",
       "      <td>1.000000</td>\n",
       "      <td>1.293780</td>\n",
       "      <td>1.902500</td>\n",
       "      <td>1.517700</td>\n",
       "      <td>1.385350</td>\n",
       "      <td>2.125000</td>\n",
       "      <td>...</td>\n",
       "      <td>2.338095</td>\n",
       "      <td>1.293440</td>\n",
       "      <td>1.851875</td>\n",
       "      <td>1.529925</td>\n",
       "      <td>1.380525</td>\n",
       "      <td>0.000000</td>\n",
       "      <td>0.000000</td>\n",
       "      <td>0.000000</td>\n",
       "      <td>0.000000</td>\n",
       "      <td>1.0</td>\n",
       "    </tr>\n",
       "    <tr>\n",
       "      <th>max</th>\n",
       "      <td>6964.000000</td>\n",
       "      <td>941.000000</td>\n",
       "      <td>90.000000</td>\n",
       "      <td>20.000000</td>\n",
       "      <td>2.000000</td>\n",
       "      <td>1.416430</td>\n",
       "      <td>2.282500</td>\n",
       "      <td>1.802200</td>\n",
       "      <td>1.816000</td>\n",
       "      <td>13.000000</td>\n",
       "      <td>...</td>\n",
       "      <td>3.685710</td>\n",
       "      <td>1.416430</td>\n",
       "      <td>2.282500</td>\n",
       "      <td>1.802200</td>\n",
       "      <td>1.816000</td>\n",
       "      <td>12.646100</td>\n",
       "      <td>151.443000</td>\n",
       "      <td>150.000000</td>\n",
       "      <td>150.000000</td>\n",
       "      <td>1.0</td>\n",
       "    </tr>\n",
       "  </tbody>\n",
       "</table>\n",
       "<p>8 rows × 94 columns</p>\n",
       "</div>"
      ],
      "text/plain": [
       "               RID        SITE         AGE    PTEDUCAT       APOE4  \\\n",
       "count   364.000000  364.000000  362.000000  364.000000  327.000000   \n",
       "mean   3422.585165   88.664835   73.480110   15.961538    0.587156   \n",
       "std    2907.639265  131.699519    7.464942    2.715866    0.672113   \n",
       "min      33.000000    2.000000   55.100000    8.000000    0.000000   \n",
       "25%     727.500000   19.000000   69.000000   14.000000    0.000000   \n",
       "50%    1354.500000   41.000000   73.900000   16.000000    0.000000   \n",
       "75%    6619.750000  127.250000   78.900000   18.000000    1.000000   \n",
       "max    6964.000000  941.000000   90.000000   20.000000    2.000000   \n",
       "\n",
       "              FDG        PIB       AV45        FBB       CDRSB  ...  \\\n",
       "count  309.000000  13.000000  89.000000  95.000000  344.000000  ...   \n",
       "mean     1.236601   1.684231   1.265378   1.178867    1.734012  ...   \n",
       "std      0.081093   0.363787   0.269906   0.243236    1.386537  ...   \n",
       "min      0.933673   1.195000   0.810000   0.870200    0.000000  ...   \n",
       "25%      1.191070   1.362500   1.016000   0.991400    1.000000  ...   \n",
       "50%      1.250350   1.567500   1.316100   1.057300    1.500000  ...   \n",
       "75%      1.293780   1.902500   1.517700   1.385350    2.125000  ...   \n",
       "max      1.416430   2.282500   1.802200   1.816000   13.000000  ...   \n",
       "\n",
       "       EcogSPTotal_bl      FDG_bl     PIB_bl    AV45_bl     FBB_bl  \\\n",
       "count      159.000000  299.000000  12.000000  62.000000  96.000000   \n",
       "mean         1.877628    1.241241   1.640833   1.259440   1.177442   \n",
       "std          0.667444    0.074052   0.343020   0.278199   0.242356   \n",
       "min          1.000000    0.933673   1.195000   0.810000   0.870200   \n",
       "25%          1.293385    1.194900   1.361875   1.017525   0.991400   \n",
       "50%          1.710530    1.251110   1.528750   1.209200   1.055650   \n",
       "75%          2.338095    1.293440   1.851875   1.529925   1.380525   \n",
       "max          3.685710    1.416430   2.282500   1.802200   1.816000   \n",
       "\n",
       "         Years_bl    Month_bl       Month           M   pres  \n",
       "count  364.000000  364.000000  364.000000  364.000000  373.0  \n",
       "mean     0.793397    9.501263    9.494505    9.280220    1.0  \n",
       "std      1.839151   22.024612   22.040970   21.645237    0.0  \n",
       "min      0.000000    0.000000    0.000000    0.000000    1.0  \n",
       "25%      0.000000    0.000000    0.000000    0.000000    1.0  \n",
       "50%      0.000000    0.000000    0.000000    0.000000    1.0  \n",
       "75%      0.000000    0.000000    0.000000    0.000000    1.0  \n",
       "max     12.646100  151.443000  150.000000  150.000000    1.0  \n",
       "\n",
       "[8 rows x 94 columns]"
      ]
     },
     "execution_count": 23,
     "metadata": {},
     "output_type": "execute_result"
    }
   ],
   "source": [
    "demo.describe()"
   ]
  },
  {
   "cell_type": "code",
   "execution_count": 154,
   "metadata": {},
   "outputs": [],
   "source": [
    "a=list(demo.columns)"
   ]
  },
  {
   "cell_type": "code",
   "execution_count": 155,
   "metadata": {},
   "outputs": [
    {
     "data": {
      "text/plain": [
       "['RID',\n",
       " 'COLPROT',\n",
       " 'ORIGPROT',\n",
       " 'PTID',\n",
       " 'SITE',\n",
       " 'VISCODE',\n",
       " 'EXAMDATE',\n",
       " 'DX_bl',\n",
       " 'AGE',\n",
       " 'PTGENDER',\n",
       " 'PTEDUCAT',\n",
       " 'PTETHCAT',\n",
       " 'PTRACCAT',\n",
       " 'PTMARRY',\n",
       " 'APOE4',\n",
       " 'FDG',\n",
       " 'PIB',\n",
       " 'AV45',\n",
       " 'FBB',\n",
       " 'ABETA',\n",
       " 'TAU',\n",
       " 'PTAU',\n",
       " 'CDRSB',\n",
       " 'ADAS11',\n",
       " 'ADAS13',\n",
       " 'ADASQ4',\n",
       " 'MMSE',\n",
       " 'RAVLT_immediate',\n",
       " 'RAVLT_learning',\n",
       " 'RAVLT_forgetting',\n",
       " 'RAVLT_perc_forgetting',\n",
       " 'LDELTOTAL',\n",
       " 'DIGITSCOR',\n",
       " 'TRABSCOR',\n",
       " 'FAQ',\n",
       " 'MOCA',\n",
       " 'EcogPtMem',\n",
       " 'EcogPtLang',\n",
       " 'EcogPtVisspat',\n",
       " 'EcogPtPlan',\n",
       " 'EcogPtOrgan',\n",
       " 'EcogPtDivatt',\n",
       " 'EcogPtTotal',\n",
       " 'EcogSPMem',\n",
       " 'EcogSPLang',\n",
       " 'EcogSPVisspat',\n",
       " 'EcogSPPlan',\n",
       " 'EcogSPOrgan',\n",
       " 'EcogSPDivatt',\n",
       " 'EcogSPTotal',\n",
       " 'FLDSTRENG',\n",
       " 'FSVERSION',\n",
       " 'IMAGEUID',\n",
       " 'Ventricles',\n",
       " 'Hippocampus',\n",
       " 'WholeBrain',\n",
       " 'Entorhinal',\n",
       " 'Fusiform',\n",
       " 'MidTemp',\n",
       " 'ICV',\n",
       " 'DX',\n",
       " 'mPACCdigit',\n",
       " 'mPACCtrailsB',\n",
       " 'EXAMDATE_bl',\n",
       " 'CDRSB_bl',\n",
       " 'ADAS11_bl',\n",
       " 'ADAS13_bl',\n",
       " 'ADASQ4_bl',\n",
       " 'MMSE_bl',\n",
       " 'RAVLT_immediate_bl',\n",
       " 'RAVLT_learning_bl',\n",
       " 'RAVLT_forgetting_bl',\n",
       " 'RAVLT_perc_forgetting_bl',\n",
       " 'LDELTOTAL_BL',\n",
       " 'DIGITSCOR_bl',\n",
       " 'TRABSCOR_bl',\n",
       " 'FAQ_bl',\n",
       " 'mPACCdigit_bl',\n",
       " 'mPACCtrailsB_bl',\n",
       " 'FLDSTRENG_bl',\n",
       " 'FSVERSION_bl',\n",
       " 'IMAGEUID_bl',\n",
       " 'Ventricles_bl',\n",
       " 'Hippocampus_bl',\n",
       " 'WholeBrain_bl',\n",
       " 'Entorhinal_bl',\n",
       " 'Fusiform_bl',\n",
       " 'MidTemp_bl',\n",
       " 'ICV_bl',\n",
       " 'MOCA_bl',\n",
       " 'EcogPtMem_bl',\n",
       " 'EcogPtLang_bl',\n",
       " 'EcogPtVisspat_bl',\n",
       " 'EcogPtPlan_bl',\n",
       " 'EcogPtOrgan_bl',\n",
       " 'EcogPtDivatt_bl',\n",
       " 'EcogPtTotal_bl',\n",
       " 'EcogSPMem_bl',\n",
       " 'EcogSPLang_bl',\n",
       " 'EcogSPVisspat_bl',\n",
       " 'EcogSPPlan_bl',\n",
       " 'EcogSPOrgan_bl',\n",
       " 'EcogSPDivatt_bl',\n",
       " 'EcogSPTotal_bl',\n",
       " 'ABETA_bl',\n",
       " 'TAU_bl',\n",
       " 'PTAU_bl',\n",
       " 'FDG_bl',\n",
       " 'PIB_bl',\n",
       " 'AV45_bl',\n",
       " 'FBB_bl',\n",
       " 'Years_bl',\n",
       " 'Month_bl',\n",
       " 'Month',\n",
       " 'M',\n",
       " 'update_stamp',\n",
       " 'pres']"
      ]
     },
     "execution_count": 155,
     "metadata": {},
     "output_type": "execute_result"
    }
   ],
   "source": [
    "a"
   ]
  },
  {
   "cell_type": "code",
   "execution_count": null,
   "metadata": {},
   "outputs": [],
   "source": [
    "#Transform back from ID+Date to just the ID"
   ]
  },
  {
   "cell_type": "code",
   "execution_count": 30,
   "metadata": {},
   "outputs": [],
   "source": [
    "newindex=[]\n",
    "for i in demo.index:\n",
    "    i=i[:10]\n",
    "    newindex.append(i)"
   ]
  },
  {
   "cell_type": "code",
   "execution_count": 34,
   "metadata": {},
   "outputs": [],
   "source": [
    "t=list(demo['PTGENDER'])\n",
    "y=list(demo['AGE'])\n",
    "u=list(demo['ORIGPROT'])\n",
    "p=list(demo['PTEDUCAT'])\n",
    "h=list(demo['APOE4'])\n",
    "j=list(demo['MMSE'])\n",
    "k=list(demo['MOCA'])"
   ]
  },
  {
   "cell_type": "code",
   "execution_count": null,
   "metadata": {},
   "outputs": [],
   "source": [
    "#Create final dataset with only columns of interest, the index is the patient ID"
   ]
  },
  {
   "cell_type": "code",
   "execution_count": 35,
   "metadata": {},
   "outputs": [],
   "source": [
    "demog=pd.DataFrame(list(zip(t, y,u,p,h,j,k)),\n",
    "               columns =['Gender', 'Age','Phase','Education_years','APOE4','MMSE_dem','MOCA'],\n",
    "                   index=newindex)"
   ]
  },
  {
   "cell_type": "code",
   "execution_count": 39,
   "metadata": {},
   "outputs": [
    {
     "data": {
      "text/plain": [
       "'/local_mount/space/celer/1/users/notebooks/moises'"
      ]
     },
     "execution_count": 39,
     "metadata": {},
     "output_type": "execute_result"
    }
   ],
   "source": [
    "pwd"
   ]
  },
  {
   "cell_type": "code",
   "execution_count": 40,
   "metadata": {},
   "outputs": [],
   "source": [
    "demog.to_excel('processed_demog.xlsx')"
   ]
  }
 ],
 "metadata": {
  "kernelspec": {
   "display_name": "Python 3",
   "language": "python",
   "name": "python3"
  },
  "language_info": {
   "codemirror_mode": {
    "name": "ipython",
    "version": 3
   },
   "file_extension": ".py",
   "mimetype": "text/x-python",
   "name": "python",
   "nbconvert_exporter": "python",
   "pygments_lexer": "ipython3",
   "version": "3.8.5"
  }
 },
 "nbformat": 4,
 "nbformat_minor": 4
}
