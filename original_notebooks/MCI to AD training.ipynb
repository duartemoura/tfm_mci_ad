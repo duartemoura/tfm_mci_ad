{
 "cells": [
  {
   "cell_type": "code",
   "execution_count": 1,
   "metadata": {},
   "outputs": [],
   "source": [
    "import tensorflow as tf\n",
    "\n",
    "import numpy as np\n",
    "import matplotlib.pyplot as plt\n",
    "\n",
    "import nibabel\n",
    "import nibabel.processing\n",
    "import os\n",
    "from skimage.filters import threshold_otsu\n",
    "import cc3d\n",
    "import shutil\n",
    "import pickle\n",
    "import keras_tuner as kt\n",
    "import random\n",
    "from scipy import ndimage"
   ]
  },
  {
   "cell_type": "code",
   "execution_count": null,
   "metadata": {},
   "outputs": [],
   "source": [
    "\"\"\"PLEASE NOTE THAT BECAUSE A VERSION WITH 81 CONVERTERS WAS USED FIRST, EVERY MENTION OF THE FOLDS SHOULD CARRY\n",
    "THE NUMBER 2, REFERENCING THE 106 FINAL DATASET"
   ]
  },
  {
   "cell_type": "code",
   "execution_count": 2,
   "metadata": {},
   "outputs": [],
   "source": [
    "#USE SMALL GPU#\n",
    "use_gpu = 1 \n",
    "# The largest memory size GPU is always the first one (0) as they are sorted by size!\n",
    "gpus=tf.config.experimental.list_physical_devices('GPU')\n",
    "tf.config.experimental.set_visible_devices(gpus[use_gpu], 'GPU')"
   ]
  },
  {
   "cell_type": "code",
   "execution_count": null,
   "metadata": {},
   "outputs": [],
   "source": [
    "#Load datasets"
   ]
  },
  {
   "cell_type": "code",
   "execution_count": 3,
   "metadata": {},
   "outputs": [],
   "source": [
    "with open('f1spec2.pickle', 'rb') as f:\n",
    "     spec1 = pickle.load(f)\n",
    "with open('f2spec2.pickle', 'rb') as f:\n",
    "     spec2 = pickle.load(f)\n",
    "with open('f3spec2.pickle', 'rb') as f:\n",
    "     spec3 = pickle.load(f)\n",
    "with open('f4spec2.pickle', 'rb') as f:\n",
    "     spec4 = pickle.load(f)\n",
    "with open('f5spec2.pickle', 'rb') as f:\n",
    "     spec5 = pickle.load(f)"
   ]
  },
  {
   "cell_type": "code",
   "execution_count": 4,
   "metadata": {},
   "outputs": [],
   "source": [
    "f1train_loader=tf.data.experimental.load(\"./datasets/fold1train2\",element_spec=spec1)\n",
    "f1validation_loader=tf.data.experimental.load(\"./datasets/fold1val2\",element_spec=spec1)\n",
    "\n",
    "f2train_loader=tf.data.experimental.load(\"./datasets/fold2train2\",element_spec=spec2)\n",
    "f2validation_loader=tf.data.experimental.load(\"./datasets/fold2val2\",element_spec=spec2)\n",
    "\n",
    "f3train_loader=tf.data.experimental.load(\"./datasets/fold3train2\",element_spec=spec3)\n",
    "f3validation_loader=tf.data.experimental.load(\"./datasets/fold3val2\",element_spec=spec3)\n",
    "\n",
    "f4train_loader=tf.data.experimental.load(\"./datasets/fold4train2\",element_spec=spec4)\n",
    "f4validation_loader=tf.data.experimental.load(\"./datasets/fold4val2\",element_spec=spec4)\n",
    "\n",
    "f5train_loader=tf.data.experimental.load(\"./datasets/fold5train2\",element_spec=spec5)\n",
    "f5validation_loader=tf.data.experimental.load(\"./datasets/fold5val2\",element_spec=spec5)"
   ]
  },
  {
   "cell_type": "code",
   "execution_count": null,
   "metadata": {},
   "outputs": [],
   "source": [
    "#Data augmentation"
   ]
  },
  {
   "cell_type": "code",
   "execution_count": 5,
   "metadata": {},
   "outputs": [],
   "source": [
    "@tf.function\n",
    "def rotate(volume):\n",
    "    def scipy_rotate(volume):\n",
    "        # define some rotation angles\n",
    "        angles = [-20, -10, -5, 5, 10, 20]\n",
    "        # pick angles at random\n",
    "        angle = random.choice(angles)\n",
    "        # rotate volume\n",
    "        volume = ndimage.rotate(volume, angle, reshape=False)\n",
    "        volume[volume < 0] = 0\n",
    "        volume[volume > 1] = 1\n",
    "        return volume\n",
    "\n",
    "    augmented_volume = tf.numpy_function(scipy_rotate, [volume], tf.float32)\n",
    "    return augmented_volume\n",
    "\n",
    "\n",
    "@tf.function\n",
    "def shift(volume):\n",
    "    def scipy_shift(volume):\n",
    "        offsets = [-20, -10, -5, 5, 10, 20, 0]\n",
    "        offset1 = random.choice(offsets)\n",
    "        offset2 = random.choice(offsets)\n",
    "        volume=ndimage.interpolation.shift(volume, (int(offset1), int(offset2), 0), order=5, mode='nearest')\n",
    "        volume[volume < 0] = 0\n",
    "        volume[volume > 1] = 1\n",
    "        return volume\n",
    "    augmented_volume = tf.numpy_function(scipy_shift, [volume], tf.float32)\n",
    "    return augmented_volume\n",
    "\n",
    "\n",
    "def train_preprocessing(volume, label):\n",
    "    \"\"\"Process training data by __Data_Aug__ and adding a channel.\"\"\"\n",
    "    \n",
    "    volume = shift(volume)\n",
    "    \n",
    "    volume = rotate(volume)\n",
    "   \n",
    "    volume = tf.expand_dims(volume, axis=3)\n",
    "    \n",
    "    return volume, label\n",
    "\n",
    "\n",
    "def validation_preprocessing(volume, label):\n",
    "    \"\"\"Process validation data by only adding a channel.\"\"\"\n",
    "    volume = tf.expand_dims(volume, axis=3)\n",
    "    return volume, label"
   ]
  },
  {
   "cell_type": "code",
   "execution_count": null,
   "metadata": {},
   "outputs": [],
   "source": [
    "#Batch size and loading"
   ]
  },
  {
   "cell_type": "code",
   "execution_count": 6,
   "metadata": {},
   "outputs": [],
   "source": [
    "batch_size = 8\n",
    "\n",
    "f1train_dataset = (\n",
    "    f1train_loader.shuffle(tf.data.experimental.cardinality(f1train_loader).numpy()).map(train_preprocessing).batch(batch_size).prefetch(2)\n",
    ")\n",
    "\n",
    "f1validation_dataset = (\n",
    "    f1validation_loader.map(validation_preprocessing).batch(batch_size).prefetch(2)\n",
    ")\n",
    "\n",
    "f2train_dataset = (\n",
    "    f2train_loader.shuffle(tf.data.experimental.cardinality(f2train_loader).numpy()).map(train_preprocessing).batch(batch_size).prefetch(2)\n",
    ")\n",
    "\n",
    "f2validation_dataset = (\n",
    "    f2validation_loader.map(validation_preprocessing).batch(batch_size).prefetch(2)\n",
    ")\n",
    "\n",
    "\n",
    "f3train_dataset = (\n",
    "    f3train_loader.shuffle(tf.data.experimental.cardinality(f3train_loader).numpy()).map(train_preprocessing).batch(batch_size).prefetch(2)\n",
    ")\n",
    "\n",
    "f3validation_dataset = (\n",
    "    f3validation_loader.map(validation_preprocessing).batch(batch_size).prefetch(2)\n",
    ")\n",
    "\n",
    "\n",
    "f4train_dataset = (\n",
    "    f4train_loader.shuffle(tf.data.experimental.cardinality(f4train_loader).numpy()).map(train_preprocessing).batch(batch_size).prefetch(2)\n",
    ")\n",
    "\n",
    "f4validation_dataset = (\n",
    "    f4validation_loader.map(validation_preprocessing).batch(batch_size).prefetch(2)\n",
    ")\n",
    "\n",
    "\n",
    "f5train_dataset = (\n",
    "    f5train_loader.shuffle(tf.data.experimental.cardinality(f5train_loader).numpy()).map(train_preprocessing).batch(batch_size).prefetch(2)\n",
    ")\n",
    "\n",
    "f5validation_dataset = (\n",
    "    f5validation_loader.map(validation_preprocessing).batch(batch_size).prefetch(2)\n",
    ")"
   ]
  },
  {
   "cell_type": "code",
   "execution_count": null,
   "metadata": {},
   "outputs": [],
   "source": [
    "#Checking loaders"
   ]
  },
  {
   "cell_type": "code",
   "execution_count": 7,
   "metadata": {},
   "outputs": [
    {
     "name": "stdout",
     "output_type": "stream",
     "text": [
      "Got data\n",
      "Got labels\n",
      "Got numpy\n",
      "Dimension of the scan is: (100, 100, 90, 1)\n"
     ]
    },
    {
     "data": {
      "text/plain": [
       "<matplotlib.image.AxesImage at 0x7fb92823fc70>"
      ]
     },
     "execution_count": 7,
     "metadata": {},
     "output_type": "execute_result"
    },
    {
     "data": {
      "image/png": "[encoded data removed]",
      "text/plain": [
       "<Figure size 432x288 with 1 Axes>"
      ]
     },
     "metadata": {
      "needs_background": "light"
     },
     "output_type": "display_data"
    }
   ],
   "source": [
    "data = f5train_dataset.take(1)\n",
    "print(\"Got data\")\n",
    "images, labels = list(data)[0]\n",
    "print(\"Got labels\")\n",
    "images = images.numpy()\n",
    "print(\"Got numpy\")\n",
    "image = images[0]\n",
    "print(\"Dimension of the scan is:\", image.shape)\n",
    "plt.imshow(np.squeeze(image[:, :, 50]), cmap=\"gray\")\n",
    "#plt.hist(np.ndarray.flatten(image))"
   ]
  },
  {
   "cell_type": "code",
   "execution_count": null,
   "metadata": {},
   "outputs": [],
   "source": [
    "#Define metrics"
   ]
  },
  {
   "cell_type": "code",
   "execution_count": 8,
   "metadata": {},
   "outputs": [],
   "source": [
    "metrics=['accuracy',tf.keras.metrics.Recall(),tf.keras.metrics.Precision(),tf.keras.metrics.AUC()]"
   ]
  },
  {
   "cell_type": "code",
   "execution_count": null,
   "metadata": {},
   "outputs": [],
   "source": [
    "def get_model():\n",
    "    model=tf.keras.models.load_model(\"/local_mount/space/celer/1/users/notebooks/moises/saved_models/reproducing_b_simplecnn2/epoch28\")\n",
    "    #for layer in model.layers[0:29]:\n",
    "        #layer.trainable=False\n",
    "        #print(layer.name,\"is now frozen\")\n",
    "    \n",
    "    metrics=['accuracy',tf.keras.metrics.Recall(),tf.keras.metrics.Precision(),tf.keras.metrics.AUC()]\n",
    "    \n",
    "    lr = 0.0001\n",
    "\n",
    "    model.compile(\n",
    "    loss=\"binary_crossentropy\",\n",
    "    optimizer=tf.keras.optimizers.Adam(learning_rate=lr),\n",
    "    metrics=metrics)\n",
    "    \n",
    "    return model\n",
    "    "
   ]
  },
  {
   "cell_type": "code",
   "execution_count": null,
   "metadata": {},
   "outputs": [],
   "source": [
    "#Training loop, it traverses all folds using the snippet at the beginning, then does the same for each one. \n",
    "#Metrics are saved into an object that can be then exported, I used this to check what model performed best"
   ]
  },
  {
   "cell_type": "code",
   "execution_count": null,
   "metadata": {},
   "outputs": [],
   "source": [
    "train_dataset=0\n",
    "validation_dataset=0\n",
    "metris=[]\n",
    "for i in range(5):\n",
    "    if i==0:\n",
    "        train_dataset=f1train_dataset\n",
    "        validation_dataset=f1validation_dataset\n",
    "    elif i==1:\n",
    "        train_dataset=f2train_dataset\n",
    "        validation_dataset=f2validation_dataset\n",
    "    elif i==2:\n",
    "        train_dataset=f3train_dataset\n",
    "        validation_dataset=f3validation_dataset\n",
    "    elif i==3:\n",
    "        train_dataset=f4train_dataset\n",
    "        validation_dataset=f4validation_dataset\n",
    "    else:\n",
    "        train_dataset=f5train_dataset\n",
    "        validation_dataset=f5validation_dataset\n",
    "    \n",
    "    model=get_model()\n",
    "    \n",
    "    log_dir = \"my_log_dir/newconv_rep2smallcnn{}\".format(i)\n",
    "    modelpath=(\"saved_models/newconv_rep2smallcnn{0}\".format(i))\n",
    "\n",
    "    callbacks = [\n",
    "        tf.keras.callbacks.ModelCheckpoint(\n",
    "            filepath=os.path.join(modelpath,\"epoch{epoch}\"),\n",
    "            save_best_only=True,  \n",
    "            monitor=\"val_loss\",\n",
    "            verbose=1),\n",
    "        tf.keras.callbacks.TensorBoard(log_dir=log_dir,\n",
    "                                   histogram_freq=1,\n",
    "                                   embeddings_freq=1),\n",
    "    tf.keras.callbacks.ReduceLROnPlateau(monitor='val_loss', factor=0.1,\n",
    "                                  patience=5, min_lr=0.000001),\n",
    "    tf.keras.callbacks.EarlyStopping(monitor='val_loss', patience=10)]\n",
    "    \n",
    "    print(\"Model {} training\".format(i))\n",
    "    \n",
    "    model.fit(\n",
    "    train_dataset,\n",
    "    validation_data=validation_dataset,\n",
    "    epochs=100,\n",
    "    shuffle=True,\n",
    "    verbose=1, \n",
    "    callbacks=callbacks)\n",
    "    \n",
    "    print(\"Model {} finished training\".format(i))\n",
    "    \n",
    "    a=model.evaluate(validation_dataset)\n",
    "    \n",
    "    metris.append(\"Fold{}\".format(i))\n",
    "    \n",
    "    metris.append(a)  \n",
    "    \n",
    "    print(\"Saved metrics\")\n",
    "    "
   ]
  },
  {
   "cell_type": "code",
   "execution_count": null,
   "metadata": {},
   "outputs": [],
   "source": [
    "metris"
   ]
  },
  {
   "cell_type": "code",
   "execution_count": 12,
   "metadata": {},
   "outputs": [],
   "source": [
    "import csv"
   ]
  },
  {
   "cell_type": "code",
   "execution_count": 13,
   "metadata": {},
   "outputs": [],
   "source": [
    "with open('###INSERT MODEL TESTED#####', 'w') as f:\n",
    "\n",
    "    write = csv.writer(f)\n",
    "\n",
    "    write.writerows(metris)"
   ]
  }
 ],
 "metadata": {
  "kernelspec": {
   "display_name": "Python 3",
   "language": "python",
   "name": "python3"
  },
  "language_info": {
   "codemirror_mode": {
    "name": "ipython",
    "version": 3
   },
   "file_extension": ".py",
   "mimetype": "text/x-python",
   "name": "python",
   "nbconvert_exporter": "python",
   "pygments_lexer": "ipython3",
   "version": "3.8.5"
  }
 },
 "nbformat": 4,
 "nbformat_minor": 4
}
