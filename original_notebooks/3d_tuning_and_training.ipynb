{
 "cells": [
  {
   "cell_type": "code",
   "execution_count": 1,
   "metadata": {},
   "outputs": [],
   "source": [
    "import tensorflow as tf\n",
    "\n",
    "import numpy as np\n",
    "import matplotlib.pyplot as plt\n",
    "\n",
    "import nibabel\n",
    "import nibabel.processing\n",
    "import os\n",
    "from skimage.filters import threshold_otsu\n",
    "import cc3d\n",
    "import shutil\n",
    "import pickle\n",
    "import keras_tuner as kt\n",
    "import random\n",
    "from scipy import ndimage"
   ]
  },
  {
   "cell_type": "code",
   "execution_count": 2,
   "metadata": {},
   "outputs": [],
   "source": [
    "#USE SMALL GPU#\n",
    "use_gpu = 1\n",
    "# The largest memory size GPU is always the first one (0) as they are sorted by size!\n",
    "gpus=tf.config.experimental.list_physical_devices('GPU')\n",
    "tf.config.experimental.set_visible_devices(gpus[use_gpu], 'GPU')"
   ]
  },
  {
   "cell_type": "code",
   "execution_count": null,
   "metadata": {},
   "outputs": [],
   "source": [
    "#Here we load the dataset already preprocessed"
   ]
  },
  {
   "cell_type": "code",
   "execution_count": null,
   "metadata": {},
   "outputs": [],
   "source": [
    "\"\"\"The confusion between g-dataset and b-dataset was eventually solved, g-dataset is the same as b, both contain \n",
    "only AD/CN, so the second part of this notebook (see old notebooks) is deleted. The first part shows the KT\n",
    "optimization for AD/CN."
   ]
  },
  {
   "cell_type": "code",
   "execution_count": 4,
   "metadata": {},
   "outputs": [],
   "source": [
    "with open('gspec.pickle', 'rb') as f:\n",
    "     spec = pickle.load(f)"
   ]
  },
  {
   "cell_type": "code",
   "execution_count": 5,
   "metadata": {},
   "outputs": [],
   "source": [
    "train_loader=tf.data.experimental.load(\"./datasets/gtrain\",element_spec=spec)\n",
    "validation_loader=tf.data.experimental.load(\"./datasets/gval\",element_spec=spec)\n",
    "test_loader=tf.data.experimental.load(\"./datasets/gtest\",element_spec=spec)"
   ]
  },
  {
   "cell_type": "code",
   "execution_count": null,
   "metadata": {},
   "outputs": [],
   "source": [
    "#Define all the preprocessing functions for data augmentation and !!adding \"color\" dimension!! (important for keras)"
   ]
  },
  {
   "cell_type": "code",
   "execution_count": 6,
   "metadata": {},
   "outputs": [],
   "source": [
    "@tf.function\n",
    "def rotate(volume):\n",
    "    \"\"\"Rotate the volume by a few degrees\"\"\"\n",
    "\n",
    "    def scipy_rotate(volume):\n",
    "        # define some rotation angles\n",
    "        angles = [-20, -10, -5, 5, 10, 20]\n",
    "        # pick angles at random\n",
    "        angle = random.choice(angles)\n",
    "        # rotate volume\n",
    "        volume = ndimage.rotate(volume, angle, reshape=False)\n",
    "        volume[volume < 0] = 0\n",
    "        volume[volume > 1] = 1\n",
    "        return volume\n",
    "\n",
    "    augmented_volume = tf.numpy_function(scipy_rotate, [volume], tf.float32)\n",
    "    return augmented_volume\n",
    "\n",
    "@tf.function\n",
    "def shift(volume):\n",
    "    def scipy_shift(volume):\n",
    "        offsets = [-20, -10, -5, 5, 10, 20, 0]\n",
    "        offset1 = random.choice(offsets)\n",
    "        offset2 = random.choice(offsets)\n",
    "        volume=ndimage.interpolation.shift(volume, (int(offset1), int(offset2), 0), order=5, mode='nearest')\n",
    "        volume[volume < 0] = 0\n",
    "        volume[volume > 1] = 1\n",
    "        return volume\n",
    "    augmented_volume = tf.numpy_function(scipy_shift, [volume], tf.float32)\n",
    "    return augmented_volume\n",
    "\n",
    "def train_preprocessing(volume, label):\n",
    "    \"\"\"Process training data by __Data_Aug__ and adding a channel.\"\"\"\n",
    "    volume = rotate(volume)\n",
    "    volume = shift(volume)\n",
    "    volume = tf.expand_dims(volume, axis=3)\n",
    "    return volume, label\n",
    "\n",
    "\n",
    "def validation_preprocessing(volume, label):\n",
    "    \"\"\"Process validation data by only adding a channel.\"\"\"\n",
    "    volume = tf.expand_dims(volume, axis=3)\n",
    "    return volume, label"
   ]
  },
  {
   "cell_type": "code",
   "execution_count": null,
   "metadata": {},
   "outputs": [],
   "source": [
    "#Create a keras tuning hyperparameter object\n",
    "hp=kt.HyperParameters()"
   ]
  },
  {
   "cell_type": "code",
   "execution_count": 7,
   "metadata": {},
   "outputs": [],
   "source": [
    "batch_size = 8\n",
    "\n",
    "# Augment the on the fly during training.\n",
    "train_dataset = (\n",
    "    train_loader.shuffle(tf.data.experimental.cardinality(train_loader).numpy()).map(train_preprocessing).batch(batch_size).prefetch(2)\n",
    ")\n",
    "#Only add extra \"color\" dimension\n",
    "validation_dataset = (\n",
    "    validation_loader.map(validation_preprocessing).batch(batch_size).prefetch(2)\n",
    ")\n",
    "\n",
    "test_dataset= (\n",
    "    test_loader.map(validation_preprocessing).batch(batch_size).prefetch(2)\n",
    ")"
   ]
  },
  {
   "cell_type": "code",
   "execution_count": 7,
   "metadata": {},
   "outputs": [
    {
     "name": "stdout",
     "output_type": "stream",
     "text": [
      "Dimension of the scan is: (100, 100, 90, 1)\n"
     ]
    },
    {
     "data": {
      "text/plain": [
       "<matplotlib.image.AxesImage at 0x7f9c6c050460>"
      ]
     },
     "execution_count": 7,
     "metadata": {},
     "output_type": "execute_result"
    },
    {
     "data": {
      "image/png": "[encoded data removed]",
      "text/plain": [
       "<Figure size 432x288 with 1 Axes>"
      ]
     },
     "metadata": {
      "needs_background": "light"
     },
     "output_type": "display_data"
    }
   ],
   "source": [
    "#This shows the output of the dataset loaders, turn on or off the imshow and the hist, move the axial slice number\n",
    "data = train_dataset.take(3)\n",
    "images, labels = list(data)[0]\n",
    "images = images.numpy()\n",
    "image = images[0]\n",
    "print(\"Dimension of the scan is:\", image.shape)\n",
    "plt.imshow(np.squeeze(image[:, :, 50]), cmap=\"gray\")\n",
    "#plt.hist(np.ndarray.flatten(image))"
   ]
  },
  {
   "cell_type": "code",
   "execution_count": null,
   "metadata": {},
   "outputs": [],
   "source": [
    "#We define a base model builder function (this is already the result of some previous tuning) to then tune"
   ]
  },
  {
   "cell_type": "code",
   "execution_count": null,
   "metadata": {},
   "outputs": [],
   "source": [
    "def get_model(hp):\n",
    "    \"\"\"Build a 3D convolutional neural network model.\"\"\"\n",
    "\n",
    "    inputs = tf.keras.Input((100, 100, 90, 1))\n",
    "\n",
    "    x = tf.keras.layers.Conv3D(filters=8, kernel_size=3, activation=\"relu\")(inputs)\n",
    "    x = tf.keras.layers.MaxPool3D(pool_size=2)(x)\n",
    "    x = tf.keras.layers.BatchNormalization()(x)\n",
    "\n",
    "    x = tf.keras.layers.Conv3D(filters=16, kernel_size=3, activation=\"relu\", padding=\"same\")(x)\n",
    "    x = tf.keras.layers.MaxPool3D(pool_size=2)(x)\n",
    "    x = tf.keras.layers.BatchNormalization()(x)\n",
    "    x = tf.keras.layers.Dropout(0.4)(x)\n",
    "\n",
    "    x = tf.keras.layers.Conv3D(filters=32, kernel_size=3, activation=\"relu\", padding=\"same\")(x)\n",
    "    x = tf.keras.layers.MaxPool3D(pool_size=2)(x)\n",
    "    x = tf.keras.layers.BatchNormalization()(x)\n",
    "    x = tf.keras.layers.Dropout(0.4)(x)\n",
    "    \n",
    "    x = tf.keras.layers.Conv3D(filters=64, kernel_size=3, activation=\"relu\", padding=\"same\")(x)\n",
    "    x = tf.keras.layers.MaxPool3D(pool_size=2)(x)\n",
    "    x = tf.keras.layers.BatchNormalization()(x)\n",
    "    x = tf.keras.layers.Dropout(0.4)(x)\n",
    "        \n",
    "    if hp.Boolean(\"fifth block\"):\n",
    "        x = tf.keras.layers.Conv3D(filters=128, kernel_size=3, activation=\"relu\", padding=\"same\")(x)\n",
    "        x = tf.keras.layers.MaxPool3D(pool_size=2)(x)\n",
    "        x = tf.keras.layers.BatchNormalization()(x)\n",
    "        x = tf.keras.layers.Dropout(0.4)(x)\n",
    "        \n",
    "        if hp.Boolean(\"sixth block\"):\n",
    "            x = tf.keras.layers.Conv3D(filters=128, kernel_size=3, activation=\"relu\", padding=\"same\")(x)\n",
    "            x = tf.keras.layers.MaxPool3D(pool_size=2)(x)\n",
    "            x = tf.keras.layers.BatchNormalization()(x)\n",
    "            x = tf.keras.layers.Dropout(0.4)(x)\n",
    "                \n",
    "\n",
    "    x = tf.keras.layers.GlobalAveragePooling3D()(x)\n",
    "    x = tf.keras.layers.Dense(units=512, activation=\"relu\")(x)    \n",
    "\n",
    "    outputs = tf.keras.layers.Dense(units=1, activation=\"sigmoid\")(x)\n",
    "\n",
    "    # Define the model.\n",
    "    model = tf.keras.Model(inputs, outputs, name=\"3dcnn\")\n",
    "    \n",
    "    lr = hp.Choice('lr', [0.0001, 0.001, 0.01])\n",
    "    \n",
    "    model.compile(\n",
    "    loss=\"binary_crossentropy\",\n",
    "    optimizer=tf.keras.optimizers.Adam(learning_rate=lr),\n",
    "    metrics=[\"acc\"])\n",
    "    \n",
    "    return model"
   ]
  },
  {
   "cell_type": "code",
   "execution_count": null,
   "metadata": {},
   "outputs": [],
   "source": [
    "#When we build it we connect it to the hyperparameters variable\n",
    "get_model(kt.HyperParameters())"
   ]
  },
  {
   "cell_type": "markdown",
   "metadata": {},
   "source": [
    "#Input the name of the model to be trained, then tensorboard and modelcheckpoint adjust to it\n",
    "print(\"Enter the name of the model: \")\n",
    "x=input()\n",
    "\n",
    "log_dir = \"my_log_dir/{}\".format(x)\n",
    "modelpath=(\"saved_models/{0}\".format(x))\n",
    "\n",
    "callbacks = [\n",
    "    #tf.keras.callbacks.ModelCheckpoint(\n",
    "     #   filepath=os.path.join(modelpath,\"epoch{epoch}\"),\n",
    "      #  save_best_only=True,  \n",
    "      #  monitor=\"val_loss\",\n",
    "      #  verbose=1),\n",
    "    tf.keras.callbacks.EarlyStopping(monitor=\"val_loss\",patience=10),\n",
    "    tf.keras.callbacks.TensorBoard(log_dir=log_dir,\n",
    "                               histogram_freq=1,\n",
    "                               embeddings_freq=1)]"
   ]
  },
  {
   "cell_type": "code",
   "execution_count": null,
   "metadata": {},
   "outputs": [],
   "source": [
    "#Create the tuner"
   ]
  },
  {
   "cell_type": "code",
   "execution_count": null,
   "metadata": {},
   "outputs": [],
   "source": [
    "tuner = kt.BayesianOptimization(\n",
    "    hypermodel=get_model,\n",
    "    objective=\"val_loss\",\n",
    "    max_trials=20,\n",
    "    executions_per_trial=2,\n",
    "    overwrite=False,\n",
    "    directory=\"keras_tuner\",\n",
    "    project_name=\"helloworld\",\n",
    ")\n"
   ]
  },
  {
   "cell_type": "code",
   "execution_count": null,
   "metadata": {},
   "outputs": [],
   "source": [
    "#And perform the tuner search"
   ]
  },
  {
   "cell_type": "code",
   "execution_count": null,
   "metadata": {
    "scrolled": false
   },
   "outputs": [],
   "source": [
    "tuner.search(train_dataset,\n",
    "            validation_data=validation_dataset,\n",
    "            epochs=100,\n",
    "            callbacks=[tf.keras.callbacks.TensorBoard(\"my_log_dir\"), \n",
    "                       tf.keras.callbacks.EarlyStopping(monitor=\"val_loss\",patience=10)])"
   ]
  },
  {
   "cell_type": "code",
   "execution_count": null,
   "metadata": {},
   "outputs": [],
   "source": [
    "#This will show the best 10 models\n",
    "tuner.results_summary()"
   ]
  },
  {
   "cell_type": "code",
   "execution_count": null,
   "metadata": {},
   "outputs": [],
   "source": [
    "#And this will show the best hyperparameters\n",
    "best_hps = tuner.get_best_hyperparameters(5)"
   ]
  },
  {
   "cell_type": "code",
   "execution_count": null,
   "metadata": {},
   "outputs": [],
   "source": []
  },
  {
   "cell_type": "code",
   "execution_count": null,
   "metadata": {},
   "outputs": [],
   "source": [
    "#With that information, we create a builder function with the best hyperparameters"
   ]
  },
  {
   "cell_type": "code",
   "execution_count": 8,
   "metadata": {},
   "outputs": [],
   "source": [
    "def get_model(width=100, height=100, depth=90):\n",
    "    \"\"\"Build a 3D convolutional neural network model.\"\"\"\n",
    "\n",
    "    inputs = tf.keras.Input((100, 100, 90, 1))\n",
    "\n",
    "    x = tf.keras.layers.Conv3D(filters=8, kernel_size=3, activation=\"relu\")(inputs)\n",
    "    x = tf.keras.layers.MaxPool3D(pool_size=2)(x)\n",
    "    x = tf.keras.layers.BatchNormalization()(x)\n",
    "\n",
    "    x = tf.keras.layers.Conv3D(filters=16, kernel_size=3, activation=\"relu\", padding=\"same\")(x)\n",
    "    x = tf.keras.layers.MaxPool3D(pool_size=2)(x)\n",
    "    x = tf.keras.layers.BatchNormalization()(x)\n",
    "    x = tf.keras.layers.Dropout(0.4)(x)\n",
    "\n",
    "    x = tf.keras.layers.Conv3D(filters=32, kernel_size=3, activation=\"relu\", padding=\"same\")(x)\n",
    "    x = tf.keras.layers.MaxPool3D(pool_size=2)(x)\n",
    "    x = tf.keras.layers.BatchNormalization()(x)\n",
    "    x = tf.keras.layers.Dropout(0.4)(x)\n",
    "    \n",
    "    x = tf.keras.layers.Conv3D(filters=64, kernel_size=3, activation=\"relu\", padding=\"same\")(x)\n",
    "    x = tf.keras.layers.MaxPool3D(pool_size=2)(x)\n",
    "    x = tf.keras.layers.BatchNormalization()(x)\n",
    "    x = tf.keras.layers.Dropout(0.4)(x)\n",
    "        \n",
    "    x = tf.keras.layers.Conv3D(filters=128, kernel_size=3, activation=\"relu\", padding=\"same\")(x)\n",
    "    x = tf.keras.layers.MaxPool3D(pool_size=2)(x)\n",
    "    x = tf.keras.layers.BatchNormalization()(x)\n",
    "    x = tf.keras.layers.Dropout(0.4)(x)\n",
    "\n",
    "    x = tf.keras.layers.GlobalAveragePooling3D()(x)\n",
    "    x = tf.keras.layers.Dense(units=512, activation=\"relu\")(x)    \n",
    "\n",
    "    outputs = tf.keras.layers.Dense(units=1, activation=\"sigmoid\")(x)\n",
    "\n",
    "    # Define the model\n",
    "    model = tf.keras.Model(inputs, outputs, name=\"3dcnn\")\n",
    "    return model"
   ]
  },
  {
   "cell_type": "code",
   "execution_count": 9,
   "metadata": {
    "scrolled": true
   },
   "outputs": [
    {
     "name": "stdout",
     "output_type": "stream",
     "text": [
      "Model: \"3dcnn\"\n",
      "_________________________________________________________________\n",
      "Layer (type)                 Output Shape              Param #   \n",
      "=================================================================\n",
      "input_1 (InputLayer)         [(None, 100, 100, 90, 1)] 0         \n",
      "_________________________________________________________________\n",
      "conv3d (Conv3D)              (None, 98, 98, 88, 8)     224       \n",
      "_________________________________________________________________\n",
      "max_pooling3d (MaxPooling3D) (None, 49, 49, 44, 8)     0         \n",
      "_________________________________________________________________\n",
      "batch_normalization (BatchNo (None, 49, 49, 44, 8)     32        \n",
      "_________________________________________________________________\n",
      "conv3d_1 (Conv3D)            (None, 49, 49, 44, 16)    3472      \n",
      "_________________________________________________________________\n",
      "max_pooling3d_1 (MaxPooling3 (None, 24, 24, 22, 16)    0         \n",
      "_________________________________________________________________\n",
      "batch_normalization_1 (Batch (None, 24, 24, 22, 16)    64        \n",
      "_________________________________________________________________\n",
      "dropout (Dropout)            (None, 24, 24, 22, 16)    0         \n",
      "_________________________________________________________________\n",
      "conv3d_2 (Conv3D)            (None, 24, 24, 22, 32)    13856     \n",
      "_________________________________________________________________\n",
      "max_pooling3d_2 (MaxPooling3 (None, 12, 12, 11, 32)    0         \n",
      "_________________________________________________________________\n",
      "batch_normalization_2 (Batch (None, 12, 12, 11, 32)    128       \n",
      "_________________________________________________________________\n",
      "dropout_1 (Dropout)          (None, 12, 12, 11, 32)    0         \n",
      "_________________________________________________________________\n",
      "conv3d_3 (Conv3D)            (None, 12, 12, 11, 64)    55360     \n",
      "_________________________________________________________________\n",
      "max_pooling3d_3 (MaxPooling3 (None, 6, 6, 5, 64)       0         \n",
      "_________________________________________________________________\n",
      "batch_normalization_3 (Batch (None, 6, 6, 5, 64)       256       \n",
      "_________________________________________________________________\n",
      "dropout_2 (Dropout)          (None, 6, 6, 5, 64)       0         \n",
      "_________________________________________________________________\n",
      "conv3d_4 (Conv3D)            (None, 6, 6, 5, 128)      221312    \n",
      "_________________________________________________________________\n",
      "max_pooling3d_4 (MaxPooling3 (None, 3, 3, 2, 128)      0         \n",
      "_________________________________________________________________\n",
      "batch_normalization_4 (Batch (None, 3, 3, 2, 128)      512       \n",
      "_________________________________________________________________\n",
      "dropout_3 (Dropout)          (None, 3, 3, 2, 128)      0         \n",
      "_________________________________________________________________\n",
      "global_average_pooling3d (Gl (None, 128)               0         \n",
      "_________________________________________________________________\n",
      "dense (Dense)                (None, 512)               66048     \n",
      "_________________________________________________________________\n",
      "dense_1 (Dense)              (None, 1)                 513       \n",
      "=================================================================\n",
      "Total params: 361,777\n",
      "Trainable params: 361,281\n",
      "Non-trainable params: 496\n",
      "_________________________________________________________________\n"
     ]
    }
   ],
   "source": [
    "model=get_model()\n",
    "model.summary()"
   ]
  },
  {
   "cell_type": "code",
   "execution_count": 10,
   "metadata": {},
   "outputs": [],
   "source": [
    "metrics=['accuracy',tf.keras.metrics.Recall(),\n",
    "         tf.keras.metrics.Precision(),\n",
    "         tf.keras.metrics.AUC()]"
   ]
  },
  {
   "cell_type": "code",
   "execution_count": 11,
   "metadata": {},
   "outputs": [],
   "source": [
    "model.compile(\n",
    "    loss=\"binary_crossentropy\",\n",
    "    optimizer=tf.keras.optimizers.Adam(learning_rate=0.001),\n",
    "    metrics=metrics,\n",
    ")"
   ]
  },
  {
   "cell_type": "code",
   "execution_count": 13,
   "metadata": {},
   "outputs": [
    {
     "name": "stdout",
     "output_type": "stream",
     "text": [
      "Enter the name of the model: \n",
      "gender_went_wrong\n"
     ]
    }
   ],
   "source": [
    "#Input the name of the model to be trained, then tensorboard and modelcheckpoint adjust to it\n",
    "print(\"Enter the name of the model: \")\n",
    "x=input()\n",
    "\n",
    "log_dir = \"my_log_dir/{}\".format(x)\n",
    "modelpath=(\"saved_models/{0}\".format(x))\n",
    "\n",
    "callbacks = [\n",
    "    tf.keras.callbacks.ModelCheckpoint(\n",
    "        filepath=os.path.join(modelpath,\"epoch{epoch}\"),\n",
    "        save_best_only=True,  \n",
    "        monitor=\"val_loss\",\n",
    "        verbose=1),\n",
    "    tf.keras.callbacks.TensorBoard(log_dir=log_dir,\n",
    "                               histogram_freq=1,\n",
    "                               embeddings_freq=1),\n",
    "tf.keras.callbacks.ReduceLROnPlateau(monitor='val_loss', factor=0.1,\n",
    "                              patience=5, min_lr=0.000001),\n",
    "tf.keras.callbacks.EarlyStopping(monitor='val_loss', patience=10)]"
   ]
  },
  {
   "cell_type": "code",
   "execution_count": null,
   "metadata": {},
   "outputs": [],
   "source": [
    "#And then train it with the best callbacks for peak performance when the training stops"
   ]
  },
  {
   "cell_type": "code",
   "execution_count": 15,
   "metadata": {},
   "outputs": [
    {
     "name": "stdout",
     "output_type": "stream",
     "text": [
      "Epoch 1/100\n",
      "211/211 [==============================] - ETA: 0s - loss: 0.5849 - accuracy: 0.6865 - recall: 0.4746 - precision: 0.6235 - auc: 0.7347\n",
      "Epoch 00001: val_loss improved from inf to 1.74956, saving model to saved_models/gender_went_wrong/epoch1\n",
      "WARNING:tensorflow:From /autofs/space/celer_001/users/software/miniconda3/envs/DL/lib/python3.8/site-packages/tensorflow/python/training/tracking/tracking.py:111: Model.state_updates (from tensorflow.python.keras.engine.training) is deprecated and will be removed in a future version.\n",
      "Instructions for updating:\n",
      "This property should not be used in TensorFlow 2.0, as updates are applied automatically.\n",
      "WARNING:tensorflow:From /autofs/space/celer_001/users/software/miniconda3/envs/DL/lib/python3.8/site-packages/tensorflow/python/training/tracking/tracking.py:111: Layer.updates (from tensorflow.python.keras.engine.base_layer) is deprecated and will be removed in a future version.\n",
      "Instructions for updating:\n",
      "This property should not be used in TensorFlow 2.0, as updates are applied automatically.\n",
      "INFO:tensorflow:Assets written to: saved_models/gender_went_wrong/epoch1/assets\n",
      "211/211 [==============================] - 1891s 9s/step - loss: 0.5849 - accuracy: 0.6865 - recall: 0.4746 - precision: 0.6235 - auc: 0.7347 - val_loss: 1.7496 - val_accuracy: 0.3825 - val_recall: 1.0000 - val_precision: 0.3825 - val_auc: 0.5836\n",
      "Epoch 2/100\n",
      "211/211 [==============================] - ETA: 0s - loss: 0.5136 - accuracy: 0.7442 - recall: 0.6086 - precision: 0.6918 - auc: 0.8119\n",
      "Epoch 00002: val_loss improved from 1.74956 to 0.61789, saving model to saved_models/gender_went_wrong/epoch2\n",
      "INFO:tensorflow:Assets written to: saved_models/gender_went_wrong/epoch2/assets\n",
      "211/211 [==============================] - 1890s 9s/step - loss: 0.5136 - accuracy: 0.7442 - recall: 0.6086 - precision: 0.6918 - auc: 0.8119 - val_loss: 0.6179 - val_accuracy: 0.6452 - val_recall: 0.8916 - val_precision: 0.5211 - val_auc: 0.8597\n",
      "Epoch 3/100\n",
      "211/211 [==============================] - ETA: 0s - loss: 0.5070 - accuracy: 0.7418 - recall: 0.6133 - precision: 0.6850 - auc: 0.8147\n",
      "Epoch 00003: val_loss improved from 0.61789 to 0.38836, saving model to saved_models/gender_went_wrong/epoch3\n",
      "INFO:tensorflow:Assets written to: saved_models/gender_went_wrong/epoch3/assets\n",
      "211/211 [==============================] - 1886s 9s/step - loss: 0.5070 - accuracy: 0.7418 - recall: 0.6133 - precision: 0.6850 - auc: 0.8147 - val_loss: 0.3884 - val_accuracy: 0.7972 - val_recall: 0.5301 - val_precision: 0.8980 - val_auc: 0.9414\n",
      "Epoch 4/100\n",
      "211/211 [==============================] - ETA: 0s - loss: 0.5037 - accuracy: 0.7561 - recall: 0.6287 - precision: 0.7071 - auc: 0.8199\n",
      "Epoch 00004: val_loss improved from 0.38836 to 0.36422, saving model to saved_models/gender_went_wrong/epoch4\n",
      "INFO:tensorflow:Assets written to: saved_models/gender_went_wrong/epoch4/assets\n",
      "211/211 [==============================] - 1874s 9s/step - loss: 0.5037 - accuracy: 0.7561 - recall: 0.6287 - precision: 0.7071 - auc: 0.8199 - val_loss: 0.3642 - val_accuracy: 0.8571 - val_recall: 0.8434 - val_precision: 0.7955 - val_auc: 0.9260\n",
      "Epoch 5/100\n",
      "211/211 [==============================] - ETA: 0s - loss: 0.4882 - accuracy: 0.7680 - recall: 0.6579 - precision: 0.7176 - auc: 0.8336\n",
      "Epoch 00005: val_loss improved from 0.36422 to 0.33091, saving model to saved_models/gender_went_wrong/epoch5\n",
      "INFO:tensorflow:Assets written to: saved_models/gender_went_wrong/epoch5/assets\n",
      "211/211 [==============================] - 1880s 9s/step - loss: 0.4882 - accuracy: 0.7680 - recall: 0.6579 - precision: 0.7176 - auc: 0.8336 - val_loss: 0.3309 - val_accuracy: 0.8802 - val_recall: 0.8675 - val_precision: 0.8276 - val_auc: 0.9399\n",
      "Epoch 6/100\n",
      "211/211 [==============================] - ETA: 0s - loss: 0.4917 - accuracy: 0.7739 - recall: 0.6703 - precision: 0.7238 - auc: 0.8325\n",
      "Epoch 00006: val_loss did not improve from 0.33091\n",
      "211/211 [==============================] - 1872s 9s/step - loss: 0.4917 - accuracy: 0.7739 - recall: 0.6703 - precision: 0.7238 - auc: 0.8325 - val_loss: 0.6498 - val_accuracy: 0.6774 - val_recall: 0.1566 - val_precision: 1.0000 - val_auc: 0.9352\n",
      "Epoch 7/100\n",
      "211/211 [==============================] - ETA: 0s - loss: 0.4838 - accuracy: 0.7662 - recall: 0.6456 - precision: 0.7199 - auc: 0.8373\n",
      "Epoch 00007: val_loss did not improve from 0.33091\n",
      "211/211 [==============================] - 1877s 9s/step - loss: 0.4838 - accuracy: 0.7662 - recall: 0.6456 - precision: 0.7199 - auc: 0.8373 - val_loss: 0.4871 - val_accuracy: 0.7650 - val_recall: 0.3855 - val_precision: 1.0000 - val_auc: 0.9392\n",
      "Epoch 8/100\n",
      "211/211 [==============================] - ETA: 0s - loss: 0.4557 - accuracy: 0.7918 - recall: 0.7011 - precision: 0.7447 - auc: 0.8565\n",
      "Epoch 00008: val_loss did not improve from 0.33091\n",
      "211/211 [==============================] - 1874s 9s/step - loss: 0.4557 - accuracy: 0.7918 - recall: 0.7011 - precision: 0.7447 - auc: 0.8565 - val_loss: 0.8345 - val_accuracy: 0.6590 - val_recall: 0.1084 - val_precision: 1.0000 - val_auc: 0.9409\n",
      "Epoch 9/100\n",
      "211/211 [==============================] - ETA: 0s - loss: 0.4673 - accuracy: 0.7864 - recall: 0.6703 - precision: 0.7500 - auc: 0.8500\n",
      "Epoch 00009: val_loss did not improve from 0.33091\n",
      "211/211 [==============================] - 1873s 9s/step - loss: 0.4673 - accuracy: 0.7864 - recall: 0.6703 - precision: 0.7500 - auc: 0.8500 - val_loss: 0.4239 - val_accuracy: 0.8249 - val_recall: 0.5783 - val_precision: 0.9412 - val_auc: 0.9381\n",
      "Epoch 10/100\n",
      "211/211 [==============================] - ETA: 0s - loss: 0.4504 - accuracy: 0.7882 - recall: 0.6841 - precision: 0.7462 - auc: 0.8615\n",
      "Epoch 00010: val_loss did not improve from 0.33091\n",
      "211/211 [==============================] - 1885s 9s/step - loss: 0.4504 - accuracy: 0.7882 - recall: 0.6841 - precision: 0.7462 - auc: 0.8615 - val_loss: 0.3458 - val_accuracy: 0.8341 - val_recall: 0.6506 - val_precision: 0.8852 - val_auc: 0.9427\n",
      "Epoch 11/100\n",
      "211/211 [==============================] - ETA: 0s - loss: 0.4324 - accuracy: 0.7930 - recall: 0.7211 - precision: 0.7370 - auc: 0.8708\n",
      "Epoch 00011: val_loss improved from 0.33091 to 0.31980, saving model to saved_models/gender_went_wrong/epoch11\n",
      "INFO:tensorflow:Assets written to: saved_models/gender_went_wrong/epoch11/assets\n",
      "211/211 [==============================] - 1871s 9s/step - loss: 0.4324 - accuracy: 0.7930 - recall: 0.7211 - precision: 0.7370 - auc: 0.8708 - val_loss: 0.3198 - val_accuracy: 0.8802 - val_recall: 0.8795 - val_precision: 0.8202 - val_auc: 0.9461\n",
      "Epoch 12/100\n",
      "211/211 [==============================] - ETA: 0s - loss: 0.4281 - accuracy: 0.8037 - recall: 0.7180 - precision: 0.7602 - auc: 0.8751\n",
      "Epoch 00012: val_loss improved from 0.31980 to 0.29726, saving model to saved_models/gender_went_wrong/epoch12\n",
      "INFO:tensorflow:Assets written to: saved_models/gender_went_wrong/epoch12/assets\n",
      "211/211 [==============================] - 1875s 9s/step - loss: 0.4281 - accuracy: 0.8037 - recall: 0.7180 - precision: 0.7602 - auc: 0.8751 - val_loss: 0.2973 - val_accuracy: 0.8664 - val_recall: 0.8072 - val_precision: 0.8375 - val_auc: 0.9477\n",
      "Epoch 13/100\n",
      "211/211 [==============================] - ETA: 0s - loss: 0.4367 - accuracy: 0.7954 - recall: 0.6888 - precision: 0.7589 - auc: 0.8703\n",
      "Epoch 00013: val_loss did not improve from 0.29726\n",
      "211/211 [==============================] - 1882s 9s/step - loss: 0.4367 - accuracy: 0.7954 - recall: 0.6888 - precision: 0.7589 - auc: 0.8703 - val_loss: 0.3423 - val_accuracy: 0.8525 - val_recall: 0.6867 - val_precision: 0.9048 - val_auc: 0.9456\n",
      "Epoch 14/100\n",
      "211/211 [==============================] - ETA: 0s - loss: 0.4291 - accuracy: 0.8067 - recall: 0.7134 - precision: 0.7691 - auc: 0.8736\n",
      "Epoch 00014: val_loss did not improve from 0.29726\n",
      "211/211 [==============================] - 1872s 9s/step - loss: 0.4291 - accuracy: 0.8067 - recall: 0.7134 - precision: 0.7691 - auc: 0.8736 - val_loss: 0.3198 - val_accuracy: 0.8710 - val_recall: 0.7349 - val_precision: 0.9104 - val_auc: 0.9421\n",
      "Epoch 15/100\n",
      "211/211 [==============================] - ETA: 0s - loss: 0.4121 - accuracy: 0.8138 - recall: 0.7319 - precision: 0.7736 - auc: 0.8850\n",
      "Epoch 00015: val_loss did not improve from 0.29726\n",
      "211/211 [==============================] - 1882s 9s/step - loss: 0.4121 - accuracy: 0.8138 - recall: 0.7319 - precision: 0.7736 - auc: 0.8850 - val_loss: 0.3085 - val_accuracy: 0.8571 - val_recall: 0.8193 - val_precision: 0.8095 - val_auc: 0.9396\n"
     ]
    },
    {
     "name": "stdout",
     "output_type": "stream",
     "text": [
      "Epoch 16/100\n",
      "211/211 [==============================] - ETA: 0s - loss: 0.4070 - accuracy: 0.8114 - recall: 0.7319 - precision: 0.7686 - auc: 0.8893\n",
      "Epoch 00016: val_loss did not improve from 0.29726\n",
      "211/211 [==============================] - 1877s 9s/step - loss: 0.4070 - accuracy: 0.8114 - recall: 0.7319 - precision: 0.7686 - auc: 0.8893 - val_loss: 0.3267 - val_accuracy: 0.8664 - val_recall: 0.7349 - val_precision: 0.8971 - val_auc: 0.9372\n",
      "Epoch 17/100\n",
      "211/211 [==============================] - ETA: 0s - loss: 0.4068 - accuracy: 0.8150 - recall: 0.7242 - precision: 0.7807 - auc: 0.8872\n",
      "Epoch 00017: val_loss improved from 0.29726 to 0.29210, saving model to saved_models/gender_went_wrong/epoch17\n",
      "INFO:tensorflow:Assets written to: saved_models/gender_went_wrong/epoch17/assets\n",
      "211/211 [==============================] - 1845s 9s/step - loss: 0.4068 - accuracy: 0.8150 - recall: 0.7242 - precision: 0.7807 - auc: 0.8872 - val_loss: 0.2921 - val_accuracy: 0.8571 - val_recall: 0.7831 - val_precision: 0.8333 - val_auc: 0.9452\n",
      "Epoch 18/100\n",
      "211/211 [==============================] - ETA: 0s - loss: 0.4142 - accuracy: 0.8079 - recall: 0.7242 - precision: 0.7655 - auc: 0.8849\n",
      "Epoch 00018: val_loss did not improve from 0.29210\n",
      "211/211 [==============================] - 1869s 9s/step - loss: 0.4142 - accuracy: 0.8079 - recall: 0.7242 - precision: 0.7655 - auc: 0.8849 - val_loss: 0.3256 - val_accuracy: 0.8710 - val_recall: 0.7349 - val_precision: 0.9104 - val_auc: 0.9425\n",
      "Epoch 19/100\n",
      "211/211 [==============================] - ETA: 0s - loss: 0.4074 - accuracy: 0.8126 - recall: 0.7365 - precision: 0.7685 - auc: 0.8871\n",
      "Epoch 00019: val_loss did not improve from 0.29210\n",
      "211/211 [==============================] - 1873s 9s/step - loss: 0.4074 - accuracy: 0.8126 - recall: 0.7365 - precision: 0.7685 - auc: 0.8871 - val_loss: 0.3819 - val_accuracy: 0.8479 - val_recall: 0.6265 - val_precision: 0.9630 - val_auc: 0.9424\n",
      "Epoch 20/100\n",
      "211/211 [==============================] - ETA: 0s - loss: 0.4174 - accuracy: 0.8001 - recall: 0.6980 - precision: 0.7639 - auc: 0.8815\n",
      "Epoch 00020: val_loss did not improve from 0.29210\n",
      "211/211 [==============================] - 1888s 9s/step - loss: 0.4174 - accuracy: 0.8001 - recall: 0.6980 - precision: 0.7639 - auc: 0.8815 - val_loss: 0.3172 - val_accuracy: 0.8756 - val_recall: 0.7349 - val_precision: 0.9242 - val_auc: 0.9452\n",
      "Epoch 21/100\n",
      "211/211 [==============================] - ETA: 0s - loss: 0.4075 - accuracy: 0.8108 - recall: 0.7257 - precision: 0.7709 - auc: 0.8879\n",
      "Epoch 00021: val_loss did not improve from 0.29210\n",
      "211/211 [==============================] - 1870s 9s/step - loss: 0.4075 - accuracy: 0.8108 - recall: 0.7257 - precision: 0.7709 - auc: 0.8879 - val_loss: 0.3535 - val_accuracy: 0.8571 - val_recall: 0.6747 - val_precision: 0.9333 - val_auc: 0.9432\n",
      "Epoch 22/100\n",
      "211/211 [==============================] - ETA: 0s - loss: 0.3985 - accuracy: 0.8120 - recall: 0.7350 - precision: 0.7681 - auc: 0.8929\n",
      "Epoch 00022: val_loss did not improve from 0.29210\n",
      "211/211 [==============================] - 1863s 9s/step - loss: 0.3985 - accuracy: 0.8120 - recall: 0.7350 - precision: 0.7681 - auc: 0.8929 - val_loss: 0.4051 - val_accuracy: 0.8479 - val_recall: 0.6265 - val_precision: 0.9630 - val_auc: 0.9427\n",
      "Epoch 23/100\n",
      "211/211 [==============================] - ETA: 0s - loss: 0.4019 - accuracy: 0.8215 - recall: 0.7088 - precision: 0.8056 - auc: 0.8919\n",
      "Epoch 00023: val_loss did not improve from 0.29210\n",
      "211/211 [==============================] - 1874s 9s/step - loss: 0.4019 - accuracy: 0.8215 - recall: 0.7088 - precision: 0.8056 - auc: 0.8919 - val_loss: 0.3327 - val_accuracy: 0.8664 - val_recall: 0.6988 - val_precision: 0.9355 - val_auc: 0.9455\n",
      "Epoch 24/100\n",
      "211/211 [==============================] - ETA: 0s - loss: 0.4106 - accuracy: 0.8203 - recall: 0.7242 - precision: 0.7926 - auc: 0.8867\n",
      "Epoch 00024: val_loss did not improve from 0.29210\n",
      "211/211 [==============================] - 1872s 9s/step - loss: 0.4106 - accuracy: 0.8203 - recall: 0.7242 - precision: 0.7926 - auc: 0.8867 - val_loss: 0.3238 - val_accuracy: 0.8664 - val_recall: 0.7108 - val_precision: 0.9219 - val_auc: 0.9443\n",
      "Epoch 25/100\n",
      "211/211 [==============================] - ETA: 0s - loss: 0.3869 - accuracy: 0.8192 - recall: 0.7304 - precision: 0.7861 - auc: 0.9002\n",
      "Epoch 00025: val_loss did not improve from 0.29210\n",
      "211/211 [==============================] - 1887s 9s/step - loss: 0.3869 - accuracy: 0.8192 - recall: 0.7304 - precision: 0.7861 - auc: 0.9002 - val_loss: 0.3153 - val_accuracy: 0.8710 - val_recall: 0.7349 - val_precision: 0.9104 - val_auc: 0.9442\n",
      "Epoch 26/100\n",
      "211/211 [==============================] - ETA: 0s - loss: 0.4093 - accuracy: 0.8090 - recall: 0.7242 - precision: 0.7680 - auc: 0.8867\n",
      "Epoch 00026: val_loss did not improve from 0.29210\n",
      "211/211 [==============================] - 1875s 9s/step - loss: 0.4093 - accuracy: 0.8090 - recall: 0.7242 - precision: 0.7680 - auc: 0.8867 - val_loss: 0.3325 - val_accuracy: 0.8710 - val_recall: 0.7108 - val_precision: 0.9365 - val_auc: 0.9438\n",
      "Epoch 27/100\n",
      "211/211 [==============================] - ETA: 0s - loss: 0.4081 - accuracy: 0.8150 - recall: 0.7149 - precision: 0.7864 - auc: 0.8874\n",
      "Epoch 00027: val_loss did not improve from 0.29210\n",
      "211/211 [==============================] - 1877s 9s/step - loss: 0.4081 - accuracy: 0.8150 - recall: 0.7149 - precision: 0.7864 - auc: 0.8874 - val_loss: 0.3405 - val_accuracy: 0.8664 - val_recall: 0.6988 - val_precision: 0.9355 - val_auc: 0.9431\n"
     ]
    },
    {
     "data": {
      "text/plain": [
       "<tensorflow.python.keras.callbacks.History at 0x7f9c140aba00>"
      ]
     },
     "execution_count": 15,
     "metadata": {},
     "output_type": "execute_result"
    }
   ],
   "source": [
    "model.fit(\n",
    "    train_dataset,\n",
    "    validation_data=validation_dataset,\n",
    "    epochs=100,\n",
    "    shuffle=True,\n",
    "    verbose=1,\n",
    "    callbacks=callbacks,\n",
    ")"
   ]
  },
  {
   "cell_type": "code",
   "execution_count": null,
   "metadata": {},
   "outputs": [],
   "source": [
    "#Because the final model is usually a bit better than the last model checkpoint, we save it manually"
   ]
  },
  {
   "cell_type": "code",
   "execution_count": 17,
   "metadata": {},
   "outputs": [
    {
     "name": "stdout",
     "output_type": "stream",
     "text": [
      "INFO:tensorflow:Assets written to: saved_models/gender_went_wrong/finalmodel/assets\n"
     ]
    }
   ],
   "source": [
    "model.save(\"saved_models/gender_went_wrong/finalmodel\")"
   ]
  },
  {
   "cell_type": "code",
   "execution_count": null,
   "metadata": {},
   "outputs": [],
   "source": [
    "#Then we can load the checkpoint and compare their performance"
   ]
  },
  {
   "cell_type": "code",
   "execution_count": 10,
   "metadata": {},
   "outputs": [],
   "source": [
    "checkmodel=tf.keras.models.load_model(\"\")"
   ]
  },
  {
   "cell_type": "code",
   "execution_count": 11,
   "metadata": {},
   "outputs": [
    {
     "name": "stdout",
     "output_type": "stream",
     "text": [
      "28/28 [==============================] - 1s 23ms/step - loss: 0.2921 - accuracy: 0.8571 - recall: 0.7831 - precision: 0.8333 - auc: 0.9452   \n"
     ]
    },
    {
     "data": {
      "text/plain": [
       "[0.29209765791893005,\n",
       " 0.8571428656578064,\n",
       " 0.7831325531005859,\n",
       " 0.8333333134651184,\n",
       " 0.9451537132263184]"
      ]
     },
     "execution_count": 11,
     "metadata": {},
     "output_type": "execute_result"
    }
   ],
   "source": [
    "checkmodel.evaluate(validation_dataset)"
   ]
  },
  {
   "cell_type": "code",
   "execution_count": 12,
   "metadata": {},
   "outputs": [
    {
     "name": "stdout",
     "output_type": "stream",
     "text": [
      "27/27 [==============================] - 1s 23ms/step - loss: 0.3892 - accuracy: 0.7877 - recall: 0.7805 - precision: 0.7033 - auc: 0.9042    \n"
     ]
    },
    {
     "data": {
      "text/plain": [
       "[0.3891744911670685,\n",
       " 0.7877358198165894,\n",
       " 0.7804877758026123,\n",
       " 0.7032967209815979,\n",
       " 0.9042213559150696]"
      ]
     },
     "execution_count": 12,
     "metadata": {},
     "output_type": "execute_result"
    }
   ],
   "source": [
    "checkmodel.evaluate(test_dataset)"
   ]
  },
  {
   "cell_type": "code",
   "execution_count": null,
   "metadata": {},
   "outputs": [],
   "source": []
  }
 ],
 "metadata": {
  "kernelspec": {
   "display_name": "Python 3",
   "language": "python",
   "name": "python3"
  },
  "language_info": {
   "codemirror_mode": {
    "name": "ipython",
    "version": 3
   },
   "file_extension": ".py",
   "mimetype": "text/x-python",
   "name": "python",
   "nbconvert_exporter": "python",
   "pygments_lexer": "ipython3",
   "version": "3.8.5"
  }
 },
 "nbformat": 4,
 "nbformat_minor": 4
}
