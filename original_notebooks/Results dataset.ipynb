{
 "cells": [
  {
   "cell_type": "code",
   "execution_count": 1,
   "metadata": {},
   "outputs": [],
   "source": [
    "import numpy as np\n",
    "import pandas as pd\n",
    "import matplotlib.pyplot as plt"
   ]
  },
  {
   "cell_type": "code",
   "execution_count": 2,
   "metadata": {},
   "outputs": [],
   "source": [
    "#Load converters and take the conversion time from that excel"
   ]
  },
  {
   "cell_type": "code",
   "execution_count": 4,
   "metadata": {},
   "outputs": [
    {
     "data": {
      "text/plain": [
       "'/local_mount/space/celer/1/users/notebooks/moises'"
      ]
     },
     "execution_count": 4,
     "metadata": {},
     "output_type": "execute_result"
    }
   ],
   "source": [
    "pwd"
   ]
  },
  {
   "cell_type": "code",
   "execution_count": 5,
   "metadata": {},
   "outputs": [],
   "source": [
    "conv=pd.read_excel(\"/local_mount/space/celer/1/users/notebooks/moises/excels/conv_with_time.xlsx\", engine=\"openpyxl\", index_col=0)"
   ]
  },
  {
   "cell_type": "code",
   "execution_count": 6,
   "metadata": {},
   "outputs": [],
   "source": [
    "conv=conv.dropna()"
   ]
  },
  {
   "cell_type": "code",
   "execution_count": 7,
   "metadata": {},
   "outputs": [],
   "source": [
    "del conv['present']\n",
    "del conv['EXAMDATE']"
   ]
  },
  {
   "cell_type": "code",
   "execution_count": 8,
   "metadata": {},
   "outputs": [
    {
     "data": {
      "text/html": [
       "<div>\n",
       "<style scoped>\n",
       "    .dataframe tbody tr th:only-of-type {\n",
       "        vertical-align: middle;\n",
       "    }\n",
       "\n",
       "    .dataframe tbody tr th {\n",
       "        vertical-align: top;\n",
       "    }\n",
       "\n",
       "    .dataframe thead th {\n",
       "        text-align: right;\n",
       "    }\n",
       "</style>\n",
       "<table border=\"1\" class=\"dataframe\">\n",
       "  <thead>\n",
       "    <tr style=\"text-align: right;\">\n",
       "      <th></th>\n",
       "      <th>days_to_conv</th>\n",
       "    </tr>\n",
       "  </thead>\n",
       "  <tbody>\n",
       "    <tr>\n",
       "      <th>002_S_0729</th>\n",
       "      <td>418</td>\n",
       "    </tr>\n",
       "    <tr>\n",
       "      <th>002_S_1268</th>\n",
       "      <td>2178</td>\n",
       "    </tr>\n",
       "    <tr>\n",
       "      <th>003_S_1057</th>\n",
       "      <td>755</td>\n",
       "    </tr>\n",
       "    <tr>\n",
       "      <th>003_S_1074</th>\n",
       "      <td>3338</td>\n",
       "    </tr>\n",
       "    <tr>\n",
       "      <th>005_S_0222</th>\n",
       "      <td>376</td>\n",
       "    </tr>\n",
       "    <tr>\n",
       "      <th>...</th>\n",
       "      <td>...</td>\n",
       "    </tr>\n",
       "    <tr>\n",
       "      <th>137_S_0973</th>\n",
       "      <td>1181</td>\n",
       "    </tr>\n",
       "    <tr>\n",
       "      <th>137_S_0994</th>\n",
       "      <td>1451</td>\n",
       "    </tr>\n",
       "    <tr>\n",
       "      <th>141_S_1004</th>\n",
       "      <td>182</td>\n",
       "    </tr>\n",
       "    <tr>\n",
       "      <th>941_S_1295</th>\n",
       "      <td>539</td>\n",
       "    </tr>\n",
       "    <tr>\n",
       "      <th>941_S_1311</th>\n",
       "      <td>401</td>\n",
       "    </tr>\n",
       "  </tbody>\n",
       "</table>\n",
       "<p>125 rows × 1 columns</p>\n",
       "</div>"
      ],
      "text/plain": [
       "            days_to_conv\n",
       "002_S_0729           418\n",
       "002_S_1268          2178\n",
       "003_S_1057           755\n",
       "003_S_1074          3338\n",
       "005_S_0222           376\n",
       "...                  ...\n",
       "137_S_0973          1181\n",
       "137_S_0994          1451\n",
       "141_S_1004           182\n",
       "941_S_1295           539\n",
       "941_S_1311           401\n",
       "\n",
       "[125 rows x 1 columns]"
      ]
     },
     "execution_count": 8,
     "metadata": {},
     "output_type": "execute_result"
    }
   ],
   "source": [
    "conv"
   ]
  },
  {
   "cell_type": "code",
   "execution_count": null,
   "metadata": {},
   "outputs": [],
   "source": [
    "#Load MMSE, THIS IS THE MMSE THAT WE DID NOT USE, WE USED THE ONE FROM MERGE"
   ]
  },
  {
   "cell_type": "code",
   "execution_count": null,
   "metadata": {},
   "outputs": [],
   "source": [
    "mmse=pd.read_excel('5folds_preds&MMSE.xlsx',engine='openpyxl',index_col=0)"
   ]
  },
  {
   "cell_type": "code",
   "execution_count": null,
   "metadata": {},
   "outputs": [],
   "source": [
    "mmse"
   ]
  },
  {
   "cell_type": "code",
   "execution_count": null,
   "metadata": {},
   "outputs": [],
   "source": [
    "#Load MCD data"
   ]
  },
  {
   "cell_type": "code",
   "execution_count": null,
   "metadata": {},
   "outputs": [],
   "source": [
    "mc=pd.read_excel(\"mc_preds_SD500_processed.xlsx\",engine='openpyxl',index_col=0)"
   ]
  },
  {
   "cell_type": "code",
   "execution_count": null,
   "metadata": {},
   "outputs": [],
   "source": [
    "mc"
   ]
  },
  {
   "cell_type": "code",
   "execution_count": null,
   "metadata": {},
   "outputs": [],
   "source": []
  },
  {
   "cell_type": "code",
   "execution_count": null,
   "metadata": {},
   "outputs": [],
   "source": [
    "results=pd.concat((mc,conv), axis=1)"
   ]
  },
  {
   "cell_type": "code",
   "execution_count": null,
   "metadata": {},
   "outputs": [],
   "source": [
    "results=results.dropna(subset=['MC_pred'])"
   ]
  },
  {
   "cell_type": "code",
   "execution_count": null,
   "metadata": {},
   "outputs": [],
   "source": [
    "results"
   ]
  },
  {
   "cell_type": "code",
   "execution_count": null,
   "metadata": {},
   "outputs": [],
   "source": [
    "results=pd.concat((results,mmse),axis=1)"
   ]
  },
  {
   "cell_type": "code",
   "execution_count": null,
   "metadata": {},
   "outputs": [],
   "source": [
    "results"
   ]
  },
  {
   "cell_type": "code",
   "execution_count": null,
   "metadata": {},
   "outputs": [],
   "source": [
    "#Get time of follow up"
   ]
  },
  {
   "cell_type": "code",
   "execution_count": null,
   "metadata": {},
   "outputs": [],
   "source": [
    "dx=pd.read_csv('DXSUM_PDXCONV_ADNIALL.csv')"
   ]
  },
  {
   "cell_type": "code",
   "execution_count": null,
   "metadata": {},
   "outputs": [],
   "source": [
    "dx=dx.set_index('PTID')"
   ]
  },
  {
   "cell_type": "code",
   "execution_count": null,
   "metadata": {},
   "outputs": [],
   "source": [
    "b=dict(dx['EXAMDATE'])"
   ]
  },
  {
   "cell_type": "code",
   "execution_count": null,
   "metadata": {},
   "outputs": [],
   "source": [
    "from datetime import datetime\n",
    "import math\n",
    "\n",
    "def days_between(d1, d2):\n",
    "    d1 = datetime.strptime(d1, \"%Y-%m-%d\")\n",
    "    d2 = datetime.strptime(d2, \"%Y-%m-%d\")\n",
    "    return abs((d2 - d1).days)"
   ]
  },
  {
   "cell_type": "code",
   "execution_count": null,
   "metadata": {},
   "outputs": [],
   "source": [
    "a=list(results.index)"
   ]
  },
  {
   "cell_type": "code",
   "execution_count": null,
   "metadata": {},
   "outputs": [],
   "source": [
    "list(b.get('037_S_0552'))"
   ]
  },
  {
   "cell_type": "code",
   "execution_count": null,
   "metadata": {},
   "outputs": [],
   "source": [
    "timef={}\n",
    "for i in a:\n",
    "    c=b.get(i)\n",
    "    c=list(c)\n",
    "    newlist=[]\n",
    "    for item in c:\n",
    "        if str(item) != 'nan':\n",
    "            newlist.append(item)\n",
    "    c=newlist\n",
    "    print(i)\n",
    "    if len(c[-1])>1:\n",
    "        print(\"Started\",c[0],\"Ended\",c[-1])\n",
    "        d=days_between(c[0],c[-1])\n",
    "        print(\"Days of followup:\",d)\n",
    "        timef.update({i: d})\n",
    "    else:\n",
    "        print(\"Single date\")"
   ]
  },
  {
   "cell_type": "code",
   "execution_count": null,
   "metadata": {},
   "outputs": [],
   "source": [
    "len(timef)"
   ]
  },
  {
   "cell_type": "code",
   "execution_count": null,
   "metadata": {},
   "outputs": [],
   "source": [
    "time_fol=pd.DataFrame.from_dict(timef, orient='index', columns=['Followup'])"
   ]
  },
  {
   "cell_type": "code",
   "execution_count": null,
   "metadata": {},
   "outputs": [],
   "source": [
    "time_fol"
   ]
  },
  {
   "cell_type": "code",
   "execution_count": null,
   "metadata": {},
   "outputs": [],
   "source": [
    "results=pd.concat((results,time_fol),axis=1)"
   ]
  },
  {
   "cell_type": "code",
   "execution_count": null,
   "metadata": {},
   "outputs": [],
   "source": [
    "results=results.dropna(subset=['MC_pred'])"
   ]
  },
  {
   "cell_type": "code",
   "execution_count": null,
   "metadata": {},
   "outputs": [],
   "source": [
    "#Load demographic variables, MMSE_dem IS THE ONE USED IN THE PAPER"
   ]
  },
  {
   "cell_type": "code",
   "execution_count": null,
   "metadata": {},
   "outputs": [],
   "source": [
    "demog=pd.read_excel(\"processed_demog.xlsx\", engine=\"openpyxl\", index_col=0)"
   ]
  },
  {
   "cell_type": "code",
   "execution_count": null,
   "metadata": {},
   "outputs": [],
   "source": [
    "results=pd.concat((results,demog),axis=1)"
   ]
  },
  {
   "cell_type": "code",
   "execution_count": null,
   "metadata": {},
   "outputs": [],
   "source": [
    "results"
   ]
  },
  {
   "cell_type": "code",
   "execution_count": null,
   "metadata": {},
   "outputs": [],
   "source": []
  },
  {
   "cell_type": "code",
   "execution_count": null,
   "metadata": {},
   "outputs": [],
   "source": [
    "results.to_excel(\"finally_results_dataset.xlsx\")"
   ]
  },
  {
   "cell_type": "code",
   "execution_count": null,
   "metadata": {},
   "outputs": [],
   "source": []
  },
  {
   "cell_type": "markdown",
   "metadata": {},
   "source": [
    "## Start here"
   ]
  },
  {
   "cell_type": "code",
   "execution_count": null,
   "metadata": {},
   "outputs": [],
   "source": [
    "\"\"\"From here on I look into different things, a lot of this came into the paper"
   ]
  },
  {
   "cell_type": "code",
   "execution_count": 1,
   "metadata": {},
   "outputs": [],
   "source": [
    "import numpy as np\n",
    "import pandas as pd\n",
    "import matplotlib.pyplot as plt"
   ]
  },
  {
   "cell_type": "code",
   "execution_count": 2,
   "metadata": {},
   "outputs": [],
   "source": [
    "results=pd.read_excel(\"finally_results_dataset.xlsx\",engine='openpyxl',index_col=0)"
   ]
  },
  {
   "cell_type": "code",
   "execution_count": 3,
   "metadata": {},
   "outputs": [],
   "source": [
    "#This line serves only to filter for the TableOne, if not is better to leave them as 0 and 1\n",
    "results['Conversion'].replace([0,1],[\"sMCI\",\"pMCI\"],inplace=True)"
   ]
  },
  {
   "cell_type": "code",
   "execution_count": 3,
   "metadata": {},
   "outputs": [
    {
     "data": {
      "text/html": [
       "<div>\n",
       "<style scoped>\n",
       "    .dataframe tbody tr th:only-of-type {\n",
       "        vertical-align: middle;\n",
       "    }\n",
       "\n",
       "    .dataframe tbody tr th {\n",
       "        vertical-align: top;\n",
       "    }\n",
       "\n",
       "    .dataframe thead th {\n",
       "        text-align: right;\n",
       "    }\n",
       "</style>\n",
       "<table border=\"1\" class=\"dataframe\">\n",
       "  <thead>\n",
       "    <tr style=\"text-align: right;\">\n",
       "      <th></th>\n",
       "      <th>Conversion</th>\n",
       "      <th>MC_pred</th>\n",
       "      <th>SD</th>\n",
       "      <th>days_to_conv</th>\n",
       "      <th>MMSE</th>\n",
       "      <th>pred</th>\n",
       "      <th>Followup</th>\n",
       "      <th>Followup_years</th>\n",
       "      <th>Gender</th>\n",
       "      <th>Age</th>\n",
       "      <th>Cohort</th>\n",
       "      <th>Education_years</th>\n",
       "      <th>APOE4</th>\n",
       "      <th>MMSE_dem</th>\n",
       "      <th>MOCA</th>\n",
       "    </tr>\n",
       "  </thead>\n",
       "  <tbody>\n",
       "    <tr>\n",
       "      <th>041_S_1418</th>\n",
       "      <td>0</td>\n",
       "      <td>0.201659</td>\n",
       "      <td>0.054424</td>\n",
       "      <td>NaN</td>\n",
       "      <td>NaN</td>\n",
       "      <td>0.218482</td>\n",
       "      <td>3658.0</td>\n",
       "      <td>10.021918</td>\n",
       "      <td>Male</td>\n",
       "      <td>81.5</td>\n",
       "      <td>ADNI1</td>\n",
       "      <td>12.0</td>\n",
       "      <td>0.0</td>\n",
       "      <td>29.0</td>\n",
       "      <td>NaN</td>\n",
       "    </tr>\n",
       "    <tr>\n",
       "      <th>041_S_0679</th>\n",
       "      <td>0</td>\n",
       "      <td>0.145866</td>\n",
       "      <td>0.048478</td>\n",
       "      <td>NaN</td>\n",
       "      <td>NaN</td>\n",
       "      <td>0.152578</td>\n",
       "      <td>5673.0</td>\n",
       "      <td>15.542466</td>\n",
       "      <td>Male</td>\n",
       "      <td>62.9</td>\n",
       "      <td>ADNI1</td>\n",
       "      <td>18.0</td>\n",
       "      <td>0.0</td>\n",
       "      <td>29.0</td>\n",
       "      <td>NaN</td>\n",
       "    </tr>\n",
       "    <tr>\n",
       "      <th>021_S_0178</th>\n",
       "      <td>0</td>\n",
       "      <td>0.260914</td>\n",
       "      <td>0.091332</td>\n",
       "      <td>NaN</td>\n",
       "      <td>NaN</td>\n",
       "      <td>0.252711</td>\n",
       "      <td>5521.0</td>\n",
       "      <td>15.126027</td>\n",
       "      <td>Male</td>\n",
       "      <td>64.8</td>\n",
       "      <td>ADNI1</td>\n",
       "      <td>20.0</td>\n",
       "      <td>0.0</td>\n",
       "      <td>29.0</td>\n",
       "      <td>NaN</td>\n",
       "    </tr>\n",
       "    <tr>\n",
       "      <th>003_S_0908</th>\n",
       "      <td>0</td>\n",
       "      <td>0.083336</td>\n",
       "      <td>0.023164</td>\n",
       "      <td>NaN</td>\n",
       "      <td>30.0</td>\n",
       "      <td>0.084422</td>\n",
       "      <td>5494.0</td>\n",
       "      <td>15.052055</td>\n",
       "      <td>Female</td>\n",
       "      <td>62.9</td>\n",
       "      <td>ADNI1</td>\n",
       "      <td>16.0</td>\n",
       "      <td>0.0</td>\n",
       "      <td>NaN</td>\n",
       "      <td>NaN</td>\n",
       "    </tr>\n",
       "    <tr>\n",
       "      <th>003_S_1122</th>\n",
       "      <td>0</td>\n",
       "      <td>0.216492</td>\n",
       "      <td>0.054589</td>\n",
       "      <td>NaN</td>\n",
       "      <td>26.0</td>\n",
       "      <td>0.214708</td>\n",
       "      <td>5423.0</td>\n",
       "      <td>14.857534</td>\n",
       "      <td>Female</td>\n",
       "      <td>76.6</td>\n",
       "      <td>ADNI1</td>\n",
       "      <td>14.0</td>\n",
       "      <td>0.0</td>\n",
       "      <td>26.0</td>\n",
       "      <td>17.0</td>\n",
       "    </tr>\n",
       "    <tr>\n",
       "      <th>...</th>\n",
       "      <td>...</td>\n",
       "      <td>...</td>\n",
       "      <td>...</td>\n",
       "      <td>...</td>\n",
       "      <td>...</td>\n",
       "      <td>...</td>\n",
       "      <td>...</td>\n",
       "      <td>...</td>\n",
       "      <td>...</td>\n",
       "      <td>...</td>\n",
       "      <td>...</td>\n",
       "      <td>...</td>\n",
       "      <td>...</td>\n",
       "      <td>...</td>\n",
       "      <td>...</td>\n",
       "    </tr>\n",
       "    <tr>\n",
       "      <th>016_S_6939</th>\n",
       "      <td>0</td>\n",
       "      <td>0.552913</td>\n",
       "      <td>0.067572</td>\n",
       "      <td>NaN</td>\n",
       "      <td>NaN</td>\n",
       "      <td>0.558967</td>\n",
       "      <td>NaN</td>\n",
       "      <td>0.000000</td>\n",
       "      <td>Male</td>\n",
       "      <td>73.5</td>\n",
       "      <td>ADNI3</td>\n",
       "      <td>17.0</td>\n",
       "      <td>NaN</td>\n",
       "      <td>29.0</td>\n",
       "      <td>22.0</td>\n",
       "    </tr>\n",
       "    <tr>\n",
       "      <th>037_S_6627</th>\n",
       "      <td>0</td>\n",
       "      <td>0.231582</td>\n",
       "      <td>0.039356</td>\n",
       "      <td>NaN</td>\n",
       "      <td>NaN</td>\n",
       "      <td>0.235761</td>\n",
       "      <td>0.0</td>\n",
       "      <td>0.000000</td>\n",
       "      <td>Female</td>\n",
       "      <td>67.7</td>\n",
       "      <td>ADNI3</td>\n",
       "      <td>14.0</td>\n",
       "      <td>2.0</td>\n",
       "      <td>25.0</td>\n",
       "      <td>NaN</td>\n",
       "    </tr>\n",
       "    <tr>\n",
       "      <th>127_S_1210</th>\n",
       "      <td>0</td>\n",
       "      <td>0.897105</td>\n",
       "      <td>0.036924</td>\n",
       "      <td>NaN</td>\n",
       "      <td>NaN</td>\n",
       "      <td>0.905659</td>\n",
       "      <td>NaN</td>\n",
       "      <td>0.000000</td>\n",
       "      <td>Male</td>\n",
       "      <td>74.2</td>\n",
       "      <td>ADNI1</td>\n",
       "      <td>17.0</td>\n",
       "      <td>0.0</td>\n",
       "      <td>30.0</td>\n",
       "      <td>NaN</td>\n",
       "    </tr>\n",
       "    <tr>\n",
       "      <th>013_S_6206</th>\n",
       "      <td>0</td>\n",
       "      <td>0.100928</td>\n",
       "      <td>0.036040</td>\n",
       "      <td>NaN</td>\n",
       "      <td>NaN</td>\n",
       "      <td>0.099617</td>\n",
       "      <td>0.0</td>\n",
       "      <td>0.000000</td>\n",
       "      <td>Male</td>\n",
       "      <td>81.9</td>\n",
       "      <td>ADNI3</td>\n",
       "      <td>16.0</td>\n",
       "      <td>1.0</td>\n",
       "      <td>30.0</td>\n",
       "      <td>25.0</td>\n",
       "    </tr>\n",
       "    <tr>\n",
       "      <th>016_S_0590</th>\n",
       "      <td>0</td>\n",
       "      <td>0.680591</td>\n",
       "      <td>0.085001</td>\n",
       "      <td>NaN</td>\n",
       "      <td>NaN</td>\n",
       "      <td>0.715381</td>\n",
       "      <td>NaN</td>\n",
       "      <td>0.000000</td>\n",
       "      <td>Female</td>\n",
       "      <td>78.1</td>\n",
       "      <td>ADNI1</td>\n",
       "      <td>18.0</td>\n",
       "      <td>1.0</td>\n",
       "      <td>27.0</td>\n",
       "      <td>NaN</td>\n",
       "    </tr>\n",
       "  </tbody>\n",
       "</table>\n",
       "<p>373 rows × 15 columns</p>\n",
       "</div>"
      ],
      "text/plain": [
       "            Conversion   MC_pred        SD  days_to_conv  MMSE      pred  \\\n",
       "041_S_1418           0  0.201659  0.054424           NaN   NaN  0.218482   \n",
       "041_S_0679           0  0.145866  0.048478           NaN   NaN  0.152578   \n",
       "021_S_0178           0  0.260914  0.091332           NaN   NaN  0.252711   \n",
       "003_S_0908           0  0.083336  0.023164           NaN  30.0  0.084422   \n",
       "003_S_1122           0  0.216492  0.054589           NaN  26.0  0.214708   \n",
       "...                ...       ...       ...           ...   ...       ...   \n",
       "016_S_6939           0  0.552913  0.067572           NaN   NaN  0.558967   \n",
       "037_S_6627           0  0.231582  0.039356           NaN   NaN  0.235761   \n",
       "127_S_1210           0  0.897105  0.036924           NaN   NaN  0.905659   \n",
       "013_S_6206           0  0.100928  0.036040           NaN   NaN  0.099617   \n",
       "016_S_0590           0  0.680591  0.085001           NaN   NaN  0.715381   \n",
       "\n",
       "            Followup  Followup_years  Gender   Age Cohort  Education_years  \\\n",
       "041_S_1418    3658.0       10.021918    Male  81.5  ADNI1             12.0   \n",
       "041_S_0679    5673.0       15.542466    Male  62.9  ADNI1             18.0   \n",
       "021_S_0178    5521.0       15.126027    Male  64.8  ADNI1             20.0   \n",
       "003_S_0908    5494.0       15.052055  Female  62.9  ADNI1             16.0   \n",
       "003_S_1122    5423.0       14.857534  Female  76.6  ADNI1             14.0   \n",
       "...              ...             ...     ...   ...    ...              ...   \n",
       "016_S_6939       NaN        0.000000    Male  73.5  ADNI3             17.0   \n",
       "037_S_6627       0.0        0.000000  Female  67.7  ADNI3             14.0   \n",
       "127_S_1210       NaN        0.000000    Male  74.2  ADNI1             17.0   \n",
       "013_S_6206       0.0        0.000000    Male  81.9  ADNI3             16.0   \n",
       "016_S_0590       NaN        0.000000  Female  78.1  ADNI1             18.0   \n",
       "\n",
       "            APOE4  MMSE_dem  MOCA  \n",
       "041_S_1418    0.0      29.0   NaN  \n",
       "041_S_0679    0.0      29.0   NaN  \n",
       "021_S_0178    0.0      29.0   NaN  \n",
       "003_S_0908    0.0       NaN   NaN  \n",
       "003_S_1122    0.0      26.0  17.0  \n",
       "...           ...       ...   ...  \n",
       "016_S_6939    NaN      29.0  22.0  \n",
       "037_S_6627    2.0      25.0   NaN  \n",
       "127_S_1210    0.0      30.0   NaN  \n",
       "013_S_6206    1.0      30.0  25.0  \n",
       "016_S_0590    1.0      27.0   NaN  \n",
       "\n",
       "[373 rows x 15 columns]"
      ]
     },
     "execution_count": 3,
     "metadata": {},
     "output_type": "execute_result"
    }
   ],
   "source": [
    "results"
   ]
  },
  {
   "cell_type": "code",
   "execution_count": 8,
   "metadata": {},
   "outputs": [
    {
     "data": {
      "text/html": [
       "<div>\n",
       "<style scoped>\n",
       "    .dataframe tbody tr th:only-of-type {\n",
       "        vertical-align: middle;\n",
       "    }\n",
       "\n",
       "    .dataframe tbody tr th {\n",
       "        vertical-align: top;\n",
       "    }\n",
       "\n",
       "    .dataframe thead th {\n",
       "        text-align: right;\n",
       "    }\n",
       "</style>\n",
       "<table border=\"1\" class=\"dataframe\">\n",
       "  <thead>\n",
       "    <tr style=\"text-align: right;\">\n",
       "      <th></th>\n",
       "      <th>MC_pred</th>\n",
       "      <th>SD</th>\n",
       "      <th>days_to_conv</th>\n",
       "      <th>MMSE</th>\n",
       "      <th>pred</th>\n",
       "      <th>Followup</th>\n",
       "      <th>Followup_years</th>\n",
       "      <th>Age</th>\n",
       "      <th>Education_years</th>\n",
       "      <th>APOE4</th>\n",
       "      <th>MMSE_dem</th>\n",
       "      <th>MOCA</th>\n",
       "    </tr>\n",
       "  </thead>\n",
       "  <tbody>\n",
       "    <tr>\n",
       "      <th>count</th>\n",
       "      <td>373.000000</td>\n",
       "      <td>373.000000</td>\n",
       "      <td>106.000000</td>\n",
       "      <td>74.000000</td>\n",
       "      <td>373.000000</td>\n",
       "      <td>363.000000</td>\n",
       "      <td>373.000000</td>\n",
       "      <td>373.000000</td>\n",
       "      <td>364.000000</td>\n",
       "      <td>327.000000</td>\n",
       "      <td>343.000000</td>\n",
       "      <td>192.000000</td>\n",
       "    </tr>\n",
       "    <tr>\n",
       "      <th>mean</th>\n",
       "      <td>0.323845</td>\n",
       "      <td>0.045975</td>\n",
       "      <td>1063.575472</td>\n",
       "      <td>25.918919</td>\n",
       "      <td>0.330333</td>\n",
       "      <td>1349.118457</td>\n",
       "      <td>3.597121</td>\n",
       "      <td>73.420021</td>\n",
       "      <td>15.961538</td>\n",
       "      <td>0.587156</td>\n",
       "      <td>27.236152</td>\n",
       "      <td>22.598958</td>\n",
       "    </tr>\n",
       "    <tr>\n",
       "      <th>std</th>\n",
       "      <td>0.290615</td>\n",
       "      <td>0.026480</td>\n",
       "      <td>893.715348</td>\n",
       "      <td>3.895050</td>\n",
       "      <td>0.294907</td>\n",
       "      <td>1228.873639</td>\n",
       "      <td>3.374595</td>\n",
       "      <td>7.459860</td>\n",
       "      <td>2.715866</td>\n",
       "      <td>0.672113</td>\n",
       "      <td>2.353218</td>\n",
       "      <td>3.604912</td>\n",
       "    </tr>\n",
       "    <tr>\n",
       "      <th>min</th>\n",
       "      <td>0.001646</td>\n",
       "      <td>0.000725</td>\n",
       "      <td>0.000000</td>\n",
       "      <td>12.000000</td>\n",
       "      <td>0.001529</td>\n",
       "      <td>0.000000</td>\n",
       "      <td>0.000000</td>\n",
       "      <td>55.100000</td>\n",
       "      <td>8.000000</td>\n",
       "      <td>0.000000</td>\n",
       "      <td>9.000000</td>\n",
       "      <td>10.000000</td>\n",
       "    </tr>\n",
       "    <tr>\n",
       "      <th>25%</th>\n",
       "      <td>0.072430</td>\n",
       "      <td>0.023164</td>\n",
       "      <td>405.500000</td>\n",
       "      <td>24.000000</td>\n",
       "      <td>0.073096</td>\n",
       "      <td>441.500000</td>\n",
       "      <td>1.156164</td>\n",
       "      <td>68.900000</td>\n",
       "      <td>14.000000</td>\n",
       "      <td>0.000000</td>\n",
       "      <td>26.000000</td>\n",
       "      <td>21.000000</td>\n",
       "    </tr>\n",
       "    <tr>\n",
       "      <th>50%</th>\n",
       "      <td>0.234973</td>\n",
       "      <td>0.048509</td>\n",
       "      <td>731.000000</td>\n",
       "      <td>27.000000</td>\n",
       "      <td>0.244130</td>\n",
       "      <td>1088.000000</td>\n",
       "      <td>2.668493</td>\n",
       "      <td>73.900000</td>\n",
       "      <td>16.000000</td>\n",
       "      <td>0.000000</td>\n",
       "      <td>28.000000</td>\n",
       "      <td>23.000000</td>\n",
       "    </tr>\n",
       "    <tr>\n",
       "      <th>75%</th>\n",
       "      <td>0.532054</td>\n",
       "      <td>0.063340</td>\n",
       "      <td>1411.000000</td>\n",
       "      <td>29.000000</td>\n",
       "      <td>0.545129</td>\n",
       "      <td>1825.500000</td>\n",
       "      <td>4.846575</td>\n",
       "      <td>78.800000</td>\n",
       "      <td>18.000000</td>\n",
       "      <td>1.000000</td>\n",
       "      <td>29.000000</td>\n",
       "      <td>25.000000</td>\n",
       "    </tr>\n",
       "    <tr>\n",
       "      <th>max</th>\n",
       "      <td>0.989956</td>\n",
       "      <td>0.137047</td>\n",
       "      <td>3695.000000</td>\n",
       "      <td>30.000000</td>\n",
       "      <td>0.990844</td>\n",
       "      <td>5673.000000</td>\n",
       "      <td>15.542466</td>\n",
       "      <td>90.000000</td>\n",
       "      <td>20.000000</td>\n",
       "      <td>2.000000</td>\n",
       "      <td>30.000000</td>\n",
       "      <td>30.000000</td>\n",
       "    </tr>\n",
       "  </tbody>\n",
       "</table>\n",
       "</div>"
      ],
      "text/plain": [
       "          MC_pred          SD  days_to_conv       MMSE        pred  \\\n",
       "count  373.000000  373.000000    106.000000  74.000000  373.000000   \n",
       "mean     0.323845    0.045975   1063.575472  25.918919    0.330333   \n",
       "std      0.290615    0.026480    893.715348   3.895050    0.294907   \n",
       "min      0.001646    0.000725      0.000000  12.000000    0.001529   \n",
       "25%      0.072430    0.023164    405.500000  24.000000    0.073096   \n",
       "50%      0.234973    0.048509    731.000000  27.000000    0.244130   \n",
       "75%      0.532054    0.063340   1411.000000  29.000000    0.545129   \n",
       "max      0.989956    0.137047   3695.000000  30.000000    0.990844   \n",
       "\n",
       "          Followup  Followup_years         Age  Education_years       APOE4  \\\n",
       "count   363.000000      373.000000  373.000000       364.000000  327.000000   \n",
       "mean   1349.118457        3.597121   73.420021        15.961538    0.587156   \n",
       "std    1228.873639        3.374595    7.459860         2.715866    0.672113   \n",
       "min       0.000000        0.000000   55.100000         8.000000    0.000000   \n",
       "25%     441.500000        1.156164   68.900000        14.000000    0.000000   \n",
       "50%    1088.000000        2.668493   73.900000        16.000000    0.000000   \n",
       "75%    1825.500000        4.846575   78.800000        18.000000    1.000000   \n",
       "max    5673.000000       15.542466   90.000000        20.000000    2.000000   \n",
       "\n",
       "         MMSE_dem        MOCA  \n",
       "count  343.000000  192.000000  \n",
       "mean    27.236152   22.598958  \n",
       "std      2.353218    3.604912  \n",
       "min      9.000000   10.000000  \n",
       "25%     26.000000   21.000000  \n",
       "50%     28.000000   23.000000  \n",
       "75%     29.000000   25.000000  \n",
       "max     30.000000   30.000000  "
      ]
     },
     "execution_count": 8,
     "metadata": {},
     "output_type": "execute_result"
    }
   ],
   "source": [
    "results.describe()"
   ]
  },
  {
   "cell_type": "code",
   "execution_count": 10,
   "metadata": {},
   "outputs": [
    {
     "data": {
      "text/plain": [
       "array([[<AxesSubplot:title={'center':'MC_pred'}>,\n",
       "        <AxesSubplot:title={'center':'SD'}>,\n",
       "        <AxesSubplot:title={'center':'days_to_conv'}>],\n",
       "       [<AxesSubplot:title={'center':'MMSE'}>,\n",
       "        <AxesSubplot:title={'center':'pred'}>,\n",
       "        <AxesSubplot:title={'center':'Followup'}>],\n",
       "       [<AxesSubplot:title={'center':'Followup_years'}>,\n",
       "        <AxesSubplot:title={'center':'Age'}>,\n",
       "        <AxesSubplot:title={'center':'Education_years'}>],\n",
       "       [<AxesSubplot:title={'center':'APOE4'}>,\n",
       "        <AxesSubplot:title={'center':'MMSE_dem'}>,\n",
       "        <AxesSubplot:title={'center':'MOCA'}>]], dtype=object)"
      ]
     },
     "execution_count": 10,
     "metadata": {},
     "output_type": "execute_result"
    },
    {
     "data": {
      "image/png": "[encoded data removed]",
      "text/plain": [
       "<Figure size 1440x1080 with 12 Axes>"
      ]
     },
     "metadata": {
      "needs_background": "light"
     },
     "output_type": "display_data"
    }
   ],
   "source": [
    "results.hist(bins=35, figsize=(20,15))"
   ]
  },
  {
   "cell_type": "code",
   "execution_count": null,
   "metadata": {},
   "outputs": [],
   "source": []
  },
  {
   "cell_type": "code",
   "execution_count": 3,
   "metadata": {},
   "outputs": [],
   "source": [
    "from sklearn.metrics import roc_auc_score\n",
    "from sklearn.metrics import accuracy_score\n",
    "from sklearn.metrics import precision_score\n",
    "from sklearn.metrics import recall_score\n",
    "from sklearn.metrics import confusion_matrix\n",
    "from numpy import sqrt\n",
    "from numpy import argmax\n",
    "from sklearn.datasets import make_classification\n",
    "from sklearn.linear_model import LogisticRegression\n",
    "from sklearn.model_selection import train_test_split\n",
    "from sklearn.metrics import roc_curve\n",
    "from matplotlib import pyplot\n",
    "from sklearn.metrics import precision_recall_curve\n",
    "from tqdm.notebook import tqdm, trange\n",
    "from sklearn.metrics import ConfusionMatrixDisplay\n",
    "import tensorflow as tf"
   ]
  },
  {
   "cell_type": "code",
   "execution_count": null,
   "metadata": {},
   "outputs": [],
   "source": [
    "## Pooled val datasets prediction AUC, this is the one from Sup Material"
   ]
  },
  {
   "cell_type": "code",
   "execution_count": 4,
   "metadata": {},
   "outputs": [
    {
     "name": "stdout",
     "output_type": "stream",
     "text": [
      "Area under ROC curve is:  0.8266553600452263\n"
     ]
    },
    {
     "data": {
      "image/png": "[encoded data removed]",
      "text/plain": [
       "<Figure size 432x288 with 1 Axes>"
      ]
     },
     "metadata": {
      "needs_background": "light"
     },
     "output_type": "display_data"
    },
    {
     "name": "stdout",
     "output_type": "stream",
     "text": [
      "Accuracy with standard threshold:  0.7908847184986595\n",
      "S-E Best Threshold=0.313609, G-Mean=0.759\n",
      "Accuracy with adjusted threshold:  0.7426273458445041\n",
      "Sensitivity:  0.8018867924528302\n",
      "Specificity:  0.7191011235955056\n",
      "PPV:  0.53125\n",
      "NPV:  0.9014084507042254\n"
     ]
    }
   ],
   "source": [
    "auc=roc_auc_score(results[\"Conversion\"], results[\"pred\"])\n",
    "print(\"Area under ROC curve is: \",auc)\n",
    "# calculate roc curves\n",
    "fpr, tpr, thresholds = roc_curve(results[\"Conversion\"], results[\"pred\"], drop_intermediate=True)\n",
    "# calculate the g-mean for each threshold\n",
    "gmeans = sqrt(tpr * (1-fpr))\n",
    "# locate the index of the largest g-mean\n",
    "ix = np.argmax(gmeans)\n",
    "# plot the roc curve for the model\n",
    "pyplot.plot([0,1], [0,1], linestyle='--', label='No Skill')\n",
    "pyplot.plot(fpr, tpr, marker='.', label='Model pMCI/sMCI (AUC=%.2f)' % auc)\n",
    "\n",
    "# axis labels\n",
    "pyplot.xlabel('False Positive Rate')\n",
    "pyplot.ylabel('True Positive Rate')\n",
    "pyplot.legend()\n",
    "# show the plot\n",
    "pyplot.title(\"Receiver-Operating-Characteristic curve\")\n",
    "pyplot.show()\n",
    "print(\"Accuracy with standard threshold: \",accuracy_score(results[\"Conversion\"], \n",
    "                                                          (1*np.asarray(tf.greater(results['pred'], 0.5)))))\n",
    "print('S-E Best Threshold=%f, G-Mean=%.3f' % (thresholds[ix], gmeans[ix]))\n",
    "print(\"Accuracy with adjusted threshold: \",accuracy_score(results[\"Conversion\"], \n",
    "                                                          (1*np.asarray(tf.greater(results['pred'], 0.313609)))))\n",
    "tn, fp, fn, tp = confusion_matrix(results[\"Conversion\"], \n",
    "                                        (1*np.asarray(tf.greater(results['pred'], 0.313609)))).ravel()\n",
    "sens=tp/(tp+fn)\n",
    "print(\"Sensitivity: \",sens)\n",
    "spec=tn/(fp+tn)\n",
    "print(\"Specificity: \", spec)\n",
    "tpv=tp/(tp+fp)\n",
    "print(\"PPV: \", tpv)\n",
    "fpv=tn/(fn+tn)\n",
    "print(\"NPV: \", fpv)"
   ]
  },
  {
   "cell_type": "code",
   "execution_count": null,
   "metadata": {},
   "outputs": [],
   "source": [
    "#Same using MC pred, no difference"
   ]
  },
  {
   "cell_type": "code",
   "execution_count": 1,
   "metadata": {},
   "outputs": [
    {
     "ename": "NameError",
     "evalue": "name 'roc_auc_score' is not defined",
     "output_type": "error",
     "traceback": [
      "\u001b[0;31m---------------------------------------------------------------------------\u001b[0m",
      "\u001b[0;31mNameError\u001b[0m                                 Traceback (most recent call last)",
      "\u001b[0;32m<ipython-input-1-66ddec4ae6f0>\u001b[0m in \u001b[0;36m<module>\u001b[0;34m\u001b[0m\n\u001b[0;32m----> 1\u001b[0;31m \u001b[0mauc\u001b[0m\u001b[0;34m=\u001b[0m\u001b[0mroc_auc_score\u001b[0m\u001b[0;34m(\u001b[0m\u001b[0mresults\u001b[0m\u001b[0;34m[\u001b[0m\u001b[0;34m\"Conversion\"\u001b[0m\u001b[0;34m]\u001b[0m\u001b[0;34m,\u001b[0m \u001b[0mresults\u001b[0m\u001b[0;34m[\u001b[0m\u001b[0;34m\"MC_pred\"\u001b[0m\u001b[0;34m]\u001b[0m\u001b[0;34m)\u001b[0m\u001b[0;34m\u001b[0m\u001b[0;34m\u001b[0m\u001b[0m\n\u001b[0m\u001b[1;32m      2\u001b[0m \u001b[0mprint\u001b[0m\u001b[0;34m(\u001b[0m\u001b[0;34m\"Area under ROC curve is: \"\u001b[0m\u001b[0;34m,\u001b[0m\u001b[0mauc\u001b[0m\u001b[0;34m)\u001b[0m\u001b[0;34m\u001b[0m\u001b[0;34m\u001b[0m\u001b[0m\n\u001b[1;32m      3\u001b[0m \u001b[0;31m# calculate roc curves\u001b[0m\u001b[0;34m\u001b[0m\u001b[0;34m\u001b[0m\u001b[0;34m\u001b[0m\u001b[0m\n\u001b[1;32m      4\u001b[0m \u001b[0mfpr\u001b[0m\u001b[0;34m,\u001b[0m \u001b[0mtpr\u001b[0m\u001b[0;34m,\u001b[0m \u001b[0mthresholds\u001b[0m \u001b[0;34m=\u001b[0m \u001b[0mroc_curve\u001b[0m\u001b[0;34m(\u001b[0m\u001b[0mresults\u001b[0m\u001b[0;34m[\u001b[0m\u001b[0;34m\"Conversion\"\u001b[0m\u001b[0;34m]\u001b[0m\u001b[0;34m,\u001b[0m \u001b[0mresults\u001b[0m\u001b[0;34m[\u001b[0m\u001b[0;34m\"MC_pred\"\u001b[0m\u001b[0;34m]\u001b[0m\u001b[0;34m,\u001b[0m \u001b[0mdrop_intermediate\u001b[0m\u001b[0;34m=\u001b[0m\u001b[0;32mTrue\u001b[0m\u001b[0;34m)\u001b[0m\u001b[0;34m\u001b[0m\u001b[0;34m\u001b[0m\u001b[0m\n\u001b[1;32m      5\u001b[0m \u001b[0;31m# calculate the g-mean for each threshold\u001b[0m\u001b[0;34m\u001b[0m\u001b[0;34m\u001b[0m\u001b[0;34m\u001b[0m\u001b[0m\n",
      "\u001b[0;31mNameError\u001b[0m: name 'roc_auc_score' is not defined"
     ]
    }
   ],
   "source": [
    "auc=roc_auc_score(results[\"Conversion\"], results[\"MC_pred\"])\n",
    "print(\"Area under ROC curve is: \",auc)\n",
    "# calculate roc curves\n",
    "fpr, tpr, thresholds = roc_curve(results[\"Conversion\"], results[\"MC_pred\"], drop_intermediate=True)\n",
    "# calculate the g-mean for each threshold\n",
    "gmeans = sqrt(tpr * (1-fpr))\n",
    "# locate the index of the largest g-mean\n",
    "ix = np.argmax(gmeans)\n",
    "# plot the roc curve for the model\n",
    "pyplot.plot([0,1], [0,1], linestyle='--', label='No Skill')\n",
    "pyplot.plot(fpr, tpr, marker='.', label='Model pMCI/sMCI (AUC=%.2f)' % auc)\n",
    "\n",
    "# axis labels\n",
    "pyplot.xlabel('False Positive Rate')\n",
    "pyplot.ylabel('True Positive Rate')\n",
    "pyplot.legend()\n",
    "# show the plot\n",
    "pyplot.title(\"Receiver-Operating-Characteristic curve\")\n",
    "pyplot.show()\n",
    "print(\"Accuracy with standard threshold: \",accuracy_score(results[\"Conversion\"], \n",
    "                                                          (1*np.asarray(tf.greater(results['MC_pred'], 0.5)))))\n",
    "print('S-E Best Threshold=%f, G-Mean=%.3f' % (thresholds[ix], gmeans[ix]))\n",
    "print(\"Accuracy with adjusted threshold: \",accuracy_score(results[\"Conversion\"], \n",
    "                                                          (1*np.asarray(tf.greater(results['MC_pred'], 0.313609)))))\n",
    "tn, fp, fn, tp = confusion_matrix(results[\"Conversion\"], \n",
    "                                        (1*np.asarray(tf.greater(results['pred'], 0.313609)))).ravel()\n",
    "sens=tp/(tp+fn)\n",
    "print(\"Sensitivity: \",sens)\n",
    "spec=tn/(fp+tn)\n",
    "print(\"Specificity: \", spec)\n",
    "tpv=tp/(tp+fp)\n",
    "print(\"PPV: \", tpv)\n",
    "fpv=tn/(fn+tn)\n",
    "print(\"NPV: \", fpv)"
   ]
  },
  {
   "cell_type": "markdown",
   "metadata": {},
   "source": [
    "### Correlations"
   ]
  },
  {
   "cell_type": "code",
   "execution_count": 3,
   "metadata": {},
   "outputs": [],
   "source": [
    "import numpy as np\n",
    "import matplotlib.pyplot as plt\n",
    "from scipy.stats import gaussian_kde\n",
    "from scipy.stats import pearsonr,spearmanr,kendalltau"
   ]
  },
  {
   "cell_type": "code",
   "execution_count": null,
   "metadata": {},
   "outputs": [],
   "source": [
    "#Method to get pvalues all at once"
   ]
  },
  {
   "cell_type": "code",
   "execution_count": 6,
   "metadata": {},
   "outputs": [],
   "source": [
    "def pearsonr_pval(x,y):\n",
    "        return pearsonr(x,y)[1]\n",
    "\n",
    "def spearmanr_pval(x,y):\n",
    "        return spearmanr(x,y)[1]\n",
    "def kendalltau_pval(x,y):\n",
    "        return kendalltau(x,y)[1]"
   ]
  },
  {
   "cell_type": "code",
   "execution_count": 7,
   "metadata": {},
   "outputs": [
    {
     "name": "stderr",
     "output_type": "stream",
     "text": [
      "/autofs/space/celer_001/users/software/miniconda3/envs/DL/lib/python3.8/site-packages/scipy/stats/stats.py:4023: PearsonRConstantInputWarning: An input array is constant; the correlation coefficient is not defined.\n",
      "  warnings.warn(PearsonRConstantInputWarning())\n"
     ]
    }
   ],
   "source": [
    "p_matrix=results.corr(method=pearsonr_pval)"
   ]
  },
  {
   "cell_type": "code",
   "execution_count": 4,
   "metadata": {},
   "outputs": [],
   "source": [
    "corr_matrix=results.corr(method='pearson')"
   ]
  },
  {
   "cell_type": "code",
   "execution_count": 5,
   "metadata": {},
   "outputs": [
    {
     "data": {
      "text/plain": [
       "Conversion         0.178163\n",
       "MC_pred            0.354326\n",
       "SD                 1.000000\n",
       "days_to_conv      -0.075079\n",
       "MMSE              -0.036923\n",
       "pred               0.367225\n",
       "Followup           0.063821\n",
       "Followup_years     0.059941\n",
       "Age                0.120848\n",
       "Education_years   -0.049792\n",
       "APOE4              0.108866\n",
       "MMSE_dem          -0.161235\n",
       "MOCA              -0.098944\n",
       "Name: SD, dtype: float64"
      ]
     },
     "execution_count": 5,
     "metadata": {},
     "output_type": "execute_result"
    }
   ],
   "source": [
    "corr_matrix['SD']"
   ]
  },
  {
   "cell_type": "code",
   "execution_count": 9,
   "metadata": {},
   "outputs": [
    {
     "data": {
      "text/plain": [
       "0.4443288"
      ]
     },
     "execution_count": 9,
     "metadata": {},
     "output_type": "execute_result"
    }
   ],
   "source": [
    " 4.443288e-01"
   ]
  },
  {
   "cell_type": "code",
   "execution_count": 8,
   "metadata": {},
   "outputs": [
    {
     "data": {
      "text/plain": [
       "Conversion         5.461147e-04\n",
       "MC_pred            1.786254e-12\n",
       "SD                 1.000000e+00\n",
       "days_to_conv       4.443288e-01\n",
       "MMSE               7.547945e-01\n",
       "pred               2.371031e-13\n",
       "Followup           2.251344e-01\n",
       "Followup_years     2.481731e-01\n",
       "Age                1.955978e-02\n",
       "Education_years    3.434861e-01\n",
       "APOE4              4.918902e-02\n",
       "MMSE_dem           2.745996e-03\n",
       "MOCA               1.721247e-01\n",
       "Name: SD, dtype: float64"
      ]
     },
     "execution_count": 8,
     "metadata": {},
     "output_type": "execute_result"
    }
   ],
   "source": [
    "p_matrix['SD']"
   ]
  },
  {
   "cell_type": "code",
   "execution_count": 79,
   "metadata": {},
   "outputs": [
    {
     "data": {
      "text/plain": [
       "SD                 1.000000\n",
       "pred               0.367225\n",
       "MC_pred            0.354326\n",
       "Conversion         0.178163\n",
       "Age                0.120848\n",
       "APOE4              0.108866\n",
       "Followup           0.063821\n",
       "Followup_years     0.059941\n",
       "MMSE              -0.036923\n",
       "Education_years   -0.049792\n",
       "days_to_conv      -0.075079\n",
       "MOCA              -0.098944\n",
       "MMSE_dem          -0.161235\n",
       "Name: SD, dtype: float64"
      ]
     },
     "execution_count": 79,
     "metadata": {},
     "output_type": "execute_result"
    }
   ],
   "source": [
    "corr_matrix['SD'].sort_values(ascending=False)"
   ]
  },
  {
   "cell_type": "code",
   "execution_count": 26,
   "metadata": {},
   "outputs": [],
   "source": [
    "a='Followup'\n",
    "b='pred'"
   ]
  },
  {
   "cell_type": "code",
   "execution_count": 12,
   "metadata": {},
   "outputs": [],
   "source": [
    "a='days_to_conv'\n",
    "b='SD'"
   ]
  },
  {
   "cell_type": "code",
   "execution_count": null,
   "metadata": {},
   "outputs": [],
   "source": []
  },
  {
   "cell_type": "code",
   "execution_count": 27,
   "metadata": {},
   "outputs": [],
   "source": [
    "corr, pvalue= pearsonr(results.dropna(subset=[a])[a],results.dropna(subset=[a])[b])"
   ]
  },
  {
   "cell_type": "code",
   "execution_count": 28,
   "metadata": {},
   "outputs": [
    {
     "name": "stdout",
     "output_type": "stream",
     "text": [
      "Pearson's Correlation: 0.11353549849129578 pvalue: 0.030565915668791136\n"
     ]
    }
   ],
   "source": [
    "print(\"Pearson's Correlation:\",corr,\"pvalue:\",pvalue)"
   ]
  },
  {
   "cell_type": "code",
   "execution_count": 29,
   "metadata": {},
   "outputs": [
    {
     "data": {
      "image/png": "[encoded data removed]",
      "text/plain": [
       "<Figure size 432x288 with 1 Axes>"
      ]
     },
     "metadata": {
      "needs_background": "light"
     },
     "output_type": "display_data"
    }
   ],
   "source": [
    "x=results.dropna(subset=[a])[a]\n",
    "y=results.dropna(subset=[a])[b]\n",
    "xy = np.vstack([x,y])\n",
    "z = gaussian_kde(xy)(xy)\n",
    "fig, ax = plt.subplots()\n",
    "ax.scatter(y, x, c=z, s=80)\n",
    "plt.show()"
   ]
  },
  {
   "cell_type": "code",
   "execution_count": null,
   "metadata": {},
   "outputs": [],
   "source": []
  },
  {
   "cell_type": "markdown",
   "metadata": {},
   "source": [
    "### Conv years subsetting"
   ]
  },
  {
   "cell_type": "code",
   "execution_count": 5,
   "metadata": {},
   "outputs": [],
   "source": [
    "controls=results[results['days_to_conv'].isnull()]"
   ]
  },
  {
   "cell_type": "code",
   "execution_count": 6,
   "metadata": {},
   "outputs": [
    {
     "data": {
      "text/html": [
       "<div>\n",
       "<style scoped>\n",
       "    .dataframe tbody tr th:only-of-type {\n",
       "        vertical-align: middle;\n",
       "    }\n",
       "\n",
       "    .dataframe tbody tr th {\n",
       "        vertical-align: top;\n",
       "    }\n",
       "\n",
       "    .dataframe thead th {\n",
       "        text-align: right;\n",
       "    }\n",
       "</style>\n",
       "<table border=\"1\" class=\"dataframe\">\n",
       "  <thead>\n",
       "    <tr style=\"text-align: right;\">\n",
       "      <th></th>\n",
       "      <th>Conversion</th>\n",
       "      <th>MC_pred</th>\n",
       "      <th>SD</th>\n",
       "      <th>days_to_conv</th>\n",
       "      <th>MMSE</th>\n",
       "      <th>pred</th>\n",
       "      <th>Followup</th>\n",
       "      <th>Followup_years</th>\n",
       "      <th>Gender</th>\n",
       "      <th>Age</th>\n",
       "      <th>Cohort</th>\n",
       "      <th>Education_years</th>\n",
       "      <th>APOE4</th>\n",
       "      <th>MMSE_dem</th>\n",
       "      <th>MOCA</th>\n",
       "    </tr>\n",
       "  </thead>\n",
       "  <tbody>\n",
       "    <tr>\n",
       "      <th>041_S_1418</th>\n",
       "      <td>0</td>\n",
       "      <td>0.201659</td>\n",
       "      <td>0.054424</td>\n",
       "      <td>NaN</td>\n",
       "      <td>NaN</td>\n",
       "      <td>0.218482</td>\n",
       "      <td>3658.0</td>\n",
       "      <td>10.021918</td>\n",
       "      <td>Male</td>\n",
       "      <td>81.5</td>\n",
       "      <td>ADNI1</td>\n",
       "      <td>12.0</td>\n",
       "      <td>0.0</td>\n",
       "      <td>29.0</td>\n",
       "      <td>NaN</td>\n",
       "    </tr>\n",
       "    <tr>\n",
       "      <th>041_S_0679</th>\n",
       "      <td>0</td>\n",
       "      <td>0.145866</td>\n",
       "      <td>0.048478</td>\n",
       "      <td>NaN</td>\n",
       "      <td>NaN</td>\n",
       "      <td>0.152578</td>\n",
       "      <td>5673.0</td>\n",
       "      <td>15.542466</td>\n",
       "      <td>Male</td>\n",
       "      <td>62.9</td>\n",
       "      <td>ADNI1</td>\n",
       "      <td>18.0</td>\n",
       "      <td>0.0</td>\n",
       "      <td>29.0</td>\n",
       "      <td>NaN</td>\n",
       "    </tr>\n",
       "    <tr>\n",
       "      <th>021_S_0178</th>\n",
       "      <td>0</td>\n",
       "      <td>0.260914</td>\n",
       "      <td>0.091332</td>\n",
       "      <td>NaN</td>\n",
       "      <td>NaN</td>\n",
       "      <td>0.252711</td>\n",
       "      <td>5521.0</td>\n",
       "      <td>15.126027</td>\n",
       "      <td>Male</td>\n",
       "      <td>64.8</td>\n",
       "      <td>ADNI1</td>\n",
       "      <td>20.0</td>\n",
       "      <td>0.0</td>\n",
       "      <td>29.0</td>\n",
       "      <td>NaN</td>\n",
       "    </tr>\n",
       "    <tr>\n",
       "      <th>003_S_0908</th>\n",
       "      <td>0</td>\n",
       "      <td>0.083336</td>\n",
       "      <td>0.023164</td>\n",
       "      <td>NaN</td>\n",
       "      <td>30.0</td>\n",
       "      <td>0.084422</td>\n",
       "      <td>5494.0</td>\n",
       "      <td>15.052055</td>\n",
       "      <td>Female</td>\n",
       "      <td>62.9</td>\n",
       "      <td>ADNI1</td>\n",
       "      <td>16.0</td>\n",
       "      <td>0.0</td>\n",
       "      <td>NaN</td>\n",
       "      <td>NaN</td>\n",
       "    </tr>\n",
       "    <tr>\n",
       "      <th>003_S_1122</th>\n",
       "      <td>0</td>\n",
       "      <td>0.216492</td>\n",
       "      <td>0.054589</td>\n",
       "      <td>NaN</td>\n",
       "      <td>26.0</td>\n",
       "      <td>0.214708</td>\n",
       "      <td>5423.0</td>\n",
       "      <td>14.857534</td>\n",
       "      <td>Female</td>\n",
       "      <td>76.6</td>\n",
       "      <td>ADNI1</td>\n",
       "      <td>14.0</td>\n",
       "      <td>0.0</td>\n",
       "      <td>26.0</td>\n",
       "      <td>17.0</td>\n",
       "    </tr>\n",
       "    <tr>\n",
       "      <th>...</th>\n",
       "      <td>...</td>\n",
       "      <td>...</td>\n",
       "      <td>...</td>\n",
       "      <td>...</td>\n",
       "      <td>...</td>\n",
       "      <td>...</td>\n",
       "      <td>...</td>\n",
       "      <td>...</td>\n",
       "      <td>...</td>\n",
       "      <td>...</td>\n",
       "      <td>...</td>\n",
       "      <td>...</td>\n",
       "      <td>...</td>\n",
       "      <td>...</td>\n",
       "      <td>...</td>\n",
       "    </tr>\n",
       "    <tr>\n",
       "      <th>016_S_6939</th>\n",
       "      <td>0</td>\n",
       "      <td>0.552913</td>\n",
       "      <td>0.067572</td>\n",
       "      <td>NaN</td>\n",
       "      <td>NaN</td>\n",
       "      <td>0.558967</td>\n",
       "      <td>NaN</td>\n",
       "      <td>0.000000</td>\n",
       "      <td>Male</td>\n",
       "      <td>73.5</td>\n",
       "      <td>ADNI3</td>\n",
       "      <td>17.0</td>\n",
       "      <td>NaN</td>\n",
       "      <td>29.0</td>\n",
       "      <td>22.0</td>\n",
       "    </tr>\n",
       "    <tr>\n",
       "      <th>037_S_6627</th>\n",
       "      <td>0</td>\n",
       "      <td>0.231582</td>\n",
       "      <td>0.039356</td>\n",
       "      <td>NaN</td>\n",
       "      <td>NaN</td>\n",
       "      <td>0.235761</td>\n",
       "      <td>0.0</td>\n",
       "      <td>0.000000</td>\n",
       "      <td>Female</td>\n",
       "      <td>67.7</td>\n",
       "      <td>ADNI3</td>\n",
       "      <td>14.0</td>\n",
       "      <td>2.0</td>\n",
       "      <td>25.0</td>\n",
       "      <td>NaN</td>\n",
       "    </tr>\n",
       "    <tr>\n",
       "      <th>127_S_1210</th>\n",
       "      <td>0</td>\n",
       "      <td>0.897105</td>\n",
       "      <td>0.036924</td>\n",
       "      <td>NaN</td>\n",
       "      <td>NaN</td>\n",
       "      <td>0.905659</td>\n",
       "      <td>NaN</td>\n",
       "      <td>0.000000</td>\n",
       "      <td>Male</td>\n",
       "      <td>74.2</td>\n",
       "      <td>ADNI1</td>\n",
       "      <td>17.0</td>\n",
       "      <td>0.0</td>\n",
       "      <td>30.0</td>\n",
       "      <td>NaN</td>\n",
       "    </tr>\n",
       "    <tr>\n",
       "      <th>013_S_6206</th>\n",
       "      <td>0</td>\n",
       "      <td>0.100928</td>\n",
       "      <td>0.036040</td>\n",
       "      <td>NaN</td>\n",
       "      <td>NaN</td>\n",
       "      <td>0.099617</td>\n",
       "      <td>0.0</td>\n",
       "      <td>0.000000</td>\n",
       "      <td>Male</td>\n",
       "      <td>81.9</td>\n",
       "      <td>ADNI3</td>\n",
       "      <td>16.0</td>\n",
       "      <td>1.0</td>\n",
       "      <td>30.0</td>\n",
       "      <td>25.0</td>\n",
       "    </tr>\n",
       "    <tr>\n",
       "      <th>016_S_0590</th>\n",
       "      <td>0</td>\n",
       "      <td>0.680591</td>\n",
       "      <td>0.085001</td>\n",
       "      <td>NaN</td>\n",
       "      <td>NaN</td>\n",
       "      <td>0.715381</td>\n",
       "      <td>NaN</td>\n",
       "      <td>0.000000</td>\n",
       "      <td>Female</td>\n",
       "      <td>78.1</td>\n",
       "      <td>ADNI1</td>\n",
       "      <td>18.0</td>\n",
       "      <td>1.0</td>\n",
       "      <td>27.0</td>\n",
       "      <td>NaN</td>\n",
       "    </tr>\n",
       "  </tbody>\n",
       "</table>\n",
       "<p>267 rows × 15 columns</p>\n",
       "</div>"
      ],
      "text/plain": [
       "            Conversion   MC_pred        SD  days_to_conv  MMSE      pred  \\\n",
       "041_S_1418           0  0.201659  0.054424           NaN   NaN  0.218482   \n",
       "041_S_0679           0  0.145866  0.048478           NaN   NaN  0.152578   \n",
       "021_S_0178           0  0.260914  0.091332           NaN   NaN  0.252711   \n",
       "003_S_0908           0  0.083336  0.023164           NaN  30.0  0.084422   \n",
       "003_S_1122           0  0.216492  0.054589           NaN  26.0  0.214708   \n",
       "...                ...       ...       ...           ...   ...       ...   \n",
       "016_S_6939           0  0.552913  0.067572           NaN   NaN  0.558967   \n",
       "037_S_6627           0  0.231582  0.039356           NaN   NaN  0.235761   \n",
       "127_S_1210           0  0.897105  0.036924           NaN   NaN  0.905659   \n",
       "013_S_6206           0  0.100928  0.036040           NaN   NaN  0.099617   \n",
       "016_S_0590           0  0.680591  0.085001           NaN   NaN  0.715381   \n",
       "\n",
       "            Followup  Followup_years  Gender   Age Cohort  Education_years  \\\n",
       "041_S_1418    3658.0       10.021918    Male  81.5  ADNI1             12.0   \n",
       "041_S_0679    5673.0       15.542466    Male  62.9  ADNI1             18.0   \n",
       "021_S_0178    5521.0       15.126027    Male  64.8  ADNI1             20.0   \n",
       "003_S_0908    5494.0       15.052055  Female  62.9  ADNI1             16.0   \n",
       "003_S_1122    5423.0       14.857534  Female  76.6  ADNI1             14.0   \n",
       "...              ...             ...     ...   ...    ...              ...   \n",
       "016_S_6939       NaN        0.000000    Male  73.5  ADNI3             17.0   \n",
       "037_S_6627       0.0        0.000000  Female  67.7  ADNI3             14.0   \n",
       "127_S_1210       NaN        0.000000    Male  74.2  ADNI1             17.0   \n",
       "013_S_6206       0.0        0.000000    Male  81.9  ADNI3             16.0   \n",
       "016_S_0590       NaN        0.000000  Female  78.1  ADNI1             18.0   \n",
       "\n",
       "            APOE4  MMSE_dem  MOCA  \n",
       "041_S_1418    0.0      29.0   NaN  \n",
       "041_S_0679    0.0      29.0   NaN  \n",
       "021_S_0178    0.0      29.0   NaN  \n",
       "003_S_0908    0.0       NaN   NaN  \n",
       "003_S_1122    0.0      26.0  17.0  \n",
       "...           ...       ...   ...  \n",
       "016_S_6939    NaN      29.0  22.0  \n",
       "037_S_6627    2.0      25.0   NaN  \n",
       "127_S_1210    0.0      30.0   NaN  \n",
       "013_S_6206    1.0      30.0  25.0  \n",
       "016_S_0590    1.0      27.0   NaN  \n",
       "\n",
       "[267 rows x 15 columns]"
      ]
     },
     "execution_count": 6,
     "metadata": {},
     "output_type": "execute_result"
    }
   ],
   "source": [
    "controls"
   ]
  },
  {
   "cell_type": "code",
   "execution_count": 5,
   "metadata": {},
   "outputs": [],
   "source": [
    "oneyear=results[results['days_to_conv']<365]"
   ]
  },
  {
   "cell_type": "code",
   "execution_count": 7,
   "metadata": {},
   "outputs": [
    {
     "data": {
      "text/plain": [
       "14"
      ]
     },
     "execution_count": 7,
     "metadata": {},
     "output_type": "execute_result"
    }
   ],
   "source": [
    "len(oneyear)"
   ]
  },
  {
   "cell_type": "code",
   "execution_count": 8,
   "metadata": {},
   "outputs": [],
   "source": [
    "oney=pd.concat((controls,oneyear),axis=0)"
   ]
  },
  {
   "cell_type": "code",
   "execution_count": 9,
   "metadata": {},
   "outputs": [],
   "source": [
    "twoyear=results[results['days_to_conv']<730]"
   ]
  },
  {
   "cell_type": "code",
   "execution_count": 10,
   "metadata": {},
   "outputs": [],
   "source": [
    "twoy=pd.concat((controls,twoyear),axis=0)"
   ]
  },
  {
   "cell_type": "code",
   "execution_count": 11,
   "metadata": {},
   "outputs": [
    {
     "data": {
      "text/plain": [
       "53"
      ]
     },
     "execution_count": 11,
     "metadata": {},
     "output_type": "execute_result"
    }
   ],
   "source": [
    "len(twoyear)"
   ]
  },
  {
   "cell_type": "code",
   "execution_count": 12,
   "metadata": {},
   "outputs": [],
   "source": [
    "threeyear=results[results['days_to_conv']<(730+365)]"
   ]
  },
  {
   "cell_type": "code",
   "execution_count": 13,
   "metadata": {},
   "outputs": [],
   "source": [
    "triy=pd.concat((controls,threeyear),axis=0)"
   ]
  },
  {
   "cell_type": "code",
   "execution_count": 14,
   "metadata": {},
   "outputs": [
    {
     "data": {
      "text/plain": [
       "67"
      ]
     },
     "execution_count": 14,
     "metadata": {},
     "output_type": "execute_result"
    }
   ],
   "source": [
    "len(threeyear)"
   ]
  },
  {
   "cell_type": "code",
   "execution_count": 7,
   "metadata": {},
   "outputs": [],
   "source": [
    "fouryear=results[results['days_to_conv']<(730+365+365)]"
   ]
  },
  {
   "cell_type": "code",
   "execution_count": 8,
   "metadata": {},
   "outputs": [],
   "source": [
    "fyear=pd.concat((controls,fouryear),axis=0)"
   ]
  },
  {
   "cell_type": "code",
   "execution_count": 9,
   "metadata": {},
   "outputs": [
    {
     "data": {
      "text/plain": [
       "81"
      ]
     },
     "execution_count": 9,
     "metadata": {},
     "output_type": "execute_result"
    }
   ],
   "source": [
    "len(fouryear)"
   ]
  },
  {
   "cell_type": "code",
   "execution_count": 10,
   "metadata": {},
   "outputs": [],
   "source": [
    "myear=results[results['days_to_conv']>(730+365+365)]"
   ]
  },
  {
   "cell_type": "code",
   "execution_count": 11,
   "metadata": {},
   "outputs": [
    {
     "data": {
      "text/plain": [
       "25"
      ]
     },
     "execution_count": 11,
     "metadata": {},
     "output_type": "execute_result"
    }
   ],
   "source": [
    "len(myear)"
   ]
  },
  {
   "cell_type": "code",
   "execution_count": 12,
   "metadata": {},
   "outputs": [],
   "source": [
    "myears=pd.concat((controls,myear),axis=0)"
   ]
  },
  {
   "cell_type": "code",
   "execution_count": 13,
   "metadata": {},
   "outputs": [
    {
     "data": {
      "text/plain": [
       "292"
      ]
     },
     "execution_count": 13,
     "metadata": {},
     "output_type": "execute_result"
    }
   ],
   "source": [
    "len(myears)"
   ]
  },
  {
   "cell_type": "code",
   "execution_count": 14,
   "metadata": {},
   "outputs": [
    {
     "data": {
      "image/png": "[encoded data removed]",
      "text/plain": [
       "<Figure size 432x288 with 1 Axes>"
      ]
     },
     "metadata": {
      "needs_background": "light"
     },
     "output_type": "display_data"
    }
   ],
   "source": [
    "auc4=roc_auc_score(fyear[\"Conversion\"], fyear[\"MC_pred\"])\n",
    "auc5=roc_auc_score(myears[\"Conversion\"], myears[\"MC_pred\"])\n",
    "\n",
    "pyplot.plot([0,1], [0,1], linestyle='--', label='No Skill')\n",
    "# calculate roc curves\n",
    "\n",
    "fpr4, tpr4, thresholds4 = roc_curve(fyear[\"Conversion\"], fyear[\"MC_pred\"], drop_intermediate=True)\n",
    "pyplot.plot(fpr4, tpr4, marker='.', label='Model pMCI/sMCI for TTC<4 years (AUC=%.2f)' % auc4)\n",
    "\n",
    "fpr5, tpr5, thresholds5 = roc_curve(myears[\"Conversion\"], myears[\"MC_pred\"], drop_intermediate=True)\n",
    "pyplot.plot(fpr5, tpr5, marker='.', label='Model pMCI/sMCI for TTC>4 years (AUC=%.2f)' % auc5)\n",
    "\n",
    "# axis labels\n",
    "pyplot.xlabel('False Positive Rate')\n",
    "pyplot.ylabel('True Positive Rate')\n",
    "pyplot.legend()\n",
    "# show the plot\n",
    "pyplot.title(\"ROC curves for conversion before and after 4 years\")\n",
    "plt.tight_layout()\n",
    "pyplot.show()"
   ]
  },
  {
   "cell_type": "code",
   "execution_count": 48,
   "metadata": {},
   "outputs": [],
   "source": [
    "gmeans1 = sqrt(tpr4 * (1-fpr4))\n",
    "ix1 = np.argmax(gmeans1)\n",
    "\n",
    "acc1=accuracy_score(fyear[\"Conversion\"], (1*np.asarray(tf.greater(fyear['MC_pred'], 0.5))))\n",
    "\n",
    "gmeans2 = sqrt(tpr5 * (1-fpr5))\n",
    "ix2 = np.argmax(gmeans2)\n",
    "\n",
    "acc2=accuracy_score(myears[\"Conversion\"], (1*np.asarray(tf.greater(myears['MC_pred'], 0.5))))\n",
    "\n",
    "##\n",
    "\n",
    "tn, fp, fn, tp = confusion_matrix(fyear[\"Conversion\"], \n",
    "                                        (1*np.asarray(tf.greater(fyear['MC_pred'], thresholds4[ix1])))).ravel()\n",
    "sens=tp/(tp+fn)\n",
    "spec=tn/(fp+tn)\n",
    "tpv=tp/(tp+fp)\n",
    "fpv=tn/(fn+tn)\n",
    "fscore = (2 * tpv * sens) / (tpv + sens)\n",
    "\n",
    "\n",
    "tn, fp, fn, tp = confusion_matrix(myears[\"Conversion\"], \n",
    "                                        (1*np.asarray(tf.greater(myears['MC_pred'], thresholds5[ix2])))).ravel()\n",
    "sens2=tp/(tp+fn)\n",
    "spec2=tn/(fp+tn)\n",
    "tpv2=tp/(tp+fp)\n",
    "fpv2=tn/(fn+tn)\n",
    "fscore2 = (2 * tpv2 * sens2) / (tpv2 + sens2)"
   ]
  },
  {
   "cell_type": "code",
   "execution_count": 50,
   "metadata": {},
   "outputs": [
    {
     "name": "stdout",
     "output_type": "stream",
     "text": [
      "0.308775514364243\n"
     ]
    }
   ],
   "source": [
    "print(thresholds4[ix1])"
   ]
  },
  {
   "cell_type": "code",
   "execution_count": 49,
   "metadata": {},
   "outputs": [
    {
     "name": "stderr",
     "output_type": "stream",
     "text": [
      "<ipython-input-49-798d95413317>:15: UserWarning: FixedFormatter should only be used together with FixedLocator\n",
      "  ax.set_xticklabels(labels)\n"
     ]
    },
    {
     "data": {
      "image/png": "[encoded data removed]",
      "text/plain": [
       "<Figure size 432x288 with 1 Axes>"
      ]
     },
     "metadata": {
      "needs_background": "light"
     },
     "output_type": "display_data"
    }
   ],
   "source": [
    "labels = ['Fake','Acc', 'Sens', 'Spec', 'PPV', 'NPV','Fscore']\n",
    "x = np.arange(len(labels)-1)  # the label locations\n",
    "width = 0.35  # the width of the bars\n",
    "\n",
    "fyear_m = [acc1, sens, spec, tpv, fpv,fscore]\n",
    "myears_m = [acc2, sens2, spec2, tpv2, fpv2,fscore2]\n",
    "\n",
    "fig, ax = plt.subplots()\n",
    "rects1 = ax.bar(x - width/2, fyear_m, width, label='<4 year conv')\n",
    "rects2 = ax.bar(x + width/2, myears_m, width, label='>4 year conv')\n",
    "\n",
    "# Add some text for labels, title and custom x-axis tick labels, etc.\n",
    "ax.set_ylabel('Scores')\n",
    "ax.set_title('Metric comparison for conversion before and after 4 years')\n",
    "ax.set_xticklabels(labels)\n",
    "ax.legend()\n",
    "\n",
    "for bar in ax.patches:\n",
    "    # The text annotation for each bar should be its height.\n",
    "    bar_value = bar.get_height()\n",
    "    # Format the text with commas to separate thousands. You can do\n",
    "    # any type of formatting here though.\n",
    "    text = f'{round(bar_value,2):,}'\n",
    "    # This will give the middle of each bar on the x-axis.\n",
    "    text_x = bar.get_x() + bar.get_width() / 2\n",
    "    # get_y() is where the bar starts so we add the height to it.\n",
    "    text_y = bar.get_y() + bar_value\n",
    "    # If we want the text to be the same color as the bar, we can\n",
    "    # get the color like so:\n",
    "    bar_color = bar.get_facecolor()\n",
    "    # If you want a consistent color, you can just set it as a constant, e.g. #222222\n",
    "    ax.text(text_x, text_y, text, ha='center', va='bottom', color=bar_color,\n",
    "          size=12)\n",
    "\n",
    "fig.tight_layout()\n",
    "\n",
    "plt.show()"
   ]
  },
  {
   "cell_type": "markdown",
   "metadata": {},
   "source": [
    "## Accuracies MC and all"
   ]
  },
  {
   "cell_type": "code",
   "execution_count": 124,
   "metadata": {},
   "outputs": [],
   "source": [
    "acccs = np.loadtxt(\"allaccs.csv\", delimiter=\",\")"
   ]
  },
  {
   "cell_type": "code",
   "execution_count": 128,
   "metadata": {},
   "outputs": [],
   "source": [
    "acccs=np.ndarray.flatten(acccs)"
   ]
  },
  {
   "cell_type": "code",
   "execution_count": 151,
   "metadata": {},
   "outputs": [
    {
     "data": {
      "image/png": "[encoded data removed]",
      "text/plain": [
       "<Figure size 432x288 with 1 Axes>"
      ]
     },
     "metadata": {
      "needs_background": "light"
     },
     "output_type": "display_data"
    }
   ],
   "source": [
    "fig, ax = plt.subplots()\n",
    "ax.hist(acccs)\n",
    "ax.axvline(x=accuracy_score(results[\"Conversion\"],(1*np.asarray(tf.greater(results['pred'], 0.5)))), color=\"r\", \n",
    "            label='Base model acc')\n",
    "ax.axvline(x=accuracy_score(results[\"Conversion\"],(1*np.asarray(tf.greater(results['MC_pred'], 0.5)))), color=\"g\",\n",
    "           label='MC ensemble acc')\n",
    "plt.show()"
   ]
  },
  {
   "cell_type": "code",
   "execution_count": null,
   "metadata": {},
   "outputs": [],
   "source": []
  },
  {
   "cell_type": "markdown",
   "metadata": {},
   "source": [
    "## SD ROC"
   ]
  },
  {
   "cell_type": "code",
   "execution_count": 51,
   "metadata": {},
   "outputs": [],
   "source": [
    "a=list(results.index)\n",
    "b=list(results['MC_pred'])\n",
    "c=list(results['Conversion'])\n",
    "t=0.308776"
   ]
  },
  {
   "cell_type": "code",
   "execution_count": 52,
   "metadata": {},
   "outputs": [],
   "source": [
    "aciertos={}\n",
    "for i,j in enumerate (a):\n",
    "    pred_lab=None\n",
    "    if b[i]>t:\n",
    "        pred_lab=1\n",
    "    if b[i]<t:\n",
    "        pred_lab=0\n",
    "    acierto=1-abs(c[i]-pred_lab)\n",
    "    aciertos.update({j: acierto})    "
   ]
  },
  {
   "cell_type": "code",
   "execution_count": 53,
   "metadata": {},
   "outputs": [],
   "source": [
    "aciert=pd.DataFrame.from_dict(aciertos, orient='index', columns=['Acierto'])"
   ]
  },
  {
   "cell_type": "code",
   "execution_count": 20,
   "metadata": {},
   "outputs": [
    {
     "data": {
      "text/html": [
       "<div>\n",
       "<style scoped>\n",
       "    .dataframe tbody tr th:only-of-type {\n",
       "        vertical-align: middle;\n",
       "    }\n",
       "\n",
       "    .dataframe tbody tr th {\n",
       "        vertical-align: top;\n",
       "    }\n",
       "\n",
       "    .dataframe thead th {\n",
       "        text-align: right;\n",
       "    }\n",
       "</style>\n",
       "<table border=\"1\" class=\"dataframe\">\n",
       "  <thead>\n",
       "    <tr style=\"text-align: right;\">\n",
       "      <th></th>\n",
       "      <th>Acierto</th>\n",
       "    </tr>\n",
       "  </thead>\n",
       "  <tbody>\n",
       "    <tr>\n",
       "      <th>041_S_1418</th>\n",
       "      <td>1</td>\n",
       "    </tr>\n",
       "    <tr>\n",
       "      <th>041_S_0679</th>\n",
       "      <td>1</td>\n",
       "    </tr>\n",
       "    <tr>\n",
       "      <th>021_S_0178</th>\n",
       "      <td>1</td>\n",
       "    </tr>\n",
       "    <tr>\n",
       "      <th>003_S_0908</th>\n",
       "      <td>1</td>\n",
       "    </tr>\n",
       "    <tr>\n",
       "      <th>003_S_1122</th>\n",
       "      <td>1</td>\n",
       "    </tr>\n",
       "    <tr>\n",
       "      <th>...</th>\n",
       "      <td>...</td>\n",
       "    </tr>\n",
       "    <tr>\n",
       "      <th>016_S_6939</th>\n",
       "      <td>0</td>\n",
       "    </tr>\n",
       "    <tr>\n",
       "      <th>037_S_6627</th>\n",
       "      <td>1</td>\n",
       "    </tr>\n",
       "    <tr>\n",
       "      <th>127_S_1210</th>\n",
       "      <td>0</td>\n",
       "    </tr>\n",
       "    <tr>\n",
       "      <th>013_S_6206</th>\n",
       "      <td>1</td>\n",
       "    </tr>\n",
       "    <tr>\n",
       "      <th>016_S_0590</th>\n",
       "      <td>0</td>\n",
       "    </tr>\n",
       "  </tbody>\n",
       "</table>\n",
       "<p>373 rows × 1 columns</p>\n",
       "</div>"
      ],
      "text/plain": [
       "            Acierto\n",
       "041_S_1418        1\n",
       "041_S_0679        1\n",
       "021_S_0178        1\n",
       "003_S_0908        1\n",
       "003_S_1122        1\n",
       "...             ...\n",
       "016_S_6939        0\n",
       "037_S_6627        1\n",
       "127_S_1210        0\n",
       "013_S_6206        1\n",
       "016_S_0590        0\n",
       "\n",
       "[373 rows x 1 columns]"
      ]
     },
     "execution_count": 20,
     "metadata": {},
     "output_type": "execute_result"
    }
   ],
   "source": [
    "aciert"
   ]
  },
  {
   "cell_type": "code",
   "execution_count": 54,
   "metadata": {},
   "outputs": [],
   "source": [
    "results=pd.concat((results,aciert),axis=1)"
   ]
  },
  {
   "cell_type": "code",
   "execution_count": null,
   "metadata": {},
   "outputs": [],
   "source": []
  },
  {
   "cell_type": "code",
   "execution_count": 55,
   "metadata": {},
   "outputs": [],
   "source": [
    "from sklearn.metrics import roc_auc_score\n",
    "from sklearn.metrics import accuracy_score\n",
    "from sklearn.metrics import precision_score\n",
    "from sklearn.metrics import recall_score\n",
    "from sklearn.metrics import confusion_matrix\n",
    "from numpy import sqrt\n",
    "from numpy import argmax\n",
    "from sklearn.datasets import make_classification\n",
    "from sklearn.linear_model import LogisticRegression\n",
    "from sklearn.model_selection import train_test_split\n",
    "from sklearn.metrics import roc_curve\n",
    "from matplotlib import pyplot\n",
    "from sklearn.metrics import precision_recall_curve\n",
    "from tqdm.notebook import tqdm, trange\n",
    "from sklearn.metrics import ConfusionMatrixDisplay\n",
    "import tensorflow as tf"
   ]
  },
  {
   "cell_type": "code",
   "execution_count": 56,
   "metadata": {},
   "outputs": [],
   "source": [
    "SD=1-results[\"SD\"]"
   ]
  },
  {
   "cell_type": "code",
   "execution_count": 57,
   "metadata": {},
   "outputs": [
    {
     "name": "stdout",
     "output_type": "stream",
     "text": [
      "Area under ROC curve is:  0.7385800350796919\n"
     ]
    },
    {
     "data": {
      "image/png": "[encoded data removed]",
      "text/plain": [
       "<Figure size 432x288 with 1 Axes>"
      ]
     },
     "metadata": {
      "needs_background": "light"
     },
     "output_type": "display_data"
    },
    {
     "name": "stdout",
     "output_type": "stream",
     "text": [
      "Accuracy with standard threshold:  0.7479892761394102\n",
      "S-E Best Threshold=0.944950, G-Mean=0.688\n",
      "Accuracy with adjusted threshold:  0.6890080428954424\n",
      "Sensitivity:  0.6917562724014337\n",
      "Specificity:  0.6808510638297872\n",
      "PPV:  0.8654708520179372\n",
      "NPV:  0.4266666666666667\n"
     ]
    },
    {
     "data": {
      "image/png": "[encoded data removed]",
      "text/plain": [
       "<Figure size 432x288 with 1 Axes>"
      ]
     },
     "metadata": {
      "needs_background": "light"
     },
     "output_type": "display_data"
    },
    {
     "name": "stdout",
     "output_type": "stream",
     "text": [
      "S-TPV Best Threshold=0.908668, F-Score=0.860\n"
     ]
    }
   ],
   "source": [
    "auc=roc_auc_score(results[\"Acierto\"], SD)\n",
    "print(\"Area under ROC curve is: \",auc)\n",
    "# calculate roc curves\n",
    "fpr, tpr, thresholds = roc_curve(results[\"Acierto\"], SD, drop_intermediate=True)\n",
    "# calculate the g-mean for each threshold\n",
    "gmeans = sqrt(tpr * (1-fpr))\n",
    "# locate the index of the largest g-mean\n",
    "ix = np.argmax(gmeans)\n",
    "# plot the roc curve for the model\n",
    "pyplot.plot([0,1], [0,1], linestyle='--', label='No Skill')\n",
    "pyplot.plot(fpr, tpr, marker='.', label='Model: AUC %.3f' % auc)\n",
    "\n",
    "# axis labels\n",
    "pyplot.xlabel('False Positive Rate')\n",
    "pyplot.ylabel('True Positive Rate')\n",
    "pyplot.legend()\n",
    "# show the plot\n",
    "pyplot.title(\"Receiver-Operating-Characteristic curve\")\n",
    "pyplot.show()\n",
    "print(\"Accuracy with standard threshold: \",accuracy_score(results[\"Acierto\"], \n",
    "                                                          (1*np.asarray(tf.greater(SD, 0.5)))))\n",
    "print('S-E Best Threshold=%f, G-Mean=%.3f' % (thresholds[ix], gmeans[ix]))\n",
    "print(\"Accuracy with adjusted threshold: \",accuracy_score(results[\"Acierto\"], \n",
    "                                                          (1*np.asarray(tf.greater(SD, 0.944950)))))\n",
    "tn, fp, fn, tp = confusion_matrix(results[\"Acierto\"], \n",
    "                                        (1*np.asarray(tf.greater(SD, 0.944950)))).ravel()\n",
    "sens=tp/(tp+fn)\n",
    "print(\"Sensitivity: \",sens)\n",
    "spec=tn/(fp+tn)\n",
    "print(\"Specificity: \", spec)\n",
    "tpv=tp/(tp+fp)\n",
    "print(\"PPV: \", tpv)\n",
    "fpv=tn/(fn+tn)\n",
    "print(\"NPV: \", fpv)\n",
    "\n",
    "\n",
    "# calculate pr curves\n",
    "precision, recall, thresholds = precision_recall_curve(results[\"Acierto\"], SD)\n",
    "# convert to f score\n",
    "fscore = (2 * precision * recall) / (precision + recall)\n",
    "# locate the index of the largest f score\n",
    "ix = argmax(fscore)\n",
    "# plot the pr curve for the model\n",
    "pyplot.plot(recall, precision, marker='.', label='Model')\n",
    "pyplot.scatter(recall[ix], precision[ix], marker='o', color='black', label='Best')\n",
    "# axis labels\n",
    "pyplot.xlabel('Recall')\n",
    "pyplot.ylabel('Precision')\n",
    "pyplot.legend()\n",
    "# show the plot\n",
    "pyplot.title(\"Precision-Recall curve\")\n",
    "pyplot.show()\n",
    "print('S-TPV Best Threshold=%f, F-Score=%.3f' % (thresholds[ix], fscore[ix]))"
   ]
  },
  {
   "cell_type": "code",
   "execution_count": 91,
   "metadata": {},
   "outputs": [
    {
     "data": {
      "text/plain": [
       "<matplotlib.lines.Line2D at 0x7fbce43fc880>"
      ]
     },
     "execution_count": 91,
     "metadata": {},
     "output_type": "execute_result"
    },
    {
     "data": {
      "image/png": "[encoded data removed]",
      "text/plain": [
       "<Figure size 432x288 with 1 Axes>"
      ]
     },
     "metadata": {
      "needs_background": "light"
     },
     "output_type": "display_data"
    }
   ],
   "source": [
    "plt.scatter(results['MC_pred'],results['SD'])\n",
    "plt.axhline(y=(1-0.908668), color='g', linestyle='-')\n",
    "plt.axhline(y=(1-0.944950), color='r', linestyle='-')\n",
    "plt.axvline(x=0.31, color='y', linestyle='-')"
   ]
  },
  {
   "cell_type": "code",
   "execution_count": 58,
   "metadata": {},
   "outputs": [
    {
     "data": {
      "text/plain": [
       "0.09133199999999997"
      ]
     },
     "execution_count": 58,
     "metadata": {},
     "output_type": "execute_result"
    }
   ],
   "source": [
    "1-0.908668"
   ]
  },
  {
   "cell_type": "code",
   "execution_count": 78,
   "metadata": {},
   "outputs": [],
   "source": [
    "model_trust_metric=results['pred']*results['SD']"
   ]
  },
  {
   "cell_type": "code",
   "execution_count": 80,
   "metadata": {},
   "outputs": [],
   "source": [
    "model_trust_metric=model_trust_metric*-1"
   ]
  },
  {
   "cell_type": "code",
   "execution_count": 90,
   "metadata": {},
   "outputs": [
    {
     "data": {
      "text/plain": [
       "<matplotlib.lines.Line2D at 0x7fbce449c4c0>"
      ]
     },
     "execution_count": 90,
     "metadata": {},
     "output_type": "execute_result"
    },
    {
     "data": {
      "image/png": "[encoded data removed]",
      "text/plain": [
       "<Figure size 432x288 with 1 Axes>"
      ]
     },
     "metadata": {
      "needs_background": "light"
     },
     "output_type": "display_data"
    }
   ],
   "source": [
    "plt.scatter(results['MC_pred'],1-model_trust_metric)\n",
    "plt.axhline(y=1+0.057718, color='g', linestyle='-')\n",
    "plt.axhline(y=1+0.020151, color='r', linestyle='-')\n",
    "plt.axvline(x=0.31, color='y', linestyle='-')"
   ]
  },
  {
   "cell_type": "code",
   "execution_count": 81,
   "metadata": {},
   "outputs": [
    {
     "name": "stdout",
     "output_type": "stream",
     "text": [
      "Area under ROC curve is:  0.7630214291161442\n"
     ]
    },
    {
     "data": {
      "image/png": "[encoded data removed]",
      "text/plain": [
       "<Figure size 432x288 with 1 Axes>"
      ]
     },
     "metadata": {
      "needs_background": "light"
     },
     "output_type": "display_data"
    },
    {
     "name": "stdout",
     "output_type": "stream",
     "text": [
      "Accuracy with standard threshold:  0.2520107238605898\n",
      "S-E Best Threshold=-0.020151, G-Mean=0.743\n",
      "Accuracy with adjusted threshold:  0.7345844504021448\n",
      "Sensitivity:  0.7275985663082437\n",
      "Specificity:  0.7553191489361702\n",
      "PPV:  0.8982300884955752\n",
      "NPV:  0.48299319727891155\n"
     ]
    },
    {
     "data": {
      "image/png": "[encoded data removed]",
      "text/plain": [
       "<Figure size 432x288 with 1 Axes>"
      ]
     },
     "metadata": {
      "needs_background": "light"
     },
     "output_type": "display_data"
    },
    {
     "name": "stdout",
     "output_type": "stream",
     "text": [
      "S-TPV Best Threshold=-0.057718, F-Score=0.862\n"
     ]
    }
   ],
   "source": [
    "auc=roc_auc_score(results[\"Acierto\"], model_trust_metric)\n",
    "print(\"Area under ROC curve is: \",auc)\n",
    "# calculate roc curves\n",
    "fpr, tpr, thresholds = roc_curve(results[\"Acierto\"], model_trust_metric, drop_intermediate=True)\n",
    "# calculate the g-mean for each threshold\n",
    "gmeans = sqrt(tpr * (1-fpr))\n",
    "# locate the index of the largest g-mean\n",
    "ix = np.argmax(gmeans)\n",
    "# plot the roc curve for the model\n",
    "pyplot.plot([0,1], [0,1], linestyle='--', label='No Skill')\n",
    "pyplot.plot(fpr, tpr, marker='.', label='Model: AUC %.3f' % auc)\n",
    "\n",
    "# axis labels\n",
    "pyplot.xlabel('False Positive Rate')\n",
    "pyplot.ylabel('True Positive Rate')\n",
    "pyplot.legend()\n",
    "# show the plot\n",
    "pyplot.title(\"Receiver-Operating-Characteristic curve\")\n",
    "pyplot.show()\n",
    "print(\"Accuracy with standard threshold: \",accuracy_score(results[\"Acierto\"], \n",
    "                                                          (1*np.asarray(tf.greater(model_trust_metric, 0.5)))))\n",
    "print('S-E Best Threshold=%f, G-Mean=%.3f' % (thresholds[ix], gmeans[ix]))\n",
    "print(\"Accuracy with adjusted threshold: \",accuracy_score(results[\"Acierto\"], \n",
    "                                                          (1*np.asarray(tf.greater(model_trust_metric, -0.020151)))))\n",
    "tn, fp, fn, tp = confusion_matrix(results[\"Acierto\"], \n",
    "                                        (1*np.asarray(tf.greater(model_trust_metric, -0.020151)))).ravel()\n",
    "sens=tp/(tp+fn)\n",
    "print(\"Sensitivity: \",sens)\n",
    "spec=tn/(fp+tn)\n",
    "print(\"Specificity: \", spec)\n",
    "tpv=tp/(tp+fp)\n",
    "print(\"PPV: \", tpv)\n",
    "fpv=tn/(fn+tn)\n",
    "print(\"NPV: \", fpv)\n",
    "# calculate pr curves\n",
    "precision, recall, thresholds = precision_recall_curve(results[\"Acierto\"], model_trust_metric)\n",
    "# convert to f score\n",
    "fscore = (2 * precision * recall) / (precision + recall)\n",
    "# locate the index of the largest f score\n",
    "ix = argmax(fscore)\n",
    "# plot the pr curve for the model\n",
    "pyplot.plot(recall, precision, marker='.', label='Model')\n",
    "pyplot.scatter(recall[ix], precision[ix], marker='o', color='black', label='Best')\n",
    "# axis labels\n",
    "pyplot.xlabel('Recall')\n",
    "pyplot.ylabel('Precision')\n",
    "pyplot.legend()\n",
    "# show the plot\n",
    "pyplot.title(\"Precision-Recall curve\")\n",
    "pyplot.show()\n",
    "print('S-TPV Best Threshold=%f, F-Score=%.3f' % (thresholds[ix], fscore[ix]))"
   ]
  },
  {
   "cell_type": "markdown",
   "metadata": {},
   "source": [
    "## Table 1"
   ]
  },
  {
   "cell_type": "code",
   "execution_count": 5,
   "metadata": {},
   "outputs": [],
   "source": [
    "from tableone import TableOne, load_dataset"
   ]
  },
  {
   "cell_type": "code",
   "execution_count": 6,
   "metadata": {},
   "outputs": [
    {
     "name": "stderr",
     "output_type": "stream",
     "text": [
      "/autofs/space/celer_001/users/software/miniconda3/envs/DL/lib/python3.8/site-packages/ipykernel/ipkernel.py:287: DeprecationWarning: `should_run_async` will not call `transform_cell` automatically in the future. Please pass the result to `transformed_cell` argument and any exception that happen during thetransform in `preprocessing_exc_tuple` in IPython 7.17 and above.\n",
      "  and should_run_async(code)\n"
     ]
    },
    {
     "data": {
      "text/html": [
       "<div>\n",
       "<style scoped>\n",
       "    .dataframe tbody tr th:only-of-type {\n",
       "        vertical-align: middle;\n",
       "    }\n",
       "\n",
       "    .dataframe tbody tr th {\n",
       "        vertical-align: top;\n",
       "    }\n",
       "\n",
       "    .dataframe thead th {\n",
       "        text-align: right;\n",
       "    }\n",
       "</style>\n",
       "<table border=\"1\" class=\"dataframe\">\n",
       "  <thead>\n",
       "    <tr style=\"text-align: right;\">\n",
       "      <th></th>\n",
       "      <th>Conversion</th>\n",
       "      <th>MC_pred</th>\n",
       "      <th>SD</th>\n",
       "      <th>days_to_conv</th>\n",
       "      <th>MMSE</th>\n",
       "      <th>pred</th>\n",
       "      <th>Followup</th>\n",
       "      <th>Followup_years</th>\n",
       "      <th>Gender</th>\n",
       "      <th>Age</th>\n",
       "      <th>Cohort</th>\n",
       "      <th>Education_years</th>\n",
       "      <th>APOE4</th>\n",
       "      <th>MMSE_dem</th>\n",
       "      <th>MOCA</th>\n",
       "    </tr>\n",
       "  </thead>\n",
       "  <tbody>\n",
       "    <tr>\n",
       "      <th>041_S_1418</th>\n",
       "      <td>sMCI</td>\n",
       "      <td>0.201659</td>\n",
       "      <td>0.054424</td>\n",
       "      <td>NaN</td>\n",
       "      <td>NaN</td>\n",
       "      <td>0.218482</td>\n",
       "      <td>3658.0</td>\n",
       "      <td>10.021918</td>\n",
       "      <td>Male</td>\n",
       "      <td>81.5</td>\n",
       "      <td>ADNI1</td>\n",
       "      <td>12.0</td>\n",
       "      <td>0.0</td>\n",
       "      <td>29.0</td>\n",
       "      <td>NaN</td>\n",
       "    </tr>\n",
       "    <tr>\n",
       "      <th>041_S_0679</th>\n",
       "      <td>sMCI</td>\n",
       "      <td>0.145866</td>\n",
       "      <td>0.048478</td>\n",
       "      <td>NaN</td>\n",
       "      <td>NaN</td>\n",
       "      <td>0.152578</td>\n",
       "      <td>5673.0</td>\n",
       "      <td>15.542466</td>\n",
       "      <td>Male</td>\n",
       "      <td>62.9</td>\n",
       "      <td>ADNI1</td>\n",
       "      <td>18.0</td>\n",
       "      <td>0.0</td>\n",
       "      <td>29.0</td>\n",
       "      <td>NaN</td>\n",
       "    </tr>\n",
       "    <tr>\n",
       "      <th>021_S_0178</th>\n",
       "      <td>sMCI</td>\n",
       "      <td>0.260914</td>\n",
       "      <td>0.091332</td>\n",
       "      <td>NaN</td>\n",
       "      <td>NaN</td>\n",
       "      <td>0.252711</td>\n",
       "      <td>5521.0</td>\n",
       "      <td>15.126027</td>\n",
       "      <td>Male</td>\n",
       "      <td>64.8</td>\n",
       "      <td>ADNI1</td>\n",
       "      <td>20.0</td>\n",
       "      <td>0.0</td>\n",
       "      <td>29.0</td>\n",
       "      <td>NaN</td>\n",
       "    </tr>\n",
       "    <tr>\n",
       "      <th>003_S_0908</th>\n",
       "      <td>sMCI</td>\n",
       "      <td>0.083336</td>\n",
       "      <td>0.023164</td>\n",
       "      <td>NaN</td>\n",
       "      <td>30.0</td>\n",
       "      <td>0.084422</td>\n",
       "      <td>5494.0</td>\n",
       "      <td>15.052055</td>\n",
       "      <td>Female</td>\n",
       "      <td>62.9</td>\n",
       "      <td>ADNI1</td>\n",
       "      <td>16.0</td>\n",
       "      <td>0.0</td>\n",
       "      <td>NaN</td>\n",
       "      <td>NaN</td>\n",
       "    </tr>\n",
       "    <tr>\n",
       "      <th>003_S_1122</th>\n",
       "      <td>sMCI</td>\n",
       "      <td>0.216492</td>\n",
       "      <td>0.054589</td>\n",
       "      <td>NaN</td>\n",
       "      <td>26.0</td>\n",
       "      <td>0.214708</td>\n",
       "      <td>5423.0</td>\n",
       "      <td>14.857534</td>\n",
       "      <td>Female</td>\n",
       "      <td>76.6</td>\n",
       "      <td>ADNI1</td>\n",
       "      <td>14.0</td>\n",
       "      <td>0.0</td>\n",
       "      <td>26.0</td>\n",
       "      <td>17.0</td>\n",
       "    </tr>\n",
       "    <tr>\n",
       "      <th>...</th>\n",
       "      <td>...</td>\n",
       "      <td>...</td>\n",
       "      <td>...</td>\n",
       "      <td>...</td>\n",
       "      <td>...</td>\n",
       "      <td>...</td>\n",
       "      <td>...</td>\n",
       "      <td>...</td>\n",
       "      <td>...</td>\n",
       "      <td>...</td>\n",
       "      <td>...</td>\n",
       "      <td>...</td>\n",
       "      <td>...</td>\n",
       "      <td>...</td>\n",
       "      <td>...</td>\n",
       "    </tr>\n",
       "    <tr>\n",
       "      <th>016_S_6939</th>\n",
       "      <td>sMCI</td>\n",
       "      <td>0.552913</td>\n",
       "      <td>0.067572</td>\n",
       "      <td>NaN</td>\n",
       "      <td>NaN</td>\n",
       "      <td>0.558967</td>\n",
       "      <td>NaN</td>\n",
       "      <td>0.000000</td>\n",
       "      <td>Male</td>\n",
       "      <td>73.5</td>\n",
       "      <td>ADNI3</td>\n",
       "      <td>17.0</td>\n",
       "      <td>NaN</td>\n",
       "      <td>29.0</td>\n",
       "      <td>22.0</td>\n",
       "    </tr>\n",
       "    <tr>\n",
       "      <th>037_S_6627</th>\n",
       "      <td>sMCI</td>\n",
       "      <td>0.231582</td>\n",
       "      <td>0.039356</td>\n",
       "      <td>NaN</td>\n",
       "      <td>NaN</td>\n",
       "      <td>0.235761</td>\n",
       "      <td>0.0</td>\n",
       "      <td>0.000000</td>\n",
       "      <td>Female</td>\n",
       "      <td>67.7</td>\n",
       "      <td>ADNI3</td>\n",
       "      <td>14.0</td>\n",
       "      <td>2.0</td>\n",
       "      <td>25.0</td>\n",
       "      <td>NaN</td>\n",
       "    </tr>\n",
       "    <tr>\n",
       "      <th>127_S_1210</th>\n",
       "      <td>sMCI</td>\n",
       "      <td>0.897105</td>\n",
       "      <td>0.036924</td>\n",
       "      <td>NaN</td>\n",
       "      <td>NaN</td>\n",
       "      <td>0.905659</td>\n",
       "      <td>NaN</td>\n",
       "      <td>0.000000</td>\n",
       "      <td>Male</td>\n",
       "      <td>74.2</td>\n",
       "      <td>ADNI1</td>\n",
       "      <td>17.0</td>\n",
       "      <td>0.0</td>\n",
       "      <td>30.0</td>\n",
       "      <td>NaN</td>\n",
       "    </tr>\n",
       "    <tr>\n",
       "      <th>013_S_6206</th>\n",
       "      <td>sMCI</td>\n",
       "      <td>0.100928</td>\n",
       "      <td>0.036040</td>\n",
       "      <td>NaN</td>\n",
       "      <td>NaN</td>\n",
       "      <td>0.099617</td>\n",
       "      <td>0.0</td>\n",
       "      <td>0.000000</td>\n",
       "      <td>Male</td>\n",
       "      <td>81.9</td>\n",
       "      <td>ADNI3</td>\n",
       "      <td>16.0</td>\n",
       "      <td>1.0</td>\n",
       "      <td>30.0</td>\n",
       "      <td>25.0</td>\n",
       "    </tr>\n",
       "    <tr>\n",
       "      <th>016_S_0590</th>\n",
       "      <td>sMCI</td>\n",
       "      <td>0.680591</td>\n",
       "      <td>0.085001</td>\n",
       "      <td>NaN</td>\n",
       "      <td>NaN</td>\n",
       "      <td>0.715381</td>\n",
       "      <td>NaN</td>\n",
       "      <td>0.000000</td>\n",
       "      <td>Female</td>\n",
       "      <td>78.1</td>\n",
       "      <td>ADNI1</td>\n",
       "      <td>18.0</td>\n",
       "      <td>1.0</td>\n",
       "      <td>27.0</td>\n",
       "      <td>NaN</td>\n",
       "    </tr>\n",
       "  </tbody>\n",
       "</table>\n",
       "<p>373 rows × 15 columns</p>\n",
       "</div>"
      ],
      "text/plain": [
       "           Conversion   MC_pred        SD  days_to_conv  MMSE      pred  \\\n",
       "041_S_1418       sMCI  0.201659  0.054424           NaN   NaN  0.218482   \n",
       "041_S_0679       sMCI  0.145866  0.048478           NaN   NaN  0.152578   \n",
       "021_S_0178       sMCI  0.260914  0.091332           NaN   NaN  0.252711   \n",
       "003_S_0908       sMCI  0.083336  0.023164           NaN  30.0  0.084422   \n",
       "003_S_1122       sMCI  0.216492  0.054589           NaN  26.0  0.214708   \n",
       "...               ...       ...       ...           ...   ...       ...   \n",
       "016_S_6939       sMCI  0.552913  0.067572           NaN   NaN  0.558967   \n",
       "037_S_6627       sMCI  0.231582  0.039356           NaN   NaN  0.235761   \n",
       "127_S_1210       sMCI  0.897105  0.036924           NaN   NaN  0.905659   \n",
       "013_S_6206       sMCI  0.100928  0.036040           NaN   NaN  0.099617   \n",
       "016_S_0590       sMCI  0.680591  0.085001           NaN   NaN  0.715381   \n",
       "\n",
       "            Followup  Followup_years  Gender   Age Cohort  Education_years  \\\n",
       "041_S_1418    3658.0       10.021918    Male  81.5  ADNI1             12.0   \n",
       "041_S_0679    5673.0       15.542466    Male  62.9  ADNI1             18.0   \n",
       "021_S_0178    5521.0       15.126027    Male  64.8  ADNI1             20.0   \n",
       "003_S_0908    5494.0       15.052055  Female  62.9  ADNI1             16.0   \n",
       "003_S_1122    5423.0       14.857534  Female  76.6  ADNI1             14.0   \n",
       "...              ...             ...     ...   ...    ...              ...   \n",
       "016_S_6939       NaN        0.000000    Male  73.5  ADNI3             17.0   \n",
       "037_S_6627       0.0        0.000000  Female  67.7  ADNI3             14.0   \n",
       "127_S_1210       NaN        0.000000    Male  74.2  ADNI1             17.0   \n",
       "013_S_6206       0.0        0.000000    Male  81.9  ADNI3             16.0   \n",
       "016_S_0590       NaN        0.000000  Female  78.1  ADNI1             18.0   \n",
       "\n",
       "            APOE4  MMSE_dem  MOCA  \n",
       "041_S_1418    0.0      29.0   NaN  \n",
       "041_S_0679    0.0      29.0   NaN  \n",
       "021_S_0178    0.0      29.0   NaN  \n",
       "003_S_0908    0.0       NaN   NaN  \n",
       "003_S_1122    0.0      26.0  17.0  \n",
       "...           ...       ...   ...  \n",
       "016_S_6939    NaN      29.0  22.0  \n",
       "037_S_6627    2.0      25.0   NaN  \n",
       "127_S_1210    0.0      30.0   NaN  \n",
       "013_S_6206    1.0      30.0  25.0  \n",
       "016_S_0590    1.0      27.0   NaN  \n",
       "\n",
       "[373 rows x 15 columns]"
      ]
     },
     "execution_count": 6,
     "metadata": {},
     "output_type": "execute_result"
    }
   ],
   "source": [
    "results"
   ]
  },
  {
   "cell_type": "code",
   "execution_count": null,
   "metadata": {},
   "outputs": [],
   "source": [
    "cols=[\"1\",\"2\"]"
   ]
  },
  {
   "cell_type": "code",
   "execution_count": 7,
   "metadata": {},
   "outputs": [
    {
     "name": "stderr",
     "output_type": "stream",
     "text": [
      "/autofs/space/celer_001/users/software/miniconda3/envs/DL/lib/python3.8/site-packages/ipykernel/ipkernel.py:287: DeprecationWarning: `should_run_async` will not call `transform_cell` automatically in the future. Please pass the result to `transformed_cell` argument and any exception that happen during thetransform in `preprocessing_exc_tuple` in IPython 7.17 and above.\n",
      "  and should_run_async(code)\n"
     ]
    }
   ],
   "source": [
    "cols= ['Age', 'Education_years','Gender', 'APOE4', 'Followup_years','MMSE_dem','MOCA','days_to_conv']"
   ]
  },
  {
   "cell_type": "code",
   "execution_count": 8,
   "metadata": {},
   "outputs": [
    {
     "name": "stderr",
     "output_type": "stream",
     "text": [
      "/autofs/space/celer_001/users/software/miniconda3/envs/DL/lib/python3.8/site-packages/ipykernel/ipkernel.py:287: DeprecationWarning: `should_run_async` will not call `transform_cell` automatically in the future. Please pass the result to `transformed_cell` argument and any exception that happen during thetransform in `preprocessing_exc_tuple` in IPython 7.17 and above.\n",
      "  and should_run_async(code)\n"
     ]
    }
   ],
   "source": [
    "cats = ['Gender', 'APOE4']"
   ]
  },
  {
   "cell_type": "code",
   "execution_count": 12,
   "metadata": {},
   "outputs": [
    {
     "name": "stderr",
     "output_type": "stream",
     "text": [
      "/autofs/space/celer_001/users/software/miniconda3/envs/DL/lib/python3.8/site-packages/ipykernel/ipkernel.py:287: DeprecationWarning: `should_run_async` will not call `transform_cell` automatically in the future. Please pass the result to `transformed_cell` argument and any exception that happen during thetransform in `preprocessing_exc_tuple` in IPython 7.17 and above.\n",
      "  and should_run_async(code)\n"
     ]
    }
   ],
   "source": [
    "group = 'Conversion'\n",
    "nn= ['Followup_years','MMSE_dem','MMSE','days_to_conv']"
   ]
  },
  {
   "cell_type": "code",
   "execution_count": 13,
   "metadata": {},
   "outputs": [
    {
     "name": "stderr",
     "output_type": "stream",
     "text": [
      "/autofs/space/celer_001/users/software/miniconda3/envs/DL/lib/python3.8/site-packages/ipykernel/ipkernel.py:287: DeprecationWarning: `should_run_async` will not call `transform_cell` automatically in the future. Please pass the result to `transformed_cell` argument and any exception that happen during thetransform in `preprocessing_exc_tuple` in IPython 7.17 and above.\n",
      "  and should_run_async(code)\n",
      "/autofs/space/celer_001/users/software/miniconda3/envs/DL/lib/python3.8/site-packages/tableone/tableone.py:1217: UserWarning: No P-Value was computed for days_to_conv due to the low number of observations.\n",
      "  warnings.warn(msg)\n",
      "/autofs/space/celer_001/users/software/miniconda3/envs/DL/lib/python3.8/site-packages/numpy/lib/nanfunctions.py:1670: RuntimeWarning: Degrees of freedom <= 0 for slice.\n",
      "  var = nanvar(a, axis=axis, dtype=dtype, out=out, ddof=ddof,\n",
      "/autofs/space/celer_001/users/software/miniconda3/envs/DL/lib/python3.8/site-packages/numpy/lib/nanfunctions.py:1374: RuntimeWarning: All-NaN slice encountered\n",
      "  r, k = function_base._ureduce(\n",
      "/autofs/space/celer_001/users/software/miniconda3/envs/DL/lib/python3.8/site-packages/numpy/lib/nanfunctions.py:1374: RuntimeWarning: All-NaN slice encountered\n",
      "  r, k = function_base._ureduce(\n",
      "/autofs/space/celer_001/users/software/miniconda3/envs/DL/lib/python3.8/site-packages/numpy/lib/nanfunctions.py:1119: RuntimeWarning: All-NaN slice encountered\n",
      "  r, k = function_base._ureduce(a, func=_nanmedian, axis=axis, out=out,\n",
      "/autofs/space/celer_001/users/software/miniconda3/envs/DL/lib/python3.8/site-packages/numpy/lib/nanfunctions.py:1374: RuntimeWarning: All-NaN slice encountered\n",
      "  r, k = function_base._ureduce(\n"
     ]
    }
   ],
   "source": [
    "mytable = TableOne(results, columns=cols, categorical=cats,\n",
    "                   groupby=group, pval=True,dip_test=True, normal_test=True, tukey_test=True,htest_name=True,\n",
    "                  nonnormal=nn)"
   ]
  },
  {
   "cell_type": "code",
   "execution_count": 14,
   "metadata": {},
   "outputs": [
    {
     "name": "stderr",
     "output_type": "stream",
     "text": [
      "/autofs/space/celer_001/users/software/miniconda3/envs/DL/lib/python3.8/site-packages/ipykernel/ipkernel.py:287: DeprecationWarning: `should_run_async` will not call `transform_cell` automatically in the future. Please pass the result to `transformed_cell` argument and any exception that happen during thetransform in `preprocessing_exc_tuple` in IPython 7.17 and above.\n",
      "  and should_run_async(code)\n"
     ]
    },
    {
     "data": {
      "text/html": [
       "<div>\n",
       "<style scoped>\n",
       "    .dataframe tbody tr th:only-of-type {\n",
       "        vertical-align: middle;\n",
       "    }\n",
       "\n",
       "    .dataframe tbody tr th {\n",
       "        vertical-align: top;\n",
       "    }\n",
       "\n",
       "    .dataframe thead tr th {\n",
       "        text-align: left;\n",
       "    }\n",
       "</style>\n",
       "<table border=\"1\" class=\"dataframe\">\n",
       "  <thead>\n",
       "    <tr>\n",
       "      <th></th>\n",
       "      <th></th>\n",
       "      <th colspan=\"6\" halign=\"left\">Grouped by Conversion</th>\n",
       "    </tr>\n",
       "    <tr>\n",
       "      <th></th>\n",
       "      <th></th>\n",
       "      <th>Missing</th>\n",
       "      <th>Overall</th>\n",
       "      <th>pMCI</th>\n",
       "      <th>sMCI</th>\n",
       "      <th>P-Value</th>\n",
       "      <th>Test</th>\n",
       "    </tr>\n",
       "  </thead>\n",
       "  <tbody>\n",
       "    <tr>\n",
       "      <th>n</th>\n",
       "      <th></th>\n",
       "      <td></td>\n",
       "      <td>373</td>\n",
       "      <td>106</td>\n",
       "      <td>267</td>\n",
       "      <td></td>\n",
       "      <td></td>\n",
       "    </tr>\n",
       "    <tr>\n",
       "      <th>Age, mean (SD)</th>\n",
       "      <th></th>\n",
       "      <td>0</td>\n",
       "      <td>73.4 (7.5)</td>\n",
       "      <td>74.7 (7.3)</td>\n",
       "      <td>72.9 (7.5)</td>\n",
       "      <td>0.039</td>\n",
       "      <td>Two Sample T-test</td>\n",
       "    </tr>\n",
       "    <tr>\n",
       "      <th>Education_years, mean (SD)</th>\n",
       "      <th></th>\n",
       "      <td>9</td>\n",
       "      <td>16.0 (2.7)</td>\n",
       "      <td>16.0 (2.7)</td>\n",
       "      <td>15.9 (2.7)</td>\n",
       "      <td>0.797</td>\n",
       "      <td>Two Sample T-test</td>\n",
       "    </tr>\n",
       "    <tr>\n",
       "      <th rowspan=\"2\" valign=\"top\">Gender, n (%)</th>\n",
       "      <th>Female</th>\n",
       "      <td>0</td>\n",
       "      <td>138 (37.0)</td>\n",
       "      <td>33 (31.1)</td>\n",
       "      <td>105 (39.3)</td>\n",
       "      <td>0.174</td>\n",
       "      <td>Chi-squared</td>\n",
       "    </tr>\n",
       "    <tr>\n",
       "      <th>Male</th>\n",
       "      <td></td>\n",
       "      <td>235 (63.0)</td>\n",
       "      <td>73 (68.9)</td>\n",
       "      <td>162 (60.7)</td>\n",
       "      <td></td>\n",
       "      <td></td>\n",
       "    </tr>\n",
       "    <tr>\n",
       "      <th rowspan=\"3\" valign=\"top\">APOE4, n (%)</th>\n",
       "      <th>0.0</th>\n",
       "      <td>46</td>\n",
       "      <td>169 (51.7)</td>\n",
       "      <td>38 (36.5)</td>\n",
       "      <td>131 (58.7)</td>\n",
       "      <td>0.001</td>\n",
       "      <td>Chi-squared</td>\n",
       "    </tr>\n",
       "    <tr>\n",
       "      <th>1.0</th>\n",
       "      <td></td>\n",
       "      <td>124 (37.9)</td>\n",
       "      <td>50 (48.1)</td>\n",
       "      <td>74 (33.2)</td>\n",
       "      <td></td>\n",
       "      <td></td>\n",
       "    </tr>\n",
       "    <tr>\n",
       "      <th>2.0</th>\n",
       "      <td></td>\n",
       "      <td>34 (10.4)</td>\n",
       "      <td>16 (15.4)</td>\n",
       "      <td>18 (8.1)</td>\n",
       "      <td></td>\n",
       "      <td></td>\n",
       "    </tr>\n",
       "    <tr>\n",
       "      <th>Followup_years, median [Q1,Q3]</th>\n",
       "      <th></th>\n",
       "      <td>0</td>\n",
       "      <td>2.7 [1.2,4.8]</td>\n",
       "      <td>4.6 [3.0,7.1]</td>\n",
       "      <td>2.1 [1.0,3.2]</td>\n",
       "      <td>&lt;0.001</td>\n",
       "      <td>Kruskal-Wallis</td>\n",
       "    </tr>\n",
       "    <tr>\n",
       "      <th>MMSE_dem, median [Q1,Q3]</th>\n",
       "      <th></th>\n",
       "      <td>30</td>\n",
       "      <td>28.0 [26.0,29.0]</td>\n",
       "      <td>27.0 [25.0,28.0]</td>\n",
       "      <td>28.0 [26.0,29.0]</td>\n",
       "      <td>&lt;0.001</td>\n",
       "      <td>Kruskal-Wallis</td>\n",
       "    </tr>\n",
       "    <tr>\n",
       "      <th>MOCA, mean (SD)</th>\n",
       "      <th></th>\n",
       "      <td>181</td>\n",
       "      <td>22.6 (3.6)</td>\n",
       "      <td>18.5 (4.6)</td>\n",
       "      <td>22.9 (3.3)</td>\n",
       "      <td>0.002</td>\n",
       "      <td>Two Sample T-test</td>\n",
       "    </tr>\n",
       "    <tr>\n",
       "      <th>days_to_conv, median [Q1,Q3]</th>\n",
       "      <th></th>\n",
       "      <td>267</td>\n",
       "      <td>731.0 [405.5,1411.0]</td>\n",
       "      <td>731.0 [405.5,1411.0]</td>\n",
       "      <td>nan [nan,nan]</td>\n",
       "      <td>nan</td>\n",
       "      <td>Not tested</td>\n",
       "    </tr>\n",
       "  </tbody>\n",
       "</table>\n",
       "</div><br />[1] Hartigan's Dip Test reports possible\n",
       "                                  multimodal distributions for: Education_years, Followup_years, MMSE_dem, MOCA, days_to_conv.<br />[2] Normality test reports non-normal\n",
       "                                  distributions for: Followup_years, MMSE_dem, days_to_conv.<br />[3] Tukey test indicates far outliers\n",
       "                                  in: Followup_years.<br />"
      ],
      "text/plain": [
       "                                      Grouped by Conversion                                                                                         \n",
       "                                                    Missing               Overall                  pMCI              sMCI P-Value               Test\n",
       "n                                                                             373                   106               267                           \n",
       "Age, mean (SD)                                            0            73.4 (7.5)            74.7 (7.3)        72.9 (7.5)   0.039  Two Sample T-test\n",
       "Education_years, mean (SD)                                9            16.0 (2.7)            16.0 (2.7)        15.9 (2.7)   0.797  Two Sample T-test\n",
       "Gender, n (%)                  Female                     0            138 (37.0)             33 (31.1)        105 (39.3)   0.174        Chi-squared\n",
       "                               Male                                    235 (63.0)             73 (68.9)        162 (60.7)                           \n",
       "APOE4, n (%)                   0.0                       46            169 (51.7)             38 (36.5)        131 (58.7)   0.001        Chi-squared\n",
       "                               1.0                                     124 (37.9)             50 (48.1)         74 (33.2)                           \n",
       "                               2.0                                      34 (10.4)             16 (15.4)          18 (8.1)                           \n",
       "Followup_years, median [Q1,Q3]                            0         2.7 [1.2,4.8]         4.6 [3.0,7.1]     2.1 [1.0,3.2]  <0.001     Kruskal-Wallis\n",
       "MMSE_dem, median [Q1,Q3]                                 30      28.0 [26.0,29.0]      27.0 [25.0,28.0]  28.0 [26.0,29.0]  <0.001     Kruskal-Wallis\n",
       "MOCA, mean (SD)                                         181            22.6 (3.6)            18.5 (4.6)        22.9 (3.3)   0.002  Two Sample T-test\n",
       "days_to_conv, median [Q1,Q3]                            267  731.0 [405.5,1411.0]  731.0 [405.5,1411.0]     nan [nan,nan]     nan         Not tested\n",
       "[1] Hartigan's Dip Test reports possible\n",
       "                                  multimodal distributions for: Education_years, Followup_years, MMSE_dem, MOCA, days_to_conv.\n",
       "[2] Normality test reports non-normal\n",
       "                                  distributions for: Followup_years, MMSE_dem, days_to_conv.\n",
       "[3] Tukey test indicates far outliers\n",
       "                                  in: Followup_years."
      ]
     },
     "execution_count": 14,
     "metadata": {},
     "output_type": "execute_result"
    }
   ],
   "source": [
    "mytable"
   ]
  },
  {
   "cell_type": "code",
   "execution_count": null,
   "metadata": {},
   "outputs": [],
   "source": []
  }
 ],
 "metadata": {
  "kernelspec": {
   "display_name": "Python 3",
   "language": "python",
   "name": "python3"
  },
  "language_info": {
   "codemirror_mode": {
    "name": "ipython",
    "version": 3
   },
   "file_extension": ".py",
   "mimetype": "text/x-python",
   "name": "python",
   "nbconvert_exporter": "python",
   "pygments_lexer": "ipython3",
   "version": "3.8.5"
  }
 },
 "nbformat": 4,
 "nbformat_minor": 4
}
