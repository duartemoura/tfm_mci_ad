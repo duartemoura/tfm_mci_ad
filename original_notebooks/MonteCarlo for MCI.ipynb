{
 "cells": [
  {
   "cell_type": "code",
   "execution_count": null,
   "metadata": {},
   "outputs": [],
   "source": [
    "\"\"\"Implementation of Monte Carlo Dropout, the results are fused into results dataset"
   ]
  },
  {
   "cell_type": "code",
   "execution_count": 3,
   "metadata": {},
   "outputs": [],
   "source": [
    "import tensorflow as tf\n",
    "\n",
    "import numpy as np\n",
    "import matplotlib.pyplot as plt\n",
    "import pandas as pd\n",
    "\n",
    "import nibabel\n",
    "import nibabel.processing\n",
    "import os\n",
    "from skimage.filters import threshold_otsu\n",
    "import cc3d\n",
    "import shutil\n",
    "import pickle\n",
    "import keras_tuner as kt\n",
    "import random\n",
    "from scipy import ndimage\n",
    "from tqdm.notebook import tqdm, trange\n",
    "from sklearn.metrics import roc_auc_score\n",
    "from sklearn.metrics import accuracy_score\n",
    "from sklearn.metrics import precision_score\n",
    "from sklearn.metrics import recall_score\n",
    "from sklearn.metrics import confusion_matrix\n",
    "from numpy import sqrt\n",
    "from numpy import argmax\n",
    "from sklearn.datasets import make_classification\n",
    "from sklearn.linear_model import LogisticRegression\n",
    "from sklearn.model_selection import train_test_split\n",
    "from sklearn.metrics import roc_curve\n",
    "from matplotlib import pyplot\n",
    "from sklearn.metrics import precision_recall_curve\n",
    "from tqdm.notebook import tqdm, trange\n",
    "from sklearn.metrics import ConfusionMatrixDisplay"
   ]
  },
  {
   "cell_type": "code",
   "execution_count": 4,
   "metadata": {},
   "outputs": [],
   "source": [
    "from sklearn.metrics import accuracy_score\n",
    "from sklearn.metrics import roc_auc_score"
   ]
  },
  {
   "cell_type": "code",
   "execution_count": 5,
   "metadata": {},
   "outputs": [],
   "source": [
    "#USE SMALL GPU#\n",
    "use_gpu = 1\n",
    "# The largest memory size GPU is always the first one (0) as they are sorted by size!\n",
    "gpus=tf.config.experimental.list_physical_devices('GPU')\n",
    "tf.config.experimental.set_visible_devices(gpus[use_gpu], 'GPU')"
   ]
  },
  {
   "cell_type": "code",
   "execution_count": null,
   "metadata": {},
   "outputs": [],
   "source": [
    "#Custom MC Dropout layer"
   ]
  },
  {
   "cell_type": "code",
   "execution_count": 6,
   "metadata": {},
   "outputs": [],
   "source": [
    "class MCDropout(tf.keras.layers.Dropout):\n",
    "    def call (self, inputs):\n",
    "        return super().call(inputs, training=True)"
   ]
  },
  {
   "cell_type": "code",
   "execution_count": 7,
   "metadata": {},
   "outputs": [],
   "source": [
    "#Borrowed from the 3D preprocessing\n",
    "\n",
    "def normalize(volume):\n",
    "    \"\"\"Normalize the volume\"\"\"\n",
    "    min = volume.min()\n",
    "    max = volume.max()\n",
    "    volume = (volume - min) / (max - min)\n",
    "    volume = volume.astype(\"float32\")\n",
    "    return volume\n",
    "\n",
    "def pp(original_image):\n",
    "    \n",
    "    input_img=input_img = nibabel.load(\"{0}\".format(original_image))\n",
    "    resampled_img = nibabel.processing.conform(input_img, out_shape=(100,100,90), voxel_size=(2.0, 2.0, 2.0))\n",
    "    \n",
    "    img = resampled_img.get_fdata()\n",
    "    \n",
    "    thresh = threshold_otsu(img)\n",
    "    bw_img1 = np.copy(img)\n",
    "    bw_img1[bw_img1 < thresh] = 0\n",
    "    bw_img1[bw_img1 >= thresh] = 255\n",
    "    \n",
    "    input_CCA=bw_img1.astype('int32')\n",
    "    connectivity = 6\n",
    "    labels_out, N = cc3d.connected_components(input_CCA, return_N=True)\n",
    "    \n",
    "    def mask_largest_label (labels_out, N):\n",
    "        #print(\"This function returns the largest blob of a CCA processed image as a binary mask\")\n",
    "        #print(\"\")\n",
    "        def separate_labels(label_ID, label_matrix):\n",
    "            mask=1*(label_matrix == label_ID)\n",
    "            return mask\n",
    "        labellist=[]\n",
    "        for j in range(1, N+1):\n",
    "            a=separate_labels(j, labels_out)\n",
    "            labellist.append(a)\n",
    "        #print(\"The image has {0} labels\".format(len(labellist)))\n",
    "        z=labellist[0]\n",
    "        #print(\"The shape of the labels is: {0}\".format(z.shape))\n",
    "        sizelist=[]\n",
    "        for counter,element in enumerate (labellist):\n",
    "            a=labellist[counter].sum()\n",
    "            sizelist.append(a)\n",
    "        #print(\"Label sizes: {0}\".format(sizelist))\n",
    "        sizelist=np.asarray(sizelist)\n",
    "        a=sizelist.argmax()\n",
    "        #print(\"The largest label index is: {0}\".format(a))\n",
    "        mask=labellist[a]\n",
    "        #print(\"The largest label is now a binary mask with shape {0}, size {1}, max value {2} and min value {3}\".format((mask.shape),(mask.sum()),(mask.max()),(mask.min())))\n",
    "        return mask\n",
    "\n",
    "    mask=mask_largest_label(labels_out, N)\n",
    "    \n",
    "    pimg=np.multiply(img,mask)\n",
    "    \n",
    "    return pimg\n",
    "\n",
    "def process(path):\n",
    "    \"\"\"Read and normalize volume\"\"\"\n",
    "    # Read and pp scan\n",
    "    volume = pp(path)\n",
    "    # Normalize\n",
    "    volume = normalize(volume)\n",
    "    #Prepare for NN input\n",
    "    volume = np.expand_dims(volume, axis=0)\n",
    "    volume = np.expand_dims(volume, axis=4)\n",
    "    return volume"
   ]
  },
  {
   "cell_type": "code",
   "execution_count": null,
   "metadata": {},
   "outputs": [],
   "source": [
    "#This is where I swap the last Dropout layer, which is number 19 in the model (see figure) for the MCD layer"
   ]
  },
  {
   "cell_type": "code",
   "execution_count": 8,
   "metadata": {},
   "outputs": [],
   "source": [
    "def get_montecarlo(modeldir):\n",
    "    model=tf.keras.models.load_model(modeldir)\n",
    "    x=model.layers[18].output\n",
    "    x=MCDropout(0.4)(x)\n",
    "    x=model.layers[20](x)\n",
    "    x=model.layers[21](x)\n",
    "    predictions=model.layers[22](x)\n",
    "    \n",
    "    montecarlo = tf.keras.Model(inputs=model.inputs,outputs=predictions)\n",
    "    return montecarlo"
   ]
  },
  {
   "cell_type": "code",
   "execution_count": null,
   "metadata": {},
   "outputs": [],
   "source": [
    "\"\"\"This function takes the 5 models (one trained in each fold) and makes MCD predictions for each one, 500 iterations\n",
    "Each model makes predictions in their own 20% holdout validation. At the end we build a dataset concatenating all \n",
    "predictions for each of those 20%s, getting to the full dataset. Each patient has an SD value and a MC_ensemble\n",
    "value, which is the MCD preciction that has been described to outperform \"regular\" predictions and MC mean \n",
    "predictions.\n",
    "\n",
    "Besides, it returns the whole MC accuracies."
   ]
  },
  {
   "cell_type": "code",
   "execution_count": 15,
   "metadata": {},
   "outputs": [],
   "source": [
    "def get_preds_mc(models,directories, groundts):\n",
    "    \n",
    "    montecarlo_mean_accs=[]\n",
    "    ds=0\n",
    "    allaccs=[]\n",
    "    for n in range(len(models)):\n",
    "        model=get_montecarlo(models[n])\n",
    "        dire=directories[n]\n",
    "        groundt=groundts[n]\n",
    "        \n",
    "        subjects=os.listdir(dire)\n",
    "        \n",
    "        groundl=[]\n",
    "        for i in os.listdir(dire):\n",
    "                if i in os.listdir(groundt):\n",
    "                    groundl.append(1)\n",
    "                else:\n",
    "                    groundl.append(0)\n",
    "    \n",
    "        mc_predictions = []\n",
    "        for i in tqdm(range(500),desc='MonteCarlo for fold {}'.format(n)):\n",
    "            y_p=[]\n",
    "            for i in os.listdir(dire):\n",
    "                volume=process(os.path.join(dire,'{}'.format(i)))\n",
    "                prediction=model.predict(volume)\n",
    "                y_p.append(prediction[0][0])\n",
    "            mc_predictions.append(y_p)\n",
    "        \n",
    "        accs=[]\n",
    "        for y_p in mc_predictions:\n",
    "            acc = accuracy_score(groundl,(1*np.asarray(tf.greater(y_p, 0.5))) )\n",
    "            accs.append(acc)\n",
    "        meanacc=sum(accs)/len(accs)\n",
    "        montecarlo_mean_accs.append(meanacc)\n",
    "        allaccs.append(accs)\n",
    "        \n",
    "        mc_ensemble_pred = np.array(mc_predictions).mean(axis=0)\n",
    "        \n",
    "        sd=np.array(mc_predictions).std(axis=0)\n",
    "        \n",
    "        mc_ensemble_pred=list(mc_ensemble_pred)\n",
    "        sd=list(sd)\n",
    "        \n",
    "        if n==0:\n",
    "            ds=pd.DataFrame(list(zip(groundl, mc_ensemble_pred,sd)),columns =['GT', 'MC_pred', 'SD'],index=subjects)\n",
    "        else:\n",
    "            d=pd.DataFrame(list(zip(groundl, mc_ensemble_pred,sd)),columns =['GT', 'MC_pred', 'SD'],index=subjects)\n",
    "            ds=pd.concat((ds,d),axis=0)\n",
    "\n",
    "    return montecarlo_mean_accs, ds, allaccs"
   ]
  },
  {
   "cell_type": "code",
   "execution_count": 13,
   "metadata": {},
   "outputs": [],
   "source": [
    "models= [\"/local_mount/space/celer/1/users/notebooks/moises/saved_models/newconv_originalsmallcnn0/epoch16/\",\n",
    "        \"/local_mount/space/celer/1/users/notebooks/moises/saved_models/newconv_originalsmallcnn1/epoch19\",\n",
    "        \"/local_mount/space/celer/1/users/notebooks/moises/saved_models/newconv_originalsmallcnn2/epoch17\",\n",
    "        \"/local_mount/space/celer/1/users/notebooks/moises/saved_models/newconv_originalsmallcnn3/epoch22\",\n",
    "        \"/local_mount/space/celer/1/users/notebooks/moises/saved_models/newconv_originalsmallcnn4/epoch9\"]\n",
    "directories=[\"/local_mount/space/celer/1/users/notebooks/moises/pdata/newdata/kfold2/fold1/whole\",\n",
    "            \"/local_mount/space/celer/1/users/notebooks/moises/pdata/newdata/kfold2/fold2/whole\",\n",
    "            \"/local_mount/space/celer/1/users/notebooks/moises/pdata/newdata/kfold2/fold3/whole\",\n",
    "            \"/local_mount/space/celer/1/users/notebooks/moises/pdata/newdata/kfold2/fold4/whole\",\n",
    "            \"/local_mount/space/celer/1/users/notebooks/moises/pdata/newdata/kfold2/fold5/whole\"]\n",
    "groundts=[\"/local_mount/space/celer/1/users/notebooks/moises/pdata/newdata/kfold2/fold1/pMCI\",\n",
    "         \"/local_mount/space/celer/1/users/notebooks/moises/pdata/newdata/kfold2/fold2/pMCI\",\n",
    "          \"/local_mount/space/celer/1/users/notebooks/moises/pdata/newdata/kfold2/fold3/pMCI\",\n",
    "          \"/local_mount/space/celer/1/users/notebooks/moises/pdata/newdata/kfold2/fold4/pMCI\",\n",
    "          \"/local_mount/space/celer/1/users/notebooks/moises/pdata/newdata/kfold2/fold5/pMCI\"]\n",
    "        "
   ]
  },
  {
   "cell_type": "code",
   "execution_count": 16,
   "metadata": {
    "scrolled": true
   },
   "outputs": [
    {
     "data": {
      "application/vnd.jupyter.widget-view+json": {
       "model_id": "e3acd93ec4a94b17b1b03b6e94140583",
       "version_major": 2,
       "version_minor": 0
      },
      "text/plain": [
       "MonteCarlo for fold 0:   0%|          | 0/500 [00:00<?, ?it/s]"
      ]
     },
     "metadata": {},
     "output_type": "display_data"
    },
    {
     "data": {
      "application/vnd.jupyter.widget-view+json": {
       "model_id": "9f7a3f98edb34f8f93a770a09c9a132e",
       "version_major": 2,
       "version_minor": 0
      },
      "text/plain": [
       "MonteCarlo for fold 1:   0%|          | 0/500 [00:00<?, ?it/s]"
      ]
     },
     "metadata": {},
     "output_type": "display_data"
    },
    {
     "data": {
      "application/vnd.jupyter.widget-view+json": {
       "model_id": "ea7763f8c9724c2f8f0318a6e9cd84eb",
       "version_major": 2,
       "version_minor": 0
      },
      "text/plain": [
       "MonteCarlo for fold 2:   0%|          | 0/500 [00:00<?, ?it/s]"
      ]
     },
     "metadata": {},
     "output_type": "display_data"
    },
    {
     "data": {
      "application/vnd.jupyter.widget-view+json": {
       "model_id": "9ae4a3ff5f544234b89bf621eaa89680",
       "version_major": 2,
       "version_minor": 0
      },
      "text/plain": [
       "MonteCarlo for fold 3:   0%|          | 0/500 [00:00<?, ?it/s]"
      ]
     },
     "metadata": {},
     "output_type": "display_data"
    },
    {
     "data": {
      "application/vnd.jupyter.widget-view+json": {
       "model_id": "8abadb92b8c44521b511d0edfe9c5532",
       "version_major": 2,
       "version_minor": 0
      },
      "text/plain": [
       "MonteCarlo for fold 4:   0%|          | 0/500 [00:00<?, ?it/s]"
      ]
     },
     "metadata": {},
     "output_type": "display_data"
    }
   ],
   "source": [
    "mean_accs,ds,allaccs=get_preds_mc(models,directories,groundts)"
   ]
  },
  {
   "cell_type": "code",
   "execution_count": 17,
   "metadata": {},
   "outputs": [
    {
     "data": {
      "text/plain": [
       "0.786237908037908"
      ]
     },
     "execution_count": 17,
     "metadata": {},
     "output_type": "execute_result"
    }
   ],
   "source": [
    "np.asarray(mean_accs).mean()"
   ]
  },
  {
   "cell_type": "code",
   "execution_count": 18,
   "metadata": {},
   "outputs": [],
   "source": [
    "alac=np.asarray(allaccs).flatten()"
   ]
  },
  {
   "cell_type": "code",
   "execution_count": 35,
   "metadata": {},
   "outputs": [],
   "source": [
    "np.savetxt(\"mean_accs.csv\", mean_accs, delimiter=\",\")"
   ]
  },
  {
   "cell_type": "code",
   "execution_count": 37,
   "metadata": {},
   "outputs": [],
   "source": [
    "np.savetxt(\"allaccs.csv\", allaccs, delimiter=\",\")"
   ]
  },
  {
   "cell_type": "code",
   "execution_count": 1,
   "metadata": {},
   "outputs": [
    {
     "ename": "NameError",
     "evalue": "name 'plt' is not defined",
     "output_type": "error",
     "traceback": [
      "\u001b[0;31m---------------------------------------------------------------------------\u001b[0m",
      "\u001b[0;31mNameError\u001b[0m                                 Traceback (most recent call last)",
      "\u001b[0;32m<ipython-input-1-5af0b7a06a20>\u001b[0m in \u001b[0;36m<module>\u001b[0;34m\u001b[0m\n\u001b[0;32m----> 1\u001b[0;31m \u001b[0mplt\u001b[0m\u001b[0;34m.\u001b[0m\u001b[0mhist\u001b[0m\u001b[0;34m(\u001b[0m\u001b[0malac\u001b[0m\u001b[0;34m,\u001b[0m \u001b[0mbins\u001b[0m\u001b[0;34m=\u001b[0m\u001b[0;36m10\u001b[0m\u001b[0;34m,\u001b[0m\u001b[0mcolor\u001b[0m\u001b[0;34m=\u001b[0m\u001b[0;34m'y'\u001b[0m\u001b[0;34m)\u001b[0m\u001b[0;34m\u001b[0m\u001b[0;34m\u001b[0m\u001b[0m\n\u001b[0m\u001b[1;32m      2\u001b[0m \u001b[0mplt\u001b[0m\u001b[0;34m.\u001b[0m\u001b[0maxvline\u001b[0m\u001b[0;34m(\u001b[0m\u001b[0mx\u001b[0m\u001b[0;34m=\u001b[0m\u001b[0msum\u001b[0m\u001b[0;34m(\u001b[0m\u001b[0mmean_accs\u001b[0m\u001b[0;34m)\u001b[0m\u001b[0;34m/\u001b[0m\u001b[0mlen\u001b[0m\u001b[0;34m(\u001b[0m\u001b[0mmean_accs\u001b[0m\u001b[0;34m)\u001b[0m\u001b[0;34m,\u001b[0m \u001b[0mcolor\u001b[0m\u001b[0;34m=\u001b[0m\u001b[0;34m\"r\"\u001b[0m\u001b[0;34m)\u001b[0m\u001b[0;34m\u001b[0m\u001b[0;34m\u001b[0m\u001b[0m\n\u001b[1;32m      3\u001b[0m \u001b[0mplt\u001b[0m\u001b[0;34m.\u001b[0m\u001b[0maxvline\u001b[0m\u001b[0;34m(\u001b[0m\u001b[0mx\u001b[0m\u001b[0;34m=\u001b[0m\u001b[0maccuracy_score\u001b[0m\u001b[0;34m(\u001b[0m\u001b[0mds\u001b[0m\u001b[0;34m[\u001b[0m\u001b[0;34m'GT'\u001b[0m\u001b[0;34m]\u001b[0m\u001b[0;34m,\u001b[0m \u001b[0;34m(\u001b[0m\u001b[0;36m1\u001b[0m\u001b[0;34m*\u001b[0m\u001b[0mnp\u001b[0m\u001b[0;34m.\u001b[0m\u001b[0masarray\u001b[0m\u001b[0;34m(\u001b[0m\u001b[0mtf\u001b[0m\u001b[0;34m.\u001b[0m\u001b[0mgreater\u001b[0m\u001b[0;34m(\u001b[0m\u001b[0mds\u001b[0m\u001b[0;34m[\u001b[0m\u001b[0;34m'MC_pred'\u001b[0m\u001b[0;34m]\u001b[0m\u001b[0;34m,\u001b[0m \u001b[0;36m0.5\u001b[0m\u001b[0;34m)\u001b[0m\u001b[0;34m)\u001b[0m\u001b[0;34m)\u001b[0m\u001b[0;34m)\u001b[0m\u001b[0;34m,\u001b[0m\u001b[0mcolor\u001b[0m\u001b[0;34m=\u001b[0m\u001b[0;34m'g'\u001b[0m\u001b[0;34m,\u001b[0m \u001b[0mlabel\u001b[0m\u001b[0;34m=\u001b[0m\u001b[0;34m'MonteCarlo ensemble accuracy'\u001b[0m\u001b[0;34m)\u001b[0m\u001b[0;34m\u001b[0m\u001b[0;34m\u001b[0m\u001b[0m\n",
      "\u001b[0;31mNameError\u001b[0m: name 'plt' is not defined"
     ]
    }
   ],
   "source": [
    "plt.hist(alac, bins=10,color='y')\n",
    "plt.axvline(x=sum(mean_accs)/len(mean_accs), color=\"r\")\n",
    "plt.axvline(x=accuracy_score(ds['GT'], (1*np.asarray(tf.greater(ds['MC_pred'], 0.5)))),color='g', label='MonteCarlo ensemble accuracy')"
   ]
  },
  {
   "cell_type": "code",
   "execution_count": 25,
   "metadata": {},
   "outputs": [
    {
     "name": "stdout",
     "output_type": "stream",
     "text": [
      "Area under ROC curve is:  0.8276800226132429\n"
     ]
    },
    {
     "data": {
      "image/png": "[encoded data removed]",
      "text/plain": [
       "<Figure size 432x288 with 1 Axes>"
      ]
     },
     "metadata": {
      "needs_background": "light"
     },
     "output_type": "display_data"
    },
    {
     "name": "stdout",
     "output_type": "stream",
     "text": [
      "S-E Best Threshold=0.308776, G-Mean=0.765\n",
      "Accuracy:  0.7479892761394102\n",
      "Sensitivity:  0.7924528301886793\n",
      "Specificity:  0.7303370786516854\n",
      "PPV:  0.5384615384615384\n",
      "NPV:  0.8986175115207373\n"
     ]
    }
   ],
   "source": [
    "auc=roc_auc_score(ds['GT'],ds['MC_pred'])\n",
    "print(\"Area under ROC curve is: \",auc)\n",
    "fpr, tpr, thresholds = roc_curve(ds['GT'],ds['MC_pred'], drop_intermediate=True)\n",
    "# calculate the g-mean for each threshold\n",
    "gmeans = sqrt(tpr * (1-fpr))\n",
    "# locate the index of the largest g-mean\n",
    "ix = np.argmax(gmeans)\n",
    "# plot the roc curve for the model\n",
    "pyplot.plot([0,1], [0,1], linestyle='--', label='No Skill')\n",
    "pyplot.plot(fpr, tpr, marker='.', label='Model')\n",
    "pyplot.scatter(fpr[ix], tpr[ix], marker='o', color='black', label='Best')\n",
    "# axis labels\n",
    "pyplot.xlabel('False Positive Rate')\n",
    "pyplot.ylabel('True Positive Rate')\n",
    "pyplot.legend()\n",
    "# show the plot\n",
    "pyplot.title(\"Receiver-Operating-Characteristic curve\")\n",
    "pyplot.show()\n",
    "print('S-E Best Threshold=%f, G-Mean=%.3f' % (thresholds[ix], gmeans[ix]))\n",
    "print(\"Accuracy: \",accuracy_score(ds['GT'], (1*np.asarray(tf.greater(ds['MC_pred'], 0.308776)))))\n",
    "tn, fp, fn, tp = confusion_matrix(ds['GT'], (1*np.asarray(tf.greater(ds['MC_pred'], 0.308776)))).ravel()\n",
    "sens=tp/(tp+fn)\n",
    "print(\"Sensitivity: \",sens)\n",
    "spec=tn/(fp+tn)\n",
    "print(\"Specificity: \", spec)\n",
    "tpv=tp/(tp+fp)\n",
    "print(\"PPV: \", tpv)\n",
    "fpv=tn/(fn+tn)\n",
    "print(\"NPV: \", fpv)"
   ]
  },
  {
   "cell_type": "code",
   "execution_count": 21,
   "metadata": {},
   "outputs": [
    {
     "data": {
      "image/png": "[encoded data removed]",
      "text/plain": [
       "<Figure size 432x288 with 1 Axes>"
      ]
     },
     "metadata": {
      "needs_background": "light"
     },
     "output_type": "display_data"
    },
    {
     "name": "stdout",
     "output_type": "stream",
     "text": [
      "S-TPV Best Threshold=0.308776, F-Score=0.646\n"
     ]
    },
    {
     "data": {
      "image/png": "[encoded data removed]",
      "text/plain": [
       "<Figure size 432x288 with 2 Axes>"
      ]
     },
     "metadata": {
      "needs_background": "light"
     },
     "output_type": "display_data"
    }
   ],
   "source": [
    "# calculate pr curves\n",
    "precision, recall, thresholds = precision_recall_curve(ds['GT'],ds['MC_pred'])\n",
    "# convert to f score\n",
    "fscore = (2 * precision * recall) / (precision + recall)\n",
    "# locate the index of the largest f score\n",
    "ix = argmax(fscore)\n",
    "# plot the pr curve for the model\n",
    "pyplot.plot(recall, precision, marker='.', label='Model')\n",
    "pyplot.scatter(recall[ix], precision[ix], marker='o', color='black', label='Best')\n",
    "# axis labels\n",
    "pyplot.xlabel('Recall')\n",
    "pyplot.ylabel('Precision')\n",
    "pyplot.legend()\n",
    "# show the plot\n",
    "pyplot.title(\"Precision-Recall curve\")\n",
    "pyplot.show()\n",
    "print('S-TPV Best Threshold=%f, F-Score=%.3f' % (thresholds[ix], fscore[ix]))\n",
    "\n",
    "cm = confusion_matrix(ds['GT'], (1*np.asarray(tf.greater(ds['MC_pred'], 0.314664))))\n",
    "disp = ConfusionMatrixDisplay(confusion_matrix=cm)\n",
    "disp.plot()\n",
    "pyplot.title(\"Confusion Matrix of {} patients\".format(len(ds.index)))\n",
    "pyplot.show()"
   ]
  },
  {
   "cell_type": "code",
   "execution_count": 22,
   "metadata": {},
   "outputs": [
    {
     "data": {
      "text/plain": [
       "'/local_mount/space/celer/1/users/notebooks/moises'"
      ]
     },
     "execution_count": 22,
     "metadata": {},
     "output_type": "execute_result"
    }
   ],
   "source": [
    "pwd"
   ]
  },
  {
   "cell_type": "code",
   "execution_count": null,
   "metadata": {},
   "outputs": [],
   "source": [
    "#Here we export it to excel, which would then be loaded into results"
   ]
  },
  {
   "cell_type": "code",
   "execution_count": 23,
   "metadata": {},
   "outputs": [],
   "source": [
    "ds.to_excel('mc_preds_SD500.xlsx')"
   ]
  },
  {
   "cell_type": "raw",
   "metadata": {},
   "source": []
  },
  {
   "cell_type": "markdown",
   "metadata": {},
   "source": [
    "ds"
   ]
  },
  {
   "cell_type": "code",
   "execution_count": 26,
   "metadata": {},
   "outputs": [
    {
     "data": {
      "text/plain": [
       "<matplotlib.collections.PathCollection at 0x7f7340d7c280>"
      ]
     },
     "execution_count": 26,
     "metadata": {},
     "output_type": "execute_result"
    },
    {
     "data": {
      "image/png": "[encoded data removed]",
      "text/plain": [
       "<Figure size 432x288 with 1 Axes>"
      ]
     },
     "metadata": {
      "needs_background": "light"
     },
     "output_type": "display_data"
    }
   ],
   "source": [
    "plt.scatter(ds['MC_pred'],ds['SD'])"
   ]
  },
  {
   "cell_type": "code",
   "execution_count": 29,
   "metadata": {},
   "outputs": [],
   "source": [
    "from scipy.stats import gaussian_kde"
   ]
  },
  {
   "cell_type": "code",
   "execution_count": 27,
   "metadata": {},
   "outputs": [],
   "source": [
    "x=ds['MC_pred']\n",
    "y=ds['SD']"
   ]
  },
  {
   "cell_type": "code",
   "execution_count": 30,
   "metadata": {},
   "outputs": [],
   "source": [
    "xy = np.vstack([x,y])\n",
    "z = gaussian_kde(xy)(xy)"
   ]
  },
  {
   "cell_type": "code",
   "execution_count": 31,
   "metadata": {},
   "outputs": [
    {
     "data": {
      "image/png": "[encoded data removed]",
      "text/plain": [
       "<Figure size 432x288 with 1 Axes>"
      ]
     },
     "metadata": {
      "needs_background": "light"
     },
     "output_type": "display_data"
    }
   ],
   "source": [
    "fig, ax = plt.subplots()\n",
    "ax.scatter(x, y, c=z, s=50)\n",
    "plt.show()"
   ]
  }
 ],
 "metadata": {
  "kernelspec": {
   "display_name": "Python 3",
   "language": "python",
   "name": "python3"
  },
  "language_info": {
   "codemirror_mode": {
    "name": "ipython",
    "version": 3
   },
   "file_extension": ".py",
   "mimetype": "text/x-python",
   "name": "python",
   "nbconvert_exporter": "python",
   "pygments_lexer": "ipython3",
   "version": "3.8.5"
  }
 },
 "nbformat": 4,
 "nbformat_minor": 4
}
